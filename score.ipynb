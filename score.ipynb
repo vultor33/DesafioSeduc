{
 "cells": [
  {
   "cell_type": "code",
   "execution_count": 108,
   "metadata": {},
   "outputs": [],
   "source": [
    "import pandas as pd\n",
    "from fklearn.training.regression import xgb_regression_learner\n",
    "from fklearn.training.pipeline import build_pipeline\n",
    "import numpy as np\n",
    "import collections\n",
    "from sklearn.metrics import r2_score\n",
    "from sklearn import linear_model\n",
    "from sklearn.ensemble import RandomForestRegressor\n",
    "import matplotlib.pyplot as plt"
   ]
  },
  {
   "cell_type": "code",
   "execution_count": 128,
   "metadata": {},
   "outputs": [],
   "source": [
    "df_gestor = pd.read_csv('avaliacao_gestores.csv',sep=';')\n",
    "df_gestor = df_gestor.astype(int)"
   ]
  },
  {
   "cell_type": "code",
   "execution_count": 114,
   "metadata": {},
   "outputs": [],
   "source": [
    "df_gestor = df_gestor[df_gestor.n_atuacoes >= 3]"
   ]
  },
  {
   "cell_type": "code",
   "execution_count": 133,
   "metadata": {},
   "outputs": [
    {
     "data": {
      "text/plain": [
       "count    44598.000000\n",
       "mean         6.339118\n",
       "std          7.936497\n",
       "min        -13.000000\n",
       "10%         -2.000000\n",
       "50%          6.000000\n",
       "90%         15.000000\n",
       "max         30.000000\n",
       "Name: nota_var, dtype: float64"
      ]
     },
     "execution_count": 133,
     "metadata": {},
     "output_type": "execute_result"
    }
   ],
   "source": [
    "df_gestor.nota_var.describe(percentiles=[0.1,0.9])"
   ]
  },
  {
   "cell_type": "code",
   "execution_count": 137,
   "metadata": {},
   "outputs": [],
   "source": [
    "df_gestor = df_gestor[(df_gestor.nota_var >= 15) | (df_gestor.nota_var <= -2)]"
   ]
  },
  {
   "cell_type": "code",
   "execution_count": null,
   "metadata": {},
   "outputs": [],
   "source": []
  },
  {
   "cell_type": "code",
   "execution_count": null,
   "metadata": {},
   "outputs": [],
   "source": []
  },
  {
   "cell_type": "code",
   "execution_count": 138,
   "metadata": {},
   "outputs": [
    {
     "name": "stdout",
     "output_type": "stream",
     "text": [
      "dados:   10152   treino:   8460   teste:   1692\n"
     ]
    }
   ],
   "source": [
    "# SEPARACAO ENTRE TREINO E TESTE\n",
    "dados_teste = df_gestor.sample(int(len(df_gestor)/6), replace = False)\n",
    "index_teste = dados_teste.index\n",
    "dados_treino = df_gestor.drop(index_teste)\n",
    "dados_teste = dados_teste.reset_index(drop=True)\n",
    "dados_treino = dados_treino.reset_index(drop=True)\n",
    "print('dados:  ', len(df_gestor), '  treino:  ', len(dados_treino), '  teste:  ', len(dados_teste))"
   ]
  },
  {
   "cell_type": "code",
   "execution_count": null,
   "metadata": {},
   "outputs": [],
   "source": []
  },
  {
   "cell_type": "code",
   "execution_count": null,
   "metadata": {},
   "outputs": [],
   "source": []
  },
  {
   "cell_type": "markdown",
   "metadata": {},
   "source": [
    "# CONTRUCAO DOS MODELOS"
   ]
  },
  {
   "cell_type": "code",
   "execution_count": 142,
   "metadata": {},
   "outputs": [],
   "source": [
    "reg2 = RandomForestRegressor(random_state=1, n_estimators=300)\n",
    "#reg2 = linear_model.LinearRegression()"
   ]
  },
  {
   "cell_type": "code",
   "execution_count": null,
   "metadata": {},
   "outputs": [],
   "source": []
  },
  {
   "cell_type": "code",
   "execution_count": 143,
   "metadata": {},
   "outputs": [],
   "source": [
    "dt = dados_treino.drop('id_gestor',axis = 1).copy()\n",
    "dty = dt.loc[:,'nota_var']\n",
    "dtx = dt.drop('nota_var',axis=1)"
   ]
  },
  {
   "cell_type": "code",
   "execution_count": 144,
   "metadata": {},
   "outputs": [
    {
     "data": {
      "text/plain": [
       "RandomForestRegressor(bootstrap=True, criterion='mse', max_depth=None,\n",
       "                      max_features='auto', max_leaf_nodes=None,\n",
       "                      min_impurity_decrease=0.0, min_impurity_split=None,\n",
       "                      min_samples_leaf=1, min_samples_split=2,\n",
       "                      min_weight_fraction_leaf=0.0, n_estimators=300,\n",
       "                      n_jobs=None, oob_score=False, random_state=1, verbose=0,\n",
       "                      warm_start=False)"
      ]
     },
     "execution_count": 144,
     "metadata": {},
     "output_type": "execute_result"
    }
   ],
   "source": [
    "reg2.fit(dtx,dty)"
   ]
  },
  {
   "cell_type": "code",
   "execution_count": 145,
   "metadata": {},
   "outputs": [],
   "source": [
    "dt['prediction'] = reg2.predict(dtx)"
   ]
  },
  {
   "cell_type": "code",
   "execution_count": 146,
   "metadata": {},
   "outputs": [
    {
     "data": {
      "text/plain": [
       "0.3331542020846162"
      ]
     },
     "execution_count": 146,
     "metadata": {},
     "output_type": "execute_result"
    }
   ],
   "source": [
    "r2_score(dt.nota_var, dt.prediction)"
   ]
  },
  {
   "cell_type": "code",
   "execution_count": null,
   "metadata": {},
   "outputs": [],
   "source": []
  },
  {
   "cell_type": "code",
   "execution_count": null,
   "metadata": {},
   "outputs": [],
   "source": []
  },
  {
   "cell_type": "code",
   "execution_count": 147,
   "metadata": {},
   "outputs": [],
   "source": [
    "dtes = dados_teste.drop('id_gestor',axis=1)\n",
    "dtesY = dtes.loc[:,'nota_var'].copy()\n",
    "dtesX = dtes.drop('nota_var',axis=1)"
   ]
  },
  {
   "cell_type": "code",
   "execution_count": 148,
   "metadata": {},
   "outputs": [],
   "source": [
    "dtes['prediction'] = reg2.predict(dtesX)"
   ]
  },
  {
   "cell_type": "code",
   "execution_count": 149,
   "metadata": {},
   "outputs": [
    {
     "data": {
      "text/plain": [
       "count    1692.000000\n",
       "mean        7.788496\n",
       "std         5.883979\n",
       "min       -11.739444\n",
       "25%         6.136929\n",
       "50%         7.204235\n",
       "75%        10.279153\n",
       "max        28.138393\n",
       "Name: prediction, dtype: float64"
      ]
     },
     "execution_count": 149,
     "metadata": {},
     "output_type": "execute_result"
    }
   ],
   "source": [
    "dtes.prediction.describe()"
   ]
  },
  {
   "cell_type": "code",
   "execution_count": 150,
   "metadata": {},
   "outputs": [
    {
     "data": {
      "text/plain": [
       "-0.15127824578785165"
      ]
     },
     "execution_count": 150,
     "metadata": {},
     "output_type": "execute_result"
    }
   ],
   "source": [
    "r2_score(dtes.nota_var, dtes.prediction)"
   ]
  },
  {
   "cell_type": "code",
   "execution_count": null,
   "metadata": {},
   "outputs": [],
   "source": []
  },
  {
   "cell_type": "code",
   "execution_count": null,
   "metadata": {},
   "outputs": [],
   "source": []
  },
  {
   "cell_type": "code",
   "execution_count": null,
   "metadata": {},
   "outputs": [],
   "source": []
  },
  {
   "cell_type": "code",
   "execution_count": 139,
   "metadata": {},
   "outputs": [],
   "source": [
    "AUXILIARY = ['id_gestor']\n",
    "TARGET = ['nota_var']\n",
    "FEATURES = set(df_gestor.columns) - set(AUXILIARY) - set(TARGET)\n",
    "\n",
    "my_model = xgb_regression_learner(\n",
    "    features=FEATURES,\n",
    "    target=TARGET[0],\n",
    "    prediction_column='prediction',\n",
    "    extra_params={'seed': 139, 'nthread': 8},\n",
    ")\n",
    "my_learner = build_pipeline(my_model)\n",
    "\n",
    "# TREINO\n",
    "(prediction_function, treinado, logs) = my_learner(dados_treino)\n",
    "# TESTE\n",
    "testados = prediction_function(dados_teste)"
   ]
  },
  {
   "cell_type": "code",
   "execution_count": null,
   "metadata": {},
   "outputs": [],
   "source": []
  },
  {
   "cell_type": "code",
   "execution_count": 140,
   "metadata": {},
   "outputs": [
    {
     "data": {
      "text/plain": [
       "-0.03101072106268865"
      ]
     },
     "execution_count": 140,
     "metadata": {},
     "output_type": "execute_result"
    }
   ],
   "source": [
    "r2_score(testados.nota_var, testados.prediction.tolist())"
   ]
  },
  {
   "cell_type": "code",
   "execution_count": 141,
   "metadata": {},
   "outputs": [
    {
     "data": {
      "text/plain": [
       "0.09953844118251132"
      ]
     },
     "execution_count": 141,
     "metadata": {},
     "output_type": "execute_result"
    }
   ],
   "source": [
    "r2_score(treinado.nota_var.tolist(), treinado.prediction.tolist())"
   ]
  },
  {
   "cell_type": "code",
   "execution_count": null,
   "metadata": {},
   "outputs": [],
   "source": []
  },
  {
   "cell_type": "code",
   "execution_count": 107,
   "metadata": {},
   "outputs": [
    {
     "data": {
      "text/html": [
       "<div>\n",
       "<style scoped>\n",
       "    .dataframe tbody tr th:only-of-type {\n",
       "        vertical-align: middle;\n",
       "    }\n",
       "\n",
       "    .dataframe tbody tr th {\n",
       "        vertical-align: top;\n",
       "    }\n",
       "\n",
       "    .dataframe thead th {\n",
       "        text-align: right;\n",
       "    }\n",
       "</style>\n",
       "<table border=\"1\" class=\"dataframe\">\n",
       "  <thead>\n",
       "    <tr style=\"text-align: right;\">\n",
       "      <th></th>\n",
       "      <th>id_gestor</th>\n",
       "      <th>n_atuacoes</th>\n",
       "      <th>nota_var</th>\n",
       "      <th>primeira_viagem</th>\n",
       "      <th>teve_falta</th>\n",
       "      <th>formacao_pontos</th>\n",
       "      <th>idade</th>\n",
       "      <th>anos_trabalho</th>\n",
       "      <th>sexo</th>\n",
       "    </tr>\n",
       "  </thead>\n",
       "  <tbody>\n",
       "    <tr>\n",
       "      <th>id_gestor</th>\n",
       "      <td>1.000000</td>\n",
       "      <td>-0.080036</td>\n",
       "      <td>0.006872</td>\n",
       "      <td>NaN</td>\n",
       "      <td>-0.816626</td>\n",
       "      <td>-0.177966</td>\n",
       "      <td>0.071169</td>\n",
       "      <td>-0.009655</td>\n",
       "      <td>0.491012</td>\n",
       "    </tr>\n",
       "    <tr>\n",
       "      <th>n_atuacoes</th>\n",
       "      <td>-0.080036</td>\n",
       "      <td>1.000000</td>\n",
       "      <td>-0.000874</td>\n",
       "      <td>NaN</td>\n",
       "      <td>0.054476</td>\n",
       "      <td>0.061109</td>\n",
       "      <td>0.023241</td>\n",
       "      <td>0.027932</td>\n",
       "      <td>-0.188374</td>\n",
       "    </tr>\n",
       "    <tr>\n",
       "      <th>nota_var</th>\n",
       "      <td>0.006872</td>\n",
       "      <td>-0.000874</td>\n",
       "      <td>1.000000</td>\n",
       "      <td>NaN</td>\n",
       "      <td>-0.012179</td>\n",
       "      <td>-0.028402</td>\n",
       "      <td>-0.007002</td>\n",
       "      <td>-0.024390</td>\n",
       "      <td>0.018526</td>\n",
       "    </tr>\n",
       "    <tr>\n",
       "      <th>primeira_viagem</th>\n",
       "      <td>NaN</td>\n",
       "      <td>NaN</td>\n",
       "      <td>NaN</td>\n",
       "      <td>NaN</td>\n",
       "      <td>NaN</td>\n",
       "      <td>NaN</td>\n",
       "      <td>NaN</td>\n",
       "      <td>NaN</td>\n",
       "      <td>NaN</td>\n",
       "    </tr>\n",
       "    <tr>\n",
       "      <th>teve_falta</th>\n",
       "      <td>-0.816626</td>\n",
       "      <td>0.054476</td>\n",
       "      <td>-0.012179</td>\n",
       "      <td>NaN</td>\n",
       "      <td>1.000000</td>\n",
       "      <td>0.159551</td>\n",
       "      <td>-0.072288</td>\n",
       "      <td>0.025700</td>\n",
       "      <td>-0.434780</td>\n",
       "    </tr>\n",
       "    <tr>\n",
       "      <th>formacao_pontos</th>\n",
       "      <td>-0.177966</td>\n",
       "      <td>0.061109</td>\n",
       "      <td>-0.028402</td>\n",
       "      <td>NaN</td>\n",
       "      <td>0.159551</td>\n",
       "      <td>1.000000</td>\n",
       "      <td>-0.044456</td>\n",
       "      <td>-0.057997</td>\n",
       "      <td>-0.148808</td>\n",
       "    </tr>\n",
       "    <tr>\n",
       "      <th>idade</th>\n",
       "      <td>0.071169</td>\n",
       "      <td>0.023241</td>\n",
       "      <td>-0.007002</td>\n",
       "      <td>NaN</td>\n",
       "      <td>-0.072288</td>\n",
       "      <td>-0.044456</td>\n",
       "      <td>1.000000</td>\n",
       "      <td>0.421269</td>\n",
       "      <td>-0.089349</td>\n",
       "    </tr>\n",
       "    <tr>\n",
       "      <th>anos_trabalho</th>\n",
       "      <td>-0.009655</td>\n",
       "      <td>0.027932</td>\n",
       "      <td>-0.024390</td>\n",
       "      <td>NaN</td>\n",
       "      <td>0.025700</td>\n",
       "      <td>-0.057997</td>\n",
       "      <td>0.421269</td>\n",
       "      <td>1.000000</td>\n",
       "      <td>-0.100284</td>\n",
       "    </tr>\n",
       "    <tr>\n",
       "      <th>sexo</th>\n",
       "      <td>0.491012</td>\n",
       "      <td>-0.188374</td>\n",
       "      <td>0.018526</td>\n",
       "      <td>NaN</td>\n",
       "      <td>-0.434780</td>\n",
       "      <td>-0.148808</td>\n",
       "      <td>-0.089349</td>\n",
       "      <td>-0.100284</td>\n",
       "      <td>1.000000</td>\n",
       "    </tr>\n",
       "  </tbody>\n",
       "</table>\n",
       "</div>"
      ],
      "text/plain": [
       "                 id_gestor  n_atuacoes  nota_var  primeira_viagem  teve_falta  \\\n",
       "id_gestor         1.000000   -0.080036  0.006872              NaN   -0.816626   \n",
       "n_atuacoes       -0.080036    1.000000 -0.000874              NaN    0.054476   \n",
       "nota_var          0.006872   -0.000874  1.000000              NaN   -0.012179   \n",
       "primeira_viagem        NaN         NaN       NaN              NaN         NaN   \n",
       "teve_falta       -0.816626    0.054476 -0.012179              NaN    1.000000   \n",
       "formacao_pontos  -0.177966    0.061109 -0.028402              NaN    0.159551   \n",
       "idade             0.071169    0.023241 -0.007002              NaN   -0.072288   \n",
       "anos_trabalho    -0.009655    0.027932 -0.024390              NaN    0.025700   \n",
       "sexo              0.491012   -0.188374  0.018526              NaN   -0.434780   \n",
       "\n",
       "                 formacao_pontos     idade  anos_trabalho      sexo  \n",
       "id_gestor              -0.177966  0.071169      -0.009655  0.491012  \n",
       "n_atuacoes              0.061109  0.023241       0.027932 -0.188374  \n",
       "nota_var               -0.028402 -0.007002      -0.024390  0.018526  \n",
       "primeira_viagem              NaN       NaN            NaN       NaN  \n",
       "teve_falta              0.159551 -0.072288       0.025700 -0.434780  \n",
       "formacao_pontos         1.000000 -0.044456      -0.057997 -0.148808  \n",
       "idade                  -0.044456  1.000000       0.421269 -0.089349  \n",
       "anos_trabalho          -0.057997  0.421269       1.000000 -0.100284  \n",
       "sexo                   -0.148808 -0.089349      -0.100284  1.000000  "
      ]
     },
     "execution_count": 107,
     "metadata": {},
     "output_type": "execute_result"
    }
   ],
   "source": [
    "df_gestor.corr()"
   ]
  },
  {
   "cell_type": "code",
   "execution_count": null,
   "metadata": {},
   "outputs": [],
   "source": []
  },
  {
   "cell_type": "code",
   "execution_count": null,
   "metadata": {},
   "outputs": [],
   "source": []
  },
  {
   "cell_type": "code",
   "execution_count": null,
   "metadata": {},
   "outputs": [],
   "source": []
  },
  {
   "cell_type": "markdown",
   "metadata": {},
   "source": [
    "# ESTATISTICA DESCRITIVA"
   ]
  },
  {
   "cell_type": "code",
   "execution_count": 121,
   "metadata": {},
   "outputs": [
    {
     "data": {
      "text/plain": [
       "6.212309264802512"
      ]
     },
     "execution_count": 121,
     "metadata": {},
     "output_type": "execute_result"
    }
   ],
   "source": [
    "df_gestor[df_gestor.sexo == 1].nota_var.mean()"
   ]
  },
  {
   "cell_type": "code",
   "execution_count": 122,
   "metadata": {},
   "outputs": [
    {
     "data": {
      "text/plain": [
       "6.035122786978869"
      ]
     },
     "execution_count": 122,
     "metadata": {},
     "output_type": "execute_result"
    }
   ],
   "source": [
    "df_gestor[df_gestor.sexo == 0].nota_var.mean()"
   ]
  },
  {
   "cell_type": "code",
   "execution_count": 154,
   "metadata": {},
   "outputs": [
    {
     "data": {
      "text/plain": [
       "count    10152.000000\n",
       "mean        46.869582\n",
       "std          6.244007\n",
       "min         26.000000\n",
       "10%         38.000000\n",
       "50%         48.000000\n",
       "90%         54.000000\n",
       "max         71.000000\n",
       "Name: idade, dtype: float64"
      ]
     },
     "execution_count": 154,
     "metadata": {},
     "output_type": "execute_result"
    }
   ],
   "source": [
    "df_gestor.idade.describe(percentiles=[0.1,0.9])"
   ]
  },
  {
   "cell_type": "code",
   "execution_count": null,
   "metadata": {},
   "outputs": [],
   "source": [
    "df_gestor.idade.describe(percentiles=[0.1,0.9])"
   ]
  },
  {
   "cell_type": "code",
   "execution_count": null,
   "metadata": {},
   "outputs": [],
   "source": []
  },
  {
   "cell_type": "code",
   "execution_count": null,
   "metadata": {},
   "outputs": [],
   "source": []
  },
  {
   "cell_type": "code",
   "execution_count": null,
   "metadata": {},
   "outputs": [],
   "source": []
  },
  {
   "cell_type": "code",
   "execution_count": 126,
   "metadata": {},
   "outputs": [
    {
     "data": {
      "text/plain": [
       "6.149603008775595"
      ]
     },
     "execution_count": 126,
     "metadata": {},
     "output_type": "execute_result"
    }
   ],
   "source": [
    "df_gestor[df_gestor.idade <= 46].nota_var.mean()"
   ]
  },
  {
   "cell_type": "code",
   "execution_count": 127,
   "metadata": {},
   "outputs": [
    {
     "data": {
      "text/plain": [
       "6.043298969072165"
      ]
     },
     "execution_count": 127,
     "metadata": {},
     "output_type": "execute_result"
    }
   ],
   "source": [
    "df_gestor[(df_gestor.idade > 50)].nota_var.mean()"
   ]
  },
  {
   "cell_type": "code",
   "execution_count": null,
   "metadata": {},
   "outputs": [],
   "source": []
  },
  {
   "cell_type": "code",
   "execution_count": null,
   "metadata": {},
   "outputs": [],
   "source": []
  },
  {
   "cell_type": "code",
   "execution_count": null,
   "metadata": {},
   "outputs": [],
   "source": []
  },
  {
   "cell_type": "code",
   "execution_count": null,
   "metadata": {},
   "outputs": [],
   "source": []
  }
 ],
 "metadata": {
  "kernelspec": {
   "display_name": "Python 3",
   "language": "python",
   "name": "python3"
  },
  "language_info": {
   "codemirror_mode": {
    "name": "ipython",
    "version": 3
   },
   "file_extension": ".py",
   "mimetype": "text/x-python",
   "name": "python",
   "nbconvert_exporter": "python",
   "pygments_lexer": "ipython3",
   "version": "3.7.3"
  }
 },
 "nbformat": 4,
 "nbformat_minor": 2
}
