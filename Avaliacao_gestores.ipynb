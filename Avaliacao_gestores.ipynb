{
 "cells": [
  {
   "cell_type": "code",
   "execution_count": 1,
   "metadata": {},
   "outputs": [],
   "source": [
    "import pandas as pd\n",
    "import collections\n",
    "import dim_gestor\n",
    "import etl_gestores\n",
    "import etl_saresp\n",
    "\n",
    "from util import gera_id_gestao"
   ]
  },
  {
   "cell_type": "code",
   "execution_count": 2,
   "metadata": {},
   "outputs": [],
   "source": [
    "#%%time\n",
    "saresp = etl_saresp.etl()\n",
    "df_gestao = etl_gestores.etl()\n",
    "df_gestao = df_gestao.drop(['id_escola','ano_gestao'], axis=1)\n",
    "mergeidesp = pd.merge(df_gestao, saresp, on='id_gestao', how='left')"
   ]
  },
  {
   "cell_type": "code",
   "execution_count": 4,
   "metadata": {},
   "outputs": [],
   "source": [
    "mergeidesp = mergeidesp.dropna(subset=['nota_saresp'])\n",
    "mergeidesp.ano_gestao = mergeidesp.ano_gestao.astype(int)\n",
    "mergeidesp.id_escola = mergeidesp.id_escola.astype(int)"
   ]
  },
  {
   "cell_type": "code",
   "execution_count": null,
   "metadata": {},
   "outputs": [],
   "source": []
  },
  {
   "cell_type": "code",
   "execution_count": 5,
   "metadata": {},
   "outputs": [],
   "source": [
    "nota_gestor = {}\n",
    "nota_gestor['id_gestor'] = []\n",
    "nota_gestor['nota_acumulada'] = []\n",
    "nota_gestor['media_nota'] = []\n",
    "nota_gestor['ano'] = []\n",
    "\n",
    "for nome, dados in mergeidesp.groupby('id_gestor'):\n",
    "    lista_anos = dados.ano_gestao.tolist()\n",
    "    lista_anos = list(set(lista_anos))\n",
    "    lista_anos.sort()\n",
    "    nota_acumulada = 0\n",
    "    accum = 0\n",
    "    for ano in lista_anos:\n",
    "        dados_ano = dados[dados.ano_gestao == ano]\n",
    "        media_ano = 0\n",
    "        accum_ano = 0\n",
    "        for escola in set(dados_ano.id_escola):\n",
    "            dados_ano_escola = dados_ano[dados_ano.id_escola == escola]\n",
    "            media_ano += dados_ano_escola.nota_saresp.iloc[0]\n",
    "            accum_ano += 1\n",
    "        media_ano /= accum_ano\n",
    "\n",
    "        nota_gestor['id_gestor'].append(nome)\n",
    "        nota_gestor['ano'].append(ano)\n",
    "        nota_gestor['nota_acumulada'].append(nota_acumulada / (1 if accum == 0 else accum))\n",
    "        nota_gestor['media_nota'].append(media_ano)\n",
    "        nota_acumulada += media_ano\n",
    "        accum += 1\n",
    "nota_gestor = pd.DataFrame(nota_gestor)"
   ]
  },
  {
   "cell_type": "code",
   "execution_count": 6,
   "metadata": {},
   "outputs": [],
   "source": [
    "nota_gestor = nota_gestor.drop(nota_gestor[nota_gestor.nota_acumulada == 0].index)"
   ]
  },
  {
   "cell_type": "code",
   "execution_count": null,
   "metadata": {},
   "outputs": [],
   "source": []
  },
  {
   "cell_type": "code",
   "execution_count": null,
   "metadata": {},
   "outputs": [],
   "source": []
  },
  {
   "cell_type": "code",
   "execution_count": null,
   "metadata": {},
   "outputs": [],
   "source": []
  },
  {
   "cell_type": "code",
   "execution_count": 7,
   "metadata": {},
   "outputs": [
    {
     "data": {
      "text/plain": [
       "count    95333.000000\n",
       "mean         4.373271\n",
       "std         15.458966\n",
       "min       -136.150000\n",
       "10%        -13.850000\n",
       "50%          4.600000\n",
       "90%         22.187500\n",
       "max        138.950000\n",
       "dtype: float64"
      ]
     },
     "execution_count": 7,
     "metadata": {},
     "output_type": "execute_result"
    }
   ],
   "source": [
    "(nota_gestor.media_nota - nota_gestor.nota_acumulada).describe(percentiles=[0.1,0.9])"
   ]
  },
  {
   "cell_type": "code",
   "execution_count": 8,
   "metadata": {},
   "outputs": [
    {
     "data": {
      "text/html": [
       "<div>\n",
       "<style scoped>\n",
       "    .dataframe tbody tr th:only-of-type {\n",
       "        vertical-align: middle;\n",
       "    }\n",
       "\n",
       "    .dataframe tbody tr th {\n",
       "        vertical-align: top;\n",
       "    }\n",
       "\n",
       "    .dataframe thead th {\n",
       "        text-align: right;\n",
       "    }\n",
       "</style>\n",
       "<table border=\"1\" class=\"dataframe\">\n",
       "  <thead>\n",
       "    <tr style=\"text-align: right;\">\n",
       "      <th></th>\n",
       "      <th>nota_acumulada</th>\n",
       "      <th>media_nota</th>\n",
       "    </tr>\n",
       "  </thead>\n",
       "  <tbody>\n",
       "    <tr>\n",
       "      <th>nota_acumulada</th>\n",
       "      <td>1.00000</td>\n",
       "      <td>0.81593</td>\n",
       "    </tr>\n",
       "    <tr>\n",
       "      <th>media_nota</th>\n",
       "      <td>0.81593</td>\n",
       "      <td>1.00000</td>\n",
       "    </tr>\n",
       "  </tbody>\n",
       "</table>\n",
       "</div>"
      ],
      "text/plain": [
       "                nota_acumulada  media_nota\n",
       "nota_acumulada         1.00000     0.81593\n",
       "media_nota             0.81593     1.00000"
      ]
     },
     "execution_count": 8,
     "metadata": {},
     "output_type": "execute_result"
    }
   ],
   "source": [
    "nota_gestor.loc[:,['nota_acumulada','media_nota']].corr()"
   ]
  },
  {
   "cell_type": "code",
   "execution_count": 9,
   "metadata": {},
   "outputs": [],
   "source": [
    "df_gestao = nota_gestor.copy()"
   ]
  },
  {
   "cell_type": "code",
   "execution_count": null,
   "metadata": {},
   "outputs": [],
   "source": []
  },
  {
   "cell_type": "code",
   "execution_count": null,
   "metadata": {},
   "outputs": [],
   "source": []
  },
  {
   "cell_type": "code",
   "execution_count": null,
   "metadata": {},
   "outputs": [],
   "source": []
  },
  {
   "cell_type": "code",
   "execution_count": null,
   "metadata": {},
   "outputs": [],
   "source": []
  },
  {
   "cell_type": "code",
   "execution_count": null,
   "metadata": {},
   "outputs": [],
   "source": []
  },
  {
   "cell_type": "code",
   "execution_count": null,
   "metadata": {},
   "outputs": [],
   "source": []
  },
  {
   "cell_type": "code",
   "execution_count": null,
   "metadata": {},
   "outputs": [],
   "source": []
  },
  {
   "cell_type": "code",
   "execution_count": null,
   "metadata": {},
   "outputs": [],
   "source": []
  },
  {
   "cell_type": "code",
   "execution_count": null,
   "metadata": {},
   "outputs": [],
   "source": []
  },
  {
   "cell_type": "markdown",
   "metadata": {},
   "source": [
    "# ADICAO DE INFORMACOES SOBRE FALTAS"
   ]
  },
  {
   "cell_type": "code",
   "execution_count": 10,
   "metadata": {},
   "outputs": [],
   "source": [
    "arquivo = 'D:\\\\DESAFIO_SEDUC\\\\dados-VERSAO_1\\\\ausncias-por-servidor-All-2020-04-13_1011\\\\BASE_AUSENCIAS_1118.csv'\n",
    "ausen1118 = pd.read_csv(arquivo, sep=';')\n",
    "arquivo = 'D:\\\\DESAFIO_SEDUC\\\\dados-VERSAO_1\\\\ausncias-por-servidor-All-2020-04-13_1011\\\\BASE_AUSENCIAS_0419.csv'\n",
    "ausen0419 = pd.read_csv(arquivo, sep=';')\n",
    "arquivo = 'D:\\\\DESAFIO_SEDUC\\\\dados-VERSAO_1\\\\ausncias-por-servidor-All-2020-04-13_1011\\\\BASE_AUSENCIAS_1119.csv'\n",
    "ausen1119 = pd.read_csv(arquivo, sep=';')\n",
    "ausen1118.columns = ausen1119.columns\n",
    "ausen0419.columns = ausen1119.columns\n",
    "ausen = ausen1118.append(ausen0419).append(ausen1119)"
   ]
  },
  {
   "cell_type": "code",
   "execution_count": 11,
   "metadata": {},
   "outputs": [],
   "source": [
    "CATEGORIAS = ['TT_DIAS_FALTA_MEDICA', 'TT_DIAS_FALTA_JUST', 'TT_DIAS_FALTA_INJUST',\n",
    "              'TT_DIAS_FALTA_ABONADA', 'TT_DIAS_LIC_PREMIO', 'TT_DIAS_LIC_GESTANTE', \n",
    "              'TT_DIAS_LIC_ACID_TRAB', 'TT_DIAS_LIC_INTER_PARTIC']\n",
    "\n",
    "aus = {}\n",
    "aus['id_gestor'] = []\n",
    "aus['dias'] = []\n",
    "for _, row in ausen.iterrows():\n",
    "    try:\n",
    "        id_interno = int(row.loc['id_interno'])\n",
    "    except:\n",
    "        continue\n",
    "        \n",
    "    dias = 0\n",
    "    for cat in CATEGORIAS:\n",
    "        try:\n",
    "            dia_x = int(row.loc[cat])\n",
    "        except:\n",
    "            dia_x = 0\n",
    "        dias += dia_x\n",
    "    aus['id_gestor'].append(id_interno)\n",
    "    aus['dias'].append(dias)\n",
    "\n",
    "aus = pd.DataFrame(aus)\n",
    "\n",
    "aus2 = {}\n",
    "aus2['id_gestor'] = []\n",
    "aus2['teve_falta'] = []\n",
    "teve_falta = lambda x: 1 if x > 0 else 0\n",
    "for nome, dados in aus.groupby('id_gestor'):\n",
    "    aus2['id_gestor'].append(nome)\n",
    "    aus2['teve_falta'].append(teve_falta(dados.dias.sum()))\n",
    "    \n",
    "aus = pd.DataFrame(aus2)    "
   ]
  },
  {
   "cell_type": "code",
   "execution_count": 12,
   "metadata": {},
   "outputs": [],
   "source": [
    "gest_falta = pd.merge(df_gestao, aus, on='id_gestor',how='left')\n",
    "gest_falta.teve_falta = gest_falta.teve_falta.fillna(0)"
   ]
  },
  {
   "cell_type": "code",
   "execution_count": 13,
   "metadata": {},
   "outputs": [
    {
     "name": "stderr",
     "output_type": "stream",
     "text": [
      "C:\\Users\\admprime\\Miniconda3\\envs\\fklearn\\lib\\site-packages\\pandas\\core\\indexing.py:1494: FutureWarning: \n",
      "Passing list-likes to .loc or [] with any missing label will raise\n",
      "KeyError in the future, you can use .reindex() as an alternative.\n",
      "\n",
      "See the documentation here:\n",
      "https://pandas.pydata.org/pandas-docs/stable/indexing.html#deprecate-loc-reindex-listlike\n",
      "  return self._getitem_tuple(key)\n"
     ]
    },
    {
     "data": {
      "text/html": [
       "<div>\n",
       "<style scoped>\n",
       "    .dataframe tbody tr th:only-of-type {\n",
       "        vertical-align: middle;\n",
       "    }\n",
       "\n",
       "    .dataframe tbody tr th {\n",
       "        vertical-align: top;\n",
       "    }\n",
       "\n",
       "    .dataframe thead th {\n",
       "        text-align: right;\n",
       "    }\n",
       "</style>\n",
       "<table border=\"1\" class=\"dataframe\">\n",
       "  <thead>\n",
       "    <tr style=\"text-align: right;\">\n",
       "      <th></th>\n",
       "      <th>nota_var</th>\n",
       "      <th>teve_falta</th>\n",
       "    </tr>\n",
       "  </thead>\n",
       "  <tbody>\n",
       "    <tr>\n",
       "      <th>nota_var</th>\n",
       "      <td>NaN</td>\n",
       "      <td>NaN</td>\n",
       "    </tr>\n",
       "    <tr>\n",
       "      <th>teve_falta</th>\n",
       "      <td>NaN</td>\n",
       "      <td>1.0</td>\n",
       "    </tr>\n",
       "  </tbody>\n",
       "</table>\n",
       "</div>"
      ],
      "text/plain": [
       "            nota_var  teve_falta\n",
       "nota_var         NaN         NaN\n",
       "teve_falta       NaN         1.0"
      ]
     },
     "execution_count": 13,
     "metadata": {},
     "output_type": "execute_result"
    }
   ],
   "source": [
    "gest_falta.loc[:,['nota_var','teve_falta']].corr()  # correlacao para mostrar que influencia"
   ]
  },
  {
   "cell_type": "code",
   "execution_count": null,
   "metadata": {},
   "outputs": [],
   "source": []
  },
  {
   "cell_type": "code",
   "execution_count": null,
   "metadata": {},
   "outputs": [],
   "source": []
  },
  {
   "cell_type": "code",
   "execution_count": null,
   "metadata": {},
   "outputs": [],
   "source": []
  },
  {
   "cell_type": "code",
   "execution_count": null,
   "metadata": {},
   "outputs": [],
   "source": []
  },
  {
   "cell_type": "markdown",
   "metadata": {},
   "source": [
    "# ADICAO DA FORMACAO"
   ]
  },
  {
   "cell_type": "code",
   "execution_count": 14,
   "metadata": {},
   "outputs": [
    {
     "name": "stderr",
     "output_type": "stream",
     "text": [
      "C:\\Users\\admprime\\Miniconda3\\envs\\fklearn\\lib\\site-packages\\pandas\\core\\frame.py:6692: FutureWarning: Sorting because non-concatenation axis is not aligned. A future version\n",
      "of pandas will change to not sort by default.\n",
      "\n",
      "To accept the future behavior, pass 'sort=False'.\n",
      "\n",
      "To retain the current behavior and silence the warning, pass 'sort=True'.\n",
      "\n",
      "  sort=sort)\n"
     ]
    }
   ],
   "source": [
    "arquivo = 'D:\\\\DESAFIO_SEDUC\\\\dados-VERSAO_1\\\\formao-por-servidor-All-2020-04-13_1013\\\\BASE_FORMACAO_0419a.csv'\n",
    "formac0419 = pd.read_csv(arquivo, sep=';', encoding ='latin-1')\n",
    "arquivo = 'D:\\\\DESAFIO_SEDUC\\\\dados-VERSAO_1\\\\formao-por-servidor-All-2020-04-13_1013\\\\BASE_FORMACAO_1118.csv'\n",
    "formac1118 = pd.read_csv(arquivo, sep=';', encoding ='latin-1')\n",
    "arquivo = 'D:\\\\DESAFIO_SEDUC\\\\dados-VERSAO_1\\\\formao-por-servidor-All-2020-04-13_1013\\\\BASE_FORMACAO_1119a.csv'\n",
    "formac1119a = pd.read_csv(arquivo, sep=';', encoding ='latin-1')\n",
    "formac = formac0419.append(formac1118).append(formac1119a)"
   ]
  },
  {
   "cell_type": "code",
   "execution_count": 15,
   "metadata": {},
   "outputs": [],
   "source": [
    "def pontua_formacao(formacao):\n",
    "    # graduacao/especializacao + 1\n",
    "    # doutorado +2\n",
    "    \n",
    "    if formacao == 'LICENCIATURA':\n",
    "        return 1\n",
    "    elif formacao == 'LICENCIATURA + BACHARELADO/TECNÌÒLOGO + ESPECIALIZAÌàÌÄO':\n",
    "        return 3\n",
    "    elif formacao == 'LICENCIATURA + ESPECIALIZAÌàÌÄO':\n",
    "        return 2\n",
    "    elif formacao == 'ENSINO MÌäDIO':\n",
    "        return 0\n",
    "    elif formacao == 'LICENCIATURA + BACHARELADO/TECNÌÒLOGO':\n",
    "        return 2\n",
    "    elif formacao == 'BACHARELADO/TECNÌÒLOGO':\n",
    "        return 1\n",
    "    elif formacao == 'BACHARELADO/TECNÌÒLOGO':\n",
    "        return 1\n",
    "    elif formacao == 'S/INFO':\n",
    "        return 1\n",
    "    elif formacao == 'LICENCIATURA + ESPECIALIZAÌàÌÄO + MESTRADO':\n",
    "        return 3\n",
    "    elif formacao == 'LICENCIATURA + MESTRADO':\n",
    "        return 2\n",
    "    elif formacao == 'LICENCIATURA + BACHARELADO/TECNÌÒLOGO + MESTRADO':\n",
    "        return 3\n",
    "    elif formacao == 'ENSINO FUNDAMENTAL':\n",
    "        return 0\n",
    "    elif formacao == 'LICENCIATURA + BACHARELADO/TECNÌÒLOGO + ESPECIALIZAÌàÌÄO + MESTRADO':\n",
    "        return 4\n",
    "    elif formacao == 'LICENCIATURA + MESTRADO+DOUTORADO':\n",
    "        return 4\n",
    "    elif formacao == 'LICENCIATURA + BACHARELADO/TECNÌÒLOGO + MESTRADO + DOUTORADO':\n",
    "        return 5\n",
    "    elif formacao == 'APERF/EXTENSÌÄO CULTURAL':\n",
    "        return 0\n",
    "    elif formacao == 'LICENCIATURA + ESPECIALIZAÌàÌÄO + MESTRADO + DOUTORADO':\n",
    "        return 5\n",
    "    elif formacao == 'BACHARELADO/TECNÌÒLOGO + ESPECIALIZAÌàÌÄO':\n",
    "        return 2\n",
    "    elif formacao == 'LICENCIATURA + DOUTORADO':\n",
    "        return 3\n",
    "    elif formacao == 'LICENCIATURA + ESPECIALIZAÌàÌÄO+DOUTORADO':\n",
    "        return 4\n",
    "    elif formacao == 'BACHARELADO/TECNÌÒLOGO + MESTRADO':\n",
    "        return 2\n",
    "    elif formacao == 'LICENCIATURA + BACHARELADO/TECNÌÒLOGO+ESPECIALIZAÌàÌÄO+DOUTORADO':\n",
    "        return 5\n",
    "    elif formacao == 'ESPECIALIZAÌàÌÄO':\n",
    "        return 2\n",
    "    elif formacao == 'BACHARELADO/TECNÌÒLOGO + MESTRADO + DOUTORADO':\n",
    "        return 4\n",
    "    elif formacao == 'LICENCIATURA + BACHARELADO/TECNÌÒLOGO + DOUTORADO':\n",
    "        return 4\n",
    "    elif formacao == 'LICENCIATURA + BACHARELADO/TECNÌÒLOGO+ESPECIALIZAÌàÌÄO + MESTRADO + DOUTORADO':\n",
    "        return 6\n",
    "    elif formacao == 'ESPECIALIZAÌàÌÄO+MESTRADO':\n",
    "        return 3\n",
    "    elif formacao == 'BACHARELADO/TECNÌÒLOGO + ESPECIALIZAÌàÌÄO + MESTRADO':\n",
    "        return 3\n",
    "    elif formacao == 'BACHARELADO/TECNÌÒLOGO + DOUTORADO':\n",
    "        return 3\n",
    "    elif formacao == 'MESTRADO':\n",
    "        return 2\n",
    "    else:\n",
    "        return 1\n"
   ]
  },
  {
   "cell_type": "code",
   "execution_count": 16,
   "metadata": {},
   "outputs": [],
   "source": [
    "formac['formacao_pontos'] = formac.FORMACAO.apply(pontua_formacao)\n",
    "formac = formac.drop(formac[formac.id_interno.isnull()].index)\n",
    "formac.id_interno = formac.id_interno.astype(int)\n",
    "formac = formac.rename({'id_interno': 'id_gestor'}, axis=1)\n",
    "formac = formac.loc[:,['id_gestor','formacao_pontos']]"
   ]
  },
  {
   "cell_type": "code",
   "execution_count": 17,
   "metadata": {},
   "outputs": [],
   "source": [
    "formac2 = {}\n",
    "formac2['id_gestor'] = []\n",
    "formac2['formacao_pontos'] = []\n",
    "for nome, dados in formac.groupby('id_gestor'):\n",
    "    formac2['id_gestor'].append(nome)\n",
    "    formac2['formacao_pontos'].append(dados.formacao_pontos.max())\n",
    "    \n",
    "formac = pd.DataFrame(formac2)"
   ]
  },
  {
   "cell_type": "code",
   "execution_count": 18,
   "metadata": {},
   "outputs": [],
   "source": [
    "gest = pd.merge(gest_falta, formac, on='id_gestor',how='left')\n",
    "gest.formacao_pontos = gest.formacao_pontos.fillna(1)"
   ]
  },
  {
   "cell_type": "code",
   "execution_count": 19,
   "metadata": {},
   "outputs": [
    {
     "data": {
      "text/html": [
       "<div>\n",
       "<style scoped>\n",
       "    .dataframe tbody tr th:only-of-type {\n",
       "        vertical-align: middle;\n",
       "    }\n",
       "\n",
       "    .dataframe tbody tr th {\n",
       "        vertical-align: top;\n",
       "    }\n",
       "\n",
       "    .dataframe thead th {\n",
       "        text-align: right;\n",
       "    }\n",
       "</style>\n",
       "<table border=\"1\" class=\"dataframe\">\n",
       "  <thead>\n",
       "    <tr style=\"text-align: right;\">\n",
       "      <th></th>\n",
       "      <th>nota_var</th>\n",
       "      <th>formacao_pontos</th>\n",
       "    </tr>\n",
       "  </thead>\n",
       "  <tbody>\n",
       "    <tr>\n",
       "      <th>nota_var</th>\n",
       "      <td>NaN</td>\n",
       "      <td>NaN</td>\n",
       "    </tr>\n",
       "    <tr>\n",
       "      <th>formacao_pontos</th>\n",
       "      <td>NaN</td>\n",
       "      <td>1.0</td>\n",
       "    </tr>\n",
       "  </tbody>\n",
       "</table>\n",
       "</div>"
      ],
      "text/plain": [
       "                 nota_var  formacao_pontos\n",
       "nota_var              NaN              NaN\n",
       "formacao_pontos       NaN              1.0"
      ]
     },
     "execution_count": 19,
     "metadata": {},
     "output_type": "execute_result"
    }
   ],
   "source": [
    "gest.loc[:,['nota_var','formacao_pontos']].corr()"
   ]
  },
  {
   "cell_type": "code",
   "execution_count": null,
   "metadata": {},
   "outputs": [],
   "source": []
  },
  {
   "cell_type": "code",
   "execution_count": null,
   "metadata": {},
   "outputs": [],
   "source": []
  },
  {
   "cell_type": "code",
   "execution_count": null,
   "metadata": {},
   "outputs": [],
   "source": []
  },
  {
   "cell_type": "markdown",
   "metadata": {},
   "source": [
    "# ADICIONAR SEXO, IDADE E TEMPO DE TRABALHO"
   ]
  },
  {
   "cell_type": "code",
   "execution_count": 20,
   "metadata": {},
   "outputs": [
    {
     "name": "stderr",
     "output_type": "stream",
     "text": [
      "C:\\Users\\admprime\\Miniconda3\\envs\\fklearn\\lib\\site-packages\\IPython\\core\\interactiveshell.py:3049: DtypeWarning: Columns (11,36) have mixed types. Specify dtype option on import or set low_memory=False.\n",
      "  interactivity=interactivity, compiler=compiler, result=result)\n"
     ]
    }
   ],
   "source": [
    "arquivo = 'dados-VERSAO_1\\servidores-ativos-por-unidade-All-2020-04-13_1012\\BASE_SERVIDORES_ATIVOS_0419.csv'\n",
    "servidor0419 = pd.read_csv(arquivo, sep=';')\n",
    "arquivo = 'dados-VERSAO_1\\servidores-ativos-por-unidade-All-2020-04-13_1012\\BASE_SERVIDORES_ATIVOS_1118.csv'\n",
    "servidor1118 = pd.read_csv(arquivo, sep=';')\n",
    "arquivo = 'dados-VERSAO_1\\servidores-ativos-por-unidade-All-2020-04-13_1012\\BASE_SERVIDORES_ATIVOS_1119.csv'\n",
    "servidor1119 = pd.read_csv(arquivo, sep=';')\n",
    "servidor = servidor0419.append(servidor1118).append(servidor1119)\n",
    "servidor = servidor.drop(servidor[servidor.id_interno.isnull()].index)"
   ]
  },
  {
   "cell_type": "code",
   "execution_count": 21,
   "metadata": {},
   "outputs": [],
   "source": [
    "servidor.id_interno = servidor.id_interno.astype(int)\n",
    "servidor['SEXO_MASC'] = servidor.SEXO.apply(lambda x: 1 if x == 'M' else 0)"
   ]
  },
  {
   "cell_type": "code",
   "execution_count": 22,
   "metadata": {},
   "outputs": [],
   "source": [
    "serv = {}\n",
    "serv['id_gestor'] = []\n",
    "serv['idade'] = []\n",
    "serv['anos_trabalho'] = []\n",
    "serv['sexo'] = []\n",
    "for nome, dados in servidor.groupby('id_interno'):\n",
    "    serv['id_gestor'].append(nome)\n",
    "    serv['idade'].append(dados.IDADE.max())\n",
    "    serv['anos_trabalho'].append(dados.ANOS_TRAB_CARGO_C.max())\n",
    "    serv['sexo'].append(dados.SEXO_MASC.max())\n",
    "serv = pd.DataFrame(serv)"
   ]
  },
  {
   "cell_type": "code",
   "execution_count": 23,
   "metadata": {},
   "outputs": [],
   "source": [
    "gest_serv = pd.merge(gest, serv, on='id_gestor',how='left')"
   ]
  },
  {
   "cell_type": "code",
   "execution_count": 24,
   "metadata": {},
   "outputs": [
    {
     "data": {
      "text/html": [
       "<div>\n",
       "<style scoped>\n",
       "    .dataframe tbody tr th:only-of-type {\n",
       "        vertical-align: middle;\n",
       "    }\n",
       "\n",
       "    .dataframe tbody tr th {\n",
       "        vertical-align: top;\n",
       "    }\n",
       "\n",
       "    .dataframe thead th {\n",
       "        text-align: right;\n",
       "    }\n",
       "</style>\n",
       "<table border=\"1\" class=\"dataframe\">\n",
       "  <thead>\n",
       "    <tr style=\"text-align: right;\">\n",
       "      <th></th>\n",
       "      <th>nota_var</th>\n",
       "      <th>idade</th>\n",
       "      <th>anos_trabalho</th>\n",
       "      <th>sexo</th>\n",
       "    </tr>\n",
       "  </thead>\n",
       "  <tbody>\n",
       "    <tr>\n",
       "      <th>nota_var</th>\n",
       "      <td>NaN</td>\n",
       "      <td>NaN</td>\n",
       "      <td>NaN</td>\n",
       "      <td>NaN</td>\n",
       "    </tr>\n",
       "    <tr>\n",
       "      <th>idade</th>\n",
       "      <td>NaN</td>\n",
       "      <td>1.000000</td>\n",
       "      <td>0.424805</td>\n",
       "      <td>-0.081001</td>\n",
       "    </tr>\n",
       "    <tr>\n",
       "      <th>anos_trabalho</th>\n",
       "      <td>NaN</td>\n",
       "      <td>0.424805</td>\n",
       "      <td>1.000000</td>\n",
       "      <td>-0.089758</td>\n",
       "    </tr>\n",
       "    <tr>\n",
       "      <th>sexo</th>\n",
       "      <td>NaN</td>\n",
       "      <td>-0.081001</td>\n",
       "      <td>-0.089758</td>\n",
       "      <td>1.000000</td>\n",
       "    </tr>\n",
       "  </tbody>\n",
       "</table>\n",
       "</div>"
      ],
      "text/plain": [
       "               nota_var     idade  anos_trabalho      sexo\n",
       "nota_var            NaN       NaN            NaN       NaN\n",
       "idade               NaN  1.000000       0.424805 -0.081001\n",
       "anos_trabalho       NaN  0.424805       1.000000 -0.089758\n",
       "sexo                NaN -0.081001      -0.089758  1.000000"
      ]
     },
     "execution_count": 24,
     "metadata": {},
     "output_type": "execute_result"
    }
   ],
   "source": [
    "gest_serv.loc[:,['nota_var','idade','anos_trabalho','sexo']].corr()"
   ]
  },
  {
   "cell_type": "code",
   "execution_count": 25,
   "metadata": {},
   "outputs": [],
   "source": [
    "gest_serv = gest_serv.drop(gest_serv[gest_serv.idade.isnull()].index)"
   ]
  },
  {
   "cell_type": "code",
   "execution_count": 26,
   "metadata": {},
   "outputs": [
    {
     "data": {
      "text/plain": [
       "count    62589.000000\n",
       "mean        48.786816\n",
       "std          7.936413\n",
       "min         26.000000\n",
       "10%         38.000000\n",
       "50%         49.000000\n",
       "90%         60.000000\n",
       "max         73.000000\n",
       "Name: idade, dtype: float64"
      ]
     },
     "execution_count": 26,
     "metadata": {},
     "output_type": "execute_result"
    }
   ],
   "source": [
    "gest_serv.idade.describe(percentiles=[0.1,0.9])"
   ]
  },
  {
   "cell_type": "code",
   "execution_count": 27,
   "metadata": {},
   "outputs": [
    {
     "data": {
      "text/plain": [
       "count    62589.000000\n",
       "mean        13.781303\n",
       "std          6.326430\n",
       "min          0.000000\n",
       "25%         11.000000\n",
       "50%         13.000000\n",
       "75%         18.000000\n",
       "max         46.000000\n",
       "Name: anos_trabalho, dtype: float64"
      ]
     },
     "execution_count": 27,
     "metadata": {},
     "output_type": "execute_result"
    }
   ],
   "source": [
    "gest_serv.anos_trabalho.describe(percentiles=[0.25,0.75])"
   ]
  },
  {
   "cell_type": "code",
   "execution_count": 28,
   "metadata": {},
   "outputs": [
    {
     "ename": "AttributeError",
     "evalue": "'DataFrame' object has no attribute 'nota_var'",
     "output_type": "error",
     "traceback": [
      "\u001b[1;31m---------------------------------------------------------------------------\u001b[0m",
      "\u001b[1;31mAttributeError\u001b[0m                            Traceback (most recent call last)",
      "\u001b[1;32m<ipython-input-28-e4a68e3a6eb6>\u001b[0m in \u001b[0;36m<module>\u001b[1;34m\u001b[0m\n\u001b[1;32m----> 1\u001b[1;33m \u001b[0mgest_serv\u001b[0m\u001b[1;33m[\u001b[0m\u001b[0mgest_serv\u001b[0m\u001b[1;33m.\u001b[0m\u001b[0manos_trabalho\u001b[0m \u001b[1;33m<=\u001b[0m \u001b[1;36m8\u001b[0m\u001b[1;33m]\u001b[0m\u001b[1;33m.\u001b[0m\u001b[0mnota_var\u001b[0m\u001b[1;33m.\u001b[0m\u001b[0mmean\u001b[0m\u001b[1;33m(\u001b[0m\u001b[1;33m)\u001b[0m\u001b[1;33m\u001b[0m\u001b[1;33m\u001b[0m\u001b[0m\n\u001b[0m",
      "\u001b[1;32m~\\Miniconda3\\envs\\fklearn\\lib\\site-packages\\pandas\\core\\generic.py\u001b[0m in \u001b[0;36m__getattr__\u001b[1;34m(self, name)\u001b[0m\n\u001b[0;32m   5065\u001b[0m             \u001b[1;32mif\u001b[0m \u001b[0mself\u001b[0m\u001b[1;33m.\u001b[0m\u001b[0m_info_axis\u001b[0m\u001b[1;33m.\u001b[0m\u001b[0m_can_hold_identifiers_and_holds_name\u001b[0m\u001b[1;33m(\u001b[0m\u001b[0mname\u001b[0m\u001b[1;33m)\u001b[0m\u001b[1;33m:\u001b[0m\u001b[1;33m\u001b[0m\u001b[1;33m\u001b[0m\u001b[0m\n\u001b[0;32m   5066\u001b[0m                 \u001b[1;32mreturn\u001b[0m \u001b[0mself\u001b[0m\u001b[1;33m[\u001b[0m\u001b[0mname\u001b[0m\u001b[1;33m]\u001b[0m\u001b[1;33m\u001b[0m\u001b[1;33m\u001b[0m\u001b[0m\n\u001b[1;32m-> 5067\u001b[1;33m             \u001b[1;32mreturn\u001b[0m \u001b[0mobject\u001b[0m\u001b[1;33m.\u001b[0m\u001b[0m__getattribute__\u001b[0m\u001b[1;33m(\u001b[0m\u001b[0mself\u001b[0m\u001b[1;33m,\u001b[0m \u001b[0mname\u001b[0m\u001b[1;33m)\u001b[0m\u001b[1;33m\u001b[0m\u001b[1;33m\u001b[0m\u001b[0m\n\u001b[0m\u001b[0;32m   5068\u001b[0m \u001b[1;33m\u001b[0m\u001b[0m\n\u001b[0;32m   5069\u001b[0m     \u001b[1;32mdef\u001b[0m \u001b[0m__setattr__\u001b[0m\u001b[1;33m(\u001b[0m\u001b[0mself\u001b[0m\u001b[1;33m,\u001b[0m \u001b[0mname\u001b[0m\u001b[1;33m,\u001b[0m \u001b[0mvalue\u001b[0m\u001b[1;33m)\u001b[0m\u001b[1;33m:\u001b[0m\u001b[1;33m\u001b[0m\u001b[1;33m\u001b[0m\u001b[0m\n",
      "\u001b[1;31mAttributeError\u001b[0m: 'DataFrame' object has no attribute 'nota_var'"
     ]
    }
   ],
   "source": [
    "gest_serv[gest_serv.anos_trabalho <= 8].nota_var.mean()"
   ]
  },
  {
   "cell_type": "code",
   "execution_count": 29,
   "metadata": {},
   "outputs": [
    {
     "ename": "AttributeError",
     "evalue": "'DataFrame' object has no attribute 'nota_var'",
     "output_type": "error",
     "traceback": [
      "\u001b[1;31m---------------------------------------------------------------------------\u001b[0m",
      "\u001b[1;31mAttributeError\u001b[0m                            Traceback (most recent call last)",
      "\u001b[1;32m<ipython-input-29-ac6a38c7bc6c>\u001b[0m in \u001b[0;36m<module>\u001b[1;34m\u001b[0m\n\u001b[0;32m      1\u001b[0m gest_serv[(gest_serv.anos_trabalho > 8) &\n\u001b[1;32m----> 2\u001b[1;33m          (gest_serv.anos_trabalho <= 13)].nota_var.mean()\n\u001b[0m",
      "\u001b[1;32m~\\Miniconda3\\envs\\fklearn\\lib\\site-packages\\pandas\\core\\generic.py\u001b[0m in \u001b[0;36m__getattr__\u001b[1;34m(self, name)\u001b[0m\n\u001b[0;32m   5065\u001b[0m             \u001b[1;32mif\u001b[0m \u001b[0mself\u001b[0m\u001b[1;33m.\u001b[0m\u001b[0m_info_axis\u001b[0m\u001b[1;33m.\u001b[0m\u001b[0m_can_hold_identifiers_and_holds_name\u001b[0m\u001b[1;33m(\u001b[0m\u001b[0mname\u001b[0m\u001b[1;33m)\u001b[0m\u001b[1;33m:\u001b[0m\u001b[1;33m\u001b[0m\u001b[1;33m\u001b[0m\u001b[0m\n\u001b[0;32m   5066\u001b[0m                 \u001b[1;32mreturn\u001b[0m \u001b[0mself\u001b[0m\u001b[1;33m[\u001b[0m\u001b[0mname\u001b[0m\u001b[1;33m]\u001b[0m\u001b[1;33m\u001b[0m\u001b[1;33m\u001b[0m\u001b[0m\n\u001b[1;32m-> 5067\u001b[1;33m             \u001b[1;32mreturn\u001b[0m \u001b[0mobject\u001b[0m\u001b[1;33m.\u001b[0m\u001b[0m__getattribute__\u001b[0m\u001b[1;33m(\u001b[0m\u001b[0mself\u001b[0m\u001b[1;33m,\u001b[0m \u001b[0mname\u001b[0m\u001b[1;33m)\u001b[0m\u001b[1;33m\u001b[0m\u001b[1;33m\u001b[0m\u001b[0m\n\u001b[0m\u001b[0;32m   5068\u001b[0m \u001b[1;33m\u001b[0m\u001b[0m\n\u001b[0;32m   5069\u001b[0m     \u001b[1;32mdef\u001b[0m \u001b[0m__setattr__\u001b[0m\u001b[1;33m(\u001b[0m\u001b[0mself\u001b[0m\u001b[1;33m,\u001b[0m \u001b[0mname\u001b[0m\u001b[1;33m,\u001b[0m \u001b[0mvalue\u001b[0m\u001b[1;33m)\u001b[0m\u001b[1;33m:\u001b[0m\u001b[1;33m\u001b[0m\u001b[1;33m\u001b[0m\u001b[0m\n",
      "\u001b[1;31mAttributeError\u001b[0m: 'DataFrame' object has no attribute 'nota_var'"
     ]
    }
   ],
   "source": [
    "gest_serv[(gest_serv.anos_trabalho > 8) &\n",
    "         (gest_serv.anos_trabalho <= 13)].nota_var.mean()"
   ]
  },
  {
   "cell_type": "code",
   "execution_count": 30,
   "metadata": {},
   "outputs": [
    {
     "ename": "AttributeError",
     "evalue": "'DataFrame' object has no attribute 'nota_var'",
     "output_type": "error",
     "traceback": [
      "\u001b[1;31m---------------------------------------------------------------------------\u001b[0m",
      "\u001b[1;31mAttributeError\u001b[0m                            Traceback (most recent call last)",
      "\u001b[1;32m<ipython-input-30-1ab4fff53c5c>\u001b[0m in \u001b[0;36m<module>\u001b[1;34m\u001b[0m\n\u001b[0;32m      1\u001b[0m gest_serv[(gest_serv.anos_trabalho > 13) &\n\u001b[1;32m----> 2\u001b[1;33m          (gest_serv.anos_trabalho <= 17)].nota_var.mean()\n\u001b[0m",
      "\u001b[1;32m~\\Miniconda3\\envs\\fklearn\\lib\\site-packages\\pandas\\core\\generic.py\u001b[0m in \u001b[0;36m__getattr__\u001b[1;34m(self, name)\u001b[0m\n\u001b[0;32m   5065\u001b[0m             \u001b[1;32mif\u001b[0m \u001b[0mself\u001b[0m\u001b[1;33m.\u001b[0m\u001b[0m_info_axis\u001b[0m\u001b[1;33m.\u001b[0m\u001b[0m_can_hold_identifiers_and_holds_name\u001b[0m\u001b[1;33m(\u001b[0m\u001b[0mname\u001b[0m\u001b[1;33m)\u001b[0m\u001b[1;33m:\u001b[0m\u001b[1;33m\u001b[0m\u001b[1;33m\u001b[0m\u001b[0m\n\u001b[0;32m   5066\u001b[0m                 \u001b[1;32mreturn\u001b[0m \u001b[0mself\u001b[0m\u001b[1;33m[\u001b[0m\u001b[0mname\u001b[0m\u001b[1;33m]\u001b[0m\u001b[1;33m\u001b[0m\u001b[1;33m\u001b[0m\u001b[0m\n\u001b[1;32m-> 5067\u001b[1;33m             \u001b[1;32mreturn\u001b[0m \u001b[0mobject\u001b[0m\u001b[1;33m.\u001b[0m\u001b[0m__getattribute__\u001b[0m\u001b[1;33m(\u001b[0m\u001b[0mself\u001b[0m\u001b[1;33m,\u001b[0m \u001b[0mname\u001b[0m\u001b[1;33m)\u001b[0m\u001b[1;33m\u001b[0m\u001b[1;33m\u001b[0m\u001b[0m\n\u001b[0m\u001b[0;32m   5068\u001b[0m \u001b[1;33m\u001b[0m\u001b[0m\n\u001b[0;32m   5069\u001b[0m     \u001b[1;32mdef\u001b[0m \u001b[0m__setattr__\u001b[0m\u001b[1;33m(\u001b[0m\u001b[0mself\u001b[0m\u001b[1;33m,\u001b[0m \u001b[0mname\u001b[0m\u001b[1;33m,\u001b[0m \u001b[0mvalue\u001b[0m\u001b[1;33m)\u001b[0m\u001b[1;33m:\u001b[0m\u001b[1;33m\u001b[0m\u001b[1;33m\u001b[0m\u001b[0m\n",
      "\u001b[1;31mAttributeError\u001b[0m: 'DataFrame' object has no attribute 'nota_var'"
     ]
    }
   ],
   "source": [
    "gest_serv[(gest_serv.anos_trabalho > 13) &\n",
    "         (gest_serv.anos_trabalho <= 17)].nota_var.mean()"
   ]
  },
  {
   "cell_type": "code",
   "execution_count": 31,
   "metadata": {},
   "outputs": [
    {
     "ename": "AttributeError",
     "evalue": "'DataFrame' object has no attribute 'nota_var'",
     "output_type": "error",
     "traceback": [
      "\u001b[1;31m---------------------------------------------------------------------------\u001b[0m",
      "\u001b[1;31mAttributeError\u001b[0m                            Traceback (most recent call last)",
      "\u001b[1;32m<ipython-input-31-ca2193fd69b7>\u001b[0m in \u001b[0;36m<module>\u001b[1;34m\u001b[0m\n\u001b[1;32m----> 1\u001b[1;33m \u001b[0mgest_serv\u001b[0m\u001b[1;33m[\u001b[0m\u001b[0mgest_serv\u001b[0m\u001b[1;33m.\u001b[0m\u001b[0manos_trabalho\u001b[0m \u001b[1;33m>\u001b[0m \u001b[1;36m17\u001b[0m\u001b[1;33m]\u001b[0m\u001b[1;33m.\u001b[0m\u001b[0mnota_var\u001b[0m\u001b[1;33m.\u001b[0m\u001b[0mmean\u001b[0m\u001b[1;33m(\u001b[0m\u001b[1;33m)\u001b[0m\u001b[1;33m\u001b[0m\u001b[1;33m\u001b[0m\u001b[0m\n\u001b[0m",
      "\u001b[1;32m~\\Miniconda3\\envs\\fklearn\\lib\\site-packages\\pandas\\core\\generic.py\u001b[0m in \u001b[0;36m__getattr__\u001b[1;34m(self, name)\u001b[0m\n\u001b[0;32m   5065\u001b[0m             \u001b[1;32mif\u001b[0m \u001b[0mself\u001b[0m\u001b[1;33m.\u001b[0m\u001b[0m_info_axis\u001b[0m\u001b[1;33m.\u001b[0m\u001b[0m_can_hold_identifiers_and_holds_name\u001b[0m\u001b[1;33m(\u001b[0m\u001b[0mname\u001b[0m\u001b[1;33m)\u001b[0m\u001b[1;33m:\u001b[0m\u001b[1;33m\u001b[0m\u001b[1;33m\u001b[0m\u001b[0m\n\u001b[0;32m   5066\u001b[0m                 \u001b[1;32mreturn\u001b[0m \u001b[0mself\u001b[0m\u001b[1;33m[\u001b[0m\u001b[0mname\u001b[0m\u001b[1;33m]\u001b[0m\u001b[1;33m\u001b[0m\u001b[1;33m\u001b[0m\u001b[0m\n\u001b[1;32m-> 5067\u001b[1;33m             \u001b[1;32mreturn\u001b[0m \u001b[0mobject\u001b[0m\u001b[1;33m.\u001b[0m\u001b[0m__getattribute__\u001b[0m\u001b[1;33m(\u001b[0m\u001b[0mself\u001b[0m\u001b[1;33m,\u001b[0m \u001b[0mname\u001b[0m\u001b[1;33m)\u001b[0m\u001b[1;33m\u001b[0m\u001b[1;33m\u001b[0m\u001b[0m\n\u001b[0m\u001b[0;32m   5068\u001b[0m \u001b[1;33m\u001b[0m\u001b[0m\n\u001b[0;32m   5069\u001b[0m     \u001b[1;32mdef\u001b[0m \u001b[0m__setattr__\u001b[0m\u001b[1;33m(\u001b[0m\u001b[0mself\u001b[0m\u001b[1;33m,\u001b[0m \u001b[0mname\u001b[0m\u001b[1;33m,\u001b[0m \u001b[0mvalue\u001b[0m\u001b[1;33m)\u001b[0m\u001b[1;33m:\u001b[0m\u001b[1;33m\u001b[0m\u001b[1;33m\u001b[0m\u001b[0m\n",
      "\u001b[1;31mAttributeError\u001b[0m: 'DataFrame' object has no attribute 'nota_var'"
     ]
    }
   ],
   "source": [
    "gest_serv[gest_serv.anos_trabalho > 17].nota_var.mean()"
   ]
  },
  {
   "cell_type": "code",
   "execution_count": 32,
   "metadata": {},
   "outputs": [],
   "source": [
    "gest_serv.sexo = gest_serv.sexo.fillna(1)\n",
    "gest_serv.idade = gest_serv.idade.fillna(gest_serv.idade.median())\n",
    "gest_serv.anos_trabalho = gest_serv.anos_trabalho.fillna(gest_serv.anos_trabalho.median())"
   ]
  },
  {
   "cell_type": "code",
   "execution_count": 33,
   "metadata": {},
   "outputs": [
    {
     "data": {
      "text/html": [
       "<div>\n",
       "<style scoped>\n",
       "    .dataframe tbody tr th:only-of-type {\n",
       "        vertical-align: middle;\n",
       "    }\n",
       "\n",
       "    .dataframe tbody tr th {\n",
       "        vertical-align: top;\n",
       "    }\n",
       "\n",
       "    .dataframe thead th {\n",
       "        text-align: right;\n",
       "    }\n",
       "</style>\n",
       "<table border=\"1\" class=\"dataframe\">\n",
       "  <thead>\n",
       "    <tr style=\"text-align: right;\">\n",
       "      <th></th>\n",
       "      <th>nota_var</th>\n",
       "      <th>idade</th>\n",
       "      <th>anos_trabalho</th>\n",
       "      <th>sexo</th>\n",
       "    </tr>\n",
       "  </thead>\n",
       "  <tbody>\n",
       "    <tr>\n",
       "      <th>nota_var</th>\n",
       "      <td>NaN</td>\n",
       "      <td>NaN</td>\n",
       "      <td>NaN</td>\n",
       "      <td>NaN</td>\n",
       "    </tr>\n",
       "    <tr>\n",
       "      <th>idade</th>\n",
       "      <td>NaN</td>\n",
       "      <td>1.000000</td>\n",
       "      <td>0.424805</td>\n",
       "      <td>-0.081001</td>\n",
       "    </tr>\n",
       "    <tr>\n",
       "      <th>anos_trabalho</th>\n",
       "      <td>NaN</td>\n",
       "      <td>0.424805</td>\n",
       "      <td>1.000000</td>\n",
       "      <td>-0.089758</td>\n",
       "    </tr>\n",
       "    <tr>\n",
       "      <th>sexo</th>\n",
       "      <td>NaN</td>\n",
       "      <td>-0.081001</td>\n",
       "      <td>-0.089758</td>\n",
       "      <td>1.000000</td>\n",
       "    </tr>\n",
       "  </tbody>\n",
       "</table>\n",
       "</div>"
      ],
      "text/plain": [
       "               nota_var     idade  anos_trabalho      sexo\n",
       "nota_var            NaN       NaN            NaN       NaN\n",
       "idade               NaN  1.000000       0.424805 -0.081001\n",
       "anos_trabalho       NaN  0.424805       1.000000 -0.089758\n",
       "sexo                NaN -0.081001      -0.089758  1.000000"
      ]
     },
     "execution_count": 33,
     "metadata": {},
     "output_type": "execute_result"
    }
   ],
   "source": [
    "gest_serv.loc[:,['nota_var','idade','anos_trabalho','sexo']].corr()"
   ]
  },
  {
   "cell_type": "code",
   "execution_count": null,
   "metadata": {},
   "outputs": [],
   "source": []
  },
  {
   "cell_type": "code",
   "execution_count": null,
   "metadata": {},
   "outputs": [],
   "source": []
  },
  {
   "cell_type": "markdown",
   "metadata": {},
   "source": [
    "# SALVANDO DIMENSAO DE GESTORES"
   ]
  },
  {
   "cell_type": "code",
   "execution_count": 34,
   "metadata": {},
   "outputs": [],
   "source": [
    "gest_serv.to_csv('avaliacao_gestores.csv', index=False, sep=';')"
   ]
  },
  {
   "cell_type": "code",
   "execution_count": null,
   "metadata": {},
   "outputs": [],
   "source": []
  },
  {
   "cell_type": "code",
   "execution_count": null,
   "metadata": {},
   "outputs": [],
   "source": [
    "df_gestor = pd.read_csv('avaliacao_gestores.csv',sep=';')\n",
    "media_nota = df_gestor.media_nota.tolist()\n",
    "nota_acumulada = df_gestor.nota_acumulada.tolist()\n",
    "df_gestor = df_gestor.astype(int)\n",
    "df_gestor['media_nota'] = media_nota\n",
    "df_gestor['nota_acumulada'] = nota_acumulada"
   ]
  },
  {
   "cell_type": "code",
   "execution_count": null,
   "metadata": {},
   "outputs": [],
   "source": [
    "df_gestor.corr().loc['nota_acumulada', 'media_nota']"
   ]
  },
  {
   "cell_type": "code",
   "execution_count": null,
   "metadata": {},
   "outputs": [],
   "source": [
    "gestor = df_gestor.drop_duplicates(subset='id_gestor').copy()"
   ]
  },
  {
   "cell_type": "code",
   "execution_count": null,
   "metadata": {},
   "outputs": [],
   "source": [
    "gestor.corr()"
   ]
  },
  {
   "cell_type": "code",
   "execution_count": null,
   "metadata": {},
   "outputs": [],
   "source": []
  },
  {
   "cell_type": "code",
   "execution_count": null,
   "metadata": {},
   "outputs": [],
   "source": []
  },
  {
   "cell_type": "code",
   "execution_count": null,
   "metadata": {},
   "outputs": [],
   "source": []
  },
  {
   "cell_type": "code",
   "execution_count": null,
   "metadata": {},
   "outputs": [],
   "source": []
  },
  {
   "cell_type": "code",
   "execution_count": null,
   "metadata": {},
   "outputs": [],
   "source": []
  }
 ],
 "metadata": {
  "kernelspec": {
   "display_name": "Python 3",
   "language": "python",
   "name": "python3"
  },
  "language_info": {
   "codemirror_mode": {
    "name": "ipython",
    "version": 3
   },
   "file_extension": ".py",
   "mimetype": "text/x-python",
   "name": "python",
   "nbconvert_exporter": "python",
   "pygments_lexer": "ipython3",
   "version": "3.7.3"
  }
 },
 "nbformat": 4,
 "nbformat_minor": 2
}
