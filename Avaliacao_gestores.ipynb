{
 "cells": [
  {
   "cell_type": "code",
   "execution_count": 95,
   "metadata": {},
   "outputs": [],
   "source": [
    "import pandas as pd\n",
    "import collections\n",
    "from etl_gestores import etl_nota"
   ]
  },
  {
   "cell_type": "code",
   "execution_count": null,
   "metadata": {},
   "outputs": [],
   "source": [
    "df_gestao = etl_nota()"
   ]
  },
  {
   "cell_type": "code",
   "execution_count": null,
   "metadata": {},
   "outputs": [],
   "source": [
    "df_gestao.head(3)"
   ]
  },
  {
   "cell_type": "code",
   "execution_count": null,
   "metadata": {},
   "outputs": [],
   "source": []
  },
  {
   "cell_type": "code",
   "execution_count": null,
   "metadata": {},
   "outputs": [],
   "source": []
  },
  {
   "cell_type": "code",
   "execution_count": 4,
   "metadata": {},
   "outputs": [],
   "source": [
    "gestores = {}\n",
    "gestores['id_gestor'] = []\n",
    "gestores['n_atuacoes'] = []\n",
    "gestores['nota_var'] = []\n",
    "for nome, dados in df_gestao.groupby('id_gestor'): \n",
    "    gestores['id_gestor'].append(nome)\n",
    "    gestores['n_atuacoes'].append(dados.n_atuacoes.iloc[0])\n",
    "    gestores['nota_var'].append(dados.nota_var.iloc[0])   \n",
    "\n",
    "gestores = pd.DataFrame(data=gestores)\n",
    "#gestores = gestores[gestores.n_atuacoes >= 2]"
   ]
  },
  {
   "cell_type": "code",
   "execution_count": 5,
   "metadata": {},
   "outputs": [
    {
     "data": {
      "text/html": [
       "<div>\n",
       "<style scoped>\n",
       "    .dataframe tbody tr th:only-of-type {\n",
       "        vertical-align: middle;\n",
       "    }\n",
       "\n",
       "    .dataframe tbody tr th {\n",
       "        vertical-align: top;\n",
       "    }\n",
       "\n",
       "    .dataframe thead th {\n",
       "        text-align: right;\n",
       "    }\n",
       "</style>\n",
       "<table border=\"1\" class=\"dataframe\">\n",
       "  <thead>\n",
       "    <tr style=\"text-align: right;\">\n",
       "      <th></th>\n",
       "      <th>id_gestor</th>\n",
       "      <th>n_atuacoes</th>\n",
       "      <th>nota_var</th>\n",
       "    </tr>\n",
       "  </thead>\n",
       "  <tbody>\n",
       "    <tr>\n",
       "      <th>0</th>\n",
       "      <td>131346</td>\n",
       "      <td>11</td>\n",
       "      <td>0.636364</td>\n",
       "    </tr>\n",
       "    <tr>\n",
       "      <th>1</th>\n",
       "      <td>131376</td>\n",
       "      <td>7</td>\n",
       "      <td>-0.428571</td>\n",
       "    </tr>\n",
       "    <tr>\n",
       "      <th>2</th>\n",
       "      <td>131393</td>\n",
       "      <td>6</td>\n",
       "      <td>8.333333</td>\n",
       "    </tr>\n",
       "  </tbody>\n",
       "</table>\n",
       "</div>"
      ],
      "text/plain": [
       "   id_gestor  n_atuacoes  nota_var\n",
       "0     131346          11  0.636364\n",
       "1     131376           7 -0.428571\n",
       "2     131393           6  8.333333"
      ]
     },
     "execution_count": 5,
     "metadata": {},
     "output_type": "execute_result"
    }
   ],
   "source": [
    "gestores.head(3)"
   ]
  },
  {
   "cell_type": "code",
   "execution_count": 6,
   "metadata": {},
   "outputs": [],
   "source": [
    "gestores['primeira_viagem'] = gestores.n_atuacoes.apply(lambda x: 0 if x > 1 else 1)"
   ]
  },
  {
   "cell_type": "code",
   "execution_count": 7,
   "metadata": {},
   "outputs": [
    {
     "data": {
      "text/html": [
       "<div>\n",
       "<style scoped>\n",
       "    .dataframe tbody tr th:only-of-type {\n",
       "        vertical-align: middle;\n",
       "    }\n",
       "\n",
       "    .dataframe tbody tr th {\n",
       "        vertical-align: top;\n",
       "    }\n",
       "\n",
       "    .dataframe thead th {\n",
       "        text-align: right;\n",
       "    }\n",
       "</style>\n",
       "<table border=\"1\" class=\"dataframe\">\n",
       "  <thead>\n",
       "    <tr style=\"text-align: right;\">\n",
       "      <th></th>\n",
       "      <th>nota_var</th>\n",
       "      <th>primeira_viagem</th>\n",
       "    </tr>\n",
       "  </thead>\n",
       "  <tbody>\n",
       "    <tr>\n",
       "      <th>nota_var</th>\n",
       "      <td>1.00000</td>\n",
       "      <td>-0.02266</td>\n",
       "    </tr>\n",
       "    <tr>\n",
       "      <th>primeira_viagem</th>\n",
       "      <td>-0.02266</td>\n",
       "      <td>1.00000</td>\n",
       "    </tr>\n",
       "  </tbody>\n",
       "</table>\n",
       "</div>"
      ],
      "text/plain": [
       "                 nota_var  primeira_viagem\n",
       "nota_var          1.00000         -0.02266\n",
       "primeira_viagem  -0.02266          1.00000"
      ]
     },
     "execution_count": 7,
     "metadata": {},
     "output_type": "execute_result"
    }
   ],
   "source": [
    "gestores.loc[:,['nota_var','primeira_viagem']].corr()  # primeira viagem e ruim"
   ]
  },
  {
   "cell_type": "code",
   "execution_count": null,
   "metadata": {},
   "outputs": [],
   "source": []
  },
  {
   "cell_type": "code",
   "execution_count": null,
   "metadata": {},
   "outputs": [],
   "source": []
  },
  {
   "cell_type": "code",
   "execution_count": null,
   "metadata": {},
   "outputs": [],
   "source": []
  },
  {
   "cell_type": "markdown",
   "metadata": {},
   "source": [
    "# GESTOR QUE FALTA DEVE SER RUIM"
   ]
  },
  {
   "cell_type": "code",
   "execution_count": 8,
   "metadata": {},
   "outputs": [],
   "source": [
    "arquivo = 'D:\\\\DESAFIO_SEDUC\\\\dados\\\\ausncias-por-servidor-All-2020-04-13_1011\\\\BASE_AUSENCIAS_1118.csv'\n",
    "ausen1118 = pd.read_csv(arquivo, sep=';')\n",
    "arquivo = 'D:\\\\DESAFIO_SEDUC\\\\dados\\\\ausncias-por-servidor-All-2020-04-13_1011\\\\BASE_AUSENCIAS_0419.csv'\n",
    "ausen0419 = pd.read_csv(arquivo, sep=';')\n",
    "arquivo = 'D:\\\\DESAFIO_SEDUC\\\\dados\\\\ausncias-por-servidor-All-2020-04-13_1011\\\\BASE_AUSENCIAS_1119.csv'\n",
    "ausen1119 = pd.read_csv(arquivo, sep=';')\n",
    "ausen1118.columns = ausen1119.columns\n",
    "ausen0419.columns = ausen1119.columns\n",
    "ausen = ausen1118.append(ausen0419).append(ausen1119)"
   ]
  },
  {
   "cell_type": "code",
   "execution_count": 9,
   "metadata": {},
   "outputs": [],
   "source": [
    "CATEGORIAS = ['TT_DIAS_FALTA_MEDICA', 'TT_DIAS_FALTA_JUST', 'TT_DIAS_FALTA_INJUST',\n",
    "              'TT_DIAS_FALTA_ABONADA', 'TT_DIAS_LIC_PREMIO', 'TT_DIAS_LIC_GESTANTE', \n",
    "              'TT_DIAS_LIC_ACID_TRAB', 'TT_DIAS_LIC_INTER_PARTIC']\n",
    "\n",
    "aus = {}\n",
    "aus['id_gestor'] = []\n",
    "aus['dias'] = []\n",
    "for _, row in ausen.iterrows():\n",
    "    try:\n",
    "        id_interno = int(row.loc['id_interno'])\n",
    "    except:\n",
    "        continue\n",
    "        \n",
    "    dias = 0\n",
    "    for cat in CATEGORIAS:\n",
    "        try:\n",
    "            dia_x = int(row.loc[cat])\n",
    "        except:\n",
    "            dia_x = 0\n",
    "        dias += dia_x\n",
    "    aus['id_gestor'].append(id_interno)\n",
    "    aus['dias'].append(dias)\n",
    "\n",
    "aus = pd.DataFrame(aus)\n",
    "\n",
    "aus2 = {}\n",
    "aus2['id_gestor'] = []\n",
    "aus2['teve_falta'] = []\n",
    "teve_falta = lambda x: 1 if x > 0 else 0\n",
    "for nome, dados in aus.groupby('id_gestor'):\n",
    "    aus2['id_gestor'].append(nome)\n",
    "    aus2['teve_falta'].append(teve_falta(dados.dias.sum()))\n",
    "    \n",
    "aus = pd.DataFrame(aus2)    "
   ]
  },
  {
   "cell_type": "code",
   "execution_count": 10,
   "metadata": {},
   "outputs": [],
   "source": [
    "gest_falta = pd.merge(gestores, aus, on='id_gestor',how='left')\n",
    "gest_falta.teve_falta = gest_falta.teve_falta.fillna(0)"
   ]
  },
  {
   "cell_type": "code",
   "execution_count": 11,
   "metadata": {},
   "outputs": [
    {
     "data": {
      "text/html": [
       "<div>\n",
       "<style scoped>\n",
       "    .dataframe tbody tr th:only-of-type {\n",
       "        vertical-align: middle;\n",
       "    }\n",
       "\n",
       "    .dataframe tbody tr th {\n",
       "        vertical-align: top;\n",
       "    }\n",
       "\n",
       "    .dataframe thead th {\n",
       "        text-align: right;\n",
       "    }\n",
       "</style>\n",
       "<table border=\"1\" class=\"dataframe\">\n",
       "  <thead>\n",
       "    <tr style=\"text-align: right;\">\n",
       "      <th></th>\n",
       "      <th>nota_var</th>\n",
       "      <th>teve_falta</th>\n",
       "    </tr>\n",
       "  </thead>\n",
       "  <tbody>\n",
       "    <tr>\n",
       "      <th>nota_var</th>\n",
       "      <td>1.000000</td>\n",
       "      <td>-0.013066</td>\n",
       "    </tr>\n",
       "    <tr>\n",
       "      <th>teve_falta</th>\n",
       "      <td>-0.013066</td>\n",
       "      <td>1.000000</td>\n",
       "    </tr>\n",
       "  </tbody>\n",
       "</table>\n",
       "</div>"
      ],
      "text/plain": [
       "            nota_var  teve_falta\n",
       "nota_var    1.000000   -0.013066\n",
       "teve_falta -0.013066    1.000000"
      ]
     },
     "execution_count": 11,
     "metadata": {},
     "output_type": "execute_result"
    }
   ],
   "source": [
    "gest_falta.loc[:,['nota_var','teve_falta']].corr()  # correlacao para mostrar que influencia"
   ]
  },
  {
   "cell_type": "code",
   "execution_count": null,
   "metadata": {},
   "outputs": [],
   "source": []
  },
  {
   "cell_type": "code",
   "execution_count": null,
   "metadata": {},
   "outputs": [],
   "source": []
  },
  {
   "cell_type": "code",
   "execution_count": null,
   "metadata": {},
   "outputs": [],
   "source": []
  },
  {
   "cell_type": "markdown",
   "metadata": {},
   "source": [
    "# VER A FORMACAO DO GESTOR"
   ]
  },
  {
   "cell_type": "code",
   "execution_count": 12,
   "metadata": {},
   "outputs": [
    {
     "name": "stderr",
     "output_type": "stream",
     "text": [
      "C:\\Users\\admprime\\Miniconda3\\envs\\fklearn\\lib\\site-packages\\pandas\\core\\frame.py:6692: FutureWarning: Sorting because non-concatenation axis is not aligned. A future version\n",
      "of pandas will change to not sort by default.\n",
      "\n",
      "To accept the future behavior, pass 'sort=False'.\n",
      "\n",
      "To retain the current behavior and silence the warning, pass 'sort=True'.\n",
      "\n",
      "  sort=sort)\n"
     ]
    }
   ],
   "source": [
    "arquivo = 'D:\\\\DESAFIO_SEDUC\\\\dados\\\\formao-por-servidor-All-2020-04-13_1013\\\\BASE_FORMACAO_0419a.csv'\n",
    "formac0419 = pd.read_csv(arquivo, sep=';', encoding ='latin-1')\n",
    "arquivo = 'D:\\\\DESAFIO_SEDUC\\\\dados\\\\formao-por-servidor-All-2020-04-13_1013\\\\BASE_FORMACAO_1118.csv'\n",
    "formac1118 = pd.read_csv(arquivo, sep=';', encoding ='latin-1')\n",
    "arquivo = 'D:\\\\DESAFIO_SEDUC\\\\dados\\\\formao-por-servidor-All-2020-04-13_1013\\\\BASE_FORMACAO_1119a.csv'\n",
    "formac1119a = pd.read_csv(arquivo, sep=';', encoding ='latin-1')\n",
    "formac = formac0419.append(formac1118).append(formac1119a)"
   ]
  },
  {
   "cell_type": "code",
   "execution_count": 13,
   "metadata": {},
   "outputs": [],
   "source": [
    "def pontua_formacao(formacao):\n",
    "    # graduacao/especializacao + 1\n",
    "    # doutorado +2\n",
    "    \n",
    "    if formacao == 'LICENCIATURA':\n",
    "        return 1\n",
    "    elif formacao == 'LICENCIATURA + BACHARELADO/TECNÌÒLOGO + ESPECIALIZAÌàÌÄO':\n",
    "        return 3\n",
    "    elif formacao == 'LICENCIATURA + ESPECIALIZAÌàÌÄO':\n",
    "        return 2\n",
    "    elif formacao == 'ENSINO MÌäDIO':\n",
    "        return 0\n",
    "    elif formacao == 'LICENCIATURA + BACHARELADO/TECNÌÒLOGO':\n",
    "        return 2\n",
    "    elif formacao == 'BACHARELADO/TECNÌÒLOGO':\n",
    "        return 1\n",
    "    elif formacao == 'BACHARELADO/TECNÌÒLOGO':\n",
    "        return 1\n",
    "    elif formacao == 'S/INFO':\n",
    "        return 1\n",
    "    elif formacao == 'LICENCIATURA + ESPECIALIZAÌàÌÄO + MESTRADO':\n",
    "        return 3\n",
    "    elif formacao == 'LICENCIATURA + MESTRADO':\n",
    "        return 2\n",
    "    elif formacao == 'LICENCIATURA + BACHARELADO/TECNÌÒLOGO + MESTRADO':\n",
    "        return 3\n",
    "    elif formacao == 'ENSINO FUNDAMENTAL':\n",
    "        return 0\n",
    "    elif formacao == 'LICENCIATURA + BACHARELADO/TECNÌÒLOGO + ESPECIALIZAÌàÌÄO + MESTRADO':\n",
    "        return 4\n",
    "    elif formacao == 'LICENCIATURA + MESTRADO+DOUTORADO':\n",
    "        return 4\n",
    "    elif formacao == 'LICENCIATURA + BACHARELADO/TECNÌÒLOGO + MESTRADO + DOUTORADO':\n",
    "        return 5\n",
    "    elif formacao == 'APERF/EXTENSÌÄO CULTURAL':\n",
    "        return 0\n",
    "    elif formacao == 'LICENCIATURA + ESPECIALIZAÌàÌÄO + MESTRADO + DOUTORADO':\n",
    "        return 5\n",
    "    elif formacao == 'BACHARELADO/TECNÌÒLOGO + ESPECIALIZAÌàÌÄO':\n",
    "        return 2\n",
    "    elif formacao == 'LICENCIATURA + DOUTORADO':\n",
    "        return 3\n",
    "    elif formacao == 'LICENCIATURA + ESPECIALIZAÌàÌÄO+DOUTORADO':\n",
    "        return 4\n",
    "    elif formacao == 'BACHARELADO/TECNÌÒLOGO + MESTRADO':\n",
    "        return 2\n",
    "    elif formacao == 'LICENCIATURA + BACHARELADO/TECNÌÒLOGO+ESPECIALIZAÌàÌÄO+DOUTORADO':\n",
    "        return 5\n",
    "    elif formacao == 'ESPECIALIZAÌàÌÄO':\n",
    "        return 2\n",
    "    elif formacao == 'BACHARELADO/TECNÌÒLOGO + MESTRADO + DOUTORADO':\n",
    "        return 4\n",
    "    elif formacao == 'LICENCIATURA + BACHARELADO/TECNÌÒLOGO + DOUTORADO':\n",
    "        return 4\n",
    "    elif formacao == 'LICENCIATURA + BACHARELADO/TECNÌÒLOGO+ESPECIALIZAÌàÌÄO + MESTRADO + DOUTORADO':\n",
    "        return 6\n",
    "    elif formacao == 'ESPECIALIZAÌàÌÄO+MESTRADO':\n",
    "        return 3\n",
    "    elif formacao == 'BACHARELADO/TECNÌÒLOGO + ESPECIALIZAÌàÌÄO + MESTRADO':\n",
    "        return 3\n",
    "    elif formacao == 'BACHARELADO/TECNÌÒLOGO + DOUTORADO':\n",
    "        return 3\n",
    "    elif formacao == 'MESTRADO':\n",
    "        return 2\n",
    "    else:\n",
    "        return 1\n"
   ]
  },
  {
   "cell_type": "code",
   "execution_count": 14,
   "metadata": {},
   "outputs": [],
   "source": [
    "formac['formacao_pontos'] = formac.FORMACAO.apply(pontua_formacao)\n",
    "formac = formac.drop(formac[formac.id_interno.isnull()].index)\n",
    "formac.id_interno = formac.id_interno.astype(int)\n",
    "formac = formac.rename({'id_interno': 'id_gestor'}, axis=1)\n",
    "formac = formac.loc[:,['id_gestor','formacao_pontos']]"
   ]
  },
  {
   "cell_type": "code",
   "execution_count": 15,
   "metadata": {},
   "outputs": [],
   "source": [
    "formac2 = {}\n",
    "formac2['id_gestor'] = []\n",
    "formac2['formacao_pontos'] = []\n",
    "for nome, dados in formac.groupby('id_gestor'):\n",
    "    formac2['id_gestor'].append(nome)\n",
    "    formac2['formacao_pontos'].append(dados.formacao_pontos.max())\n",
    "    \n",
    "formac = pd.DataFrame(formac2)"
   ]
  },
  {
   "cell_type": "code",
   "execution_count": 16,
   "metadata": {},
   "outputs": [],
   "source": [
    "gest = pd.merge(gest_falta, formac, on='id_gestor',how='left')\n",
    "gest.formacao_pontos = gest.formacao_pontos.fillna(1)"
   ]
  },
  {
   "cell_type": "code",
   "execution_count": 17,
   "metadata": {},
   "outputs": [
    {
     "data": {
      "text/html": [
       "<div>\n",
       "<style scoped>\n",
       "    .dataframe tbody tr th:only-of-type {\n",
       "        vertical-align: middle;\n",
       "    }\n",
       "\n",
       "    .dataframe tbody tr th {\n",
       "        vertical-align: top;\n",
       "    }\n",
       "\n",
       "    .dataframe thead th {\n",
       "        text-align: right;\n",
       "    }\n",
       "</style>\n",
       "<table border=\"1\" class=\"dataframe\">\n",
       "  <thead>\n",
       "    <tr style=\"text-align: right;\">\n",
       "      <th></th>\n",
       "      <th>nota_var</th>\n",
       "      <th>formacao_pontos</th>\n",
       "    </tr>\n",
       "  </thead>\n",
       "  <tbody>\n",
       "    <tr>\n",
       "      <th>nota_var</th>\n",
       "      <td>1.000000</td>\n",
       "      <td>-0.022544</td>\n",
       "    </tr>\n",
       "    <tr>\n",
       "      <th>formacao_pontos</th>\n",
       "      <td>-0.022544</td>\n",
       "      <td>1.000000</td>\n",
       "    </tr>\n",
       "  </tbody>\n",
       "</table>\n",
       "</div>"
      ],
      "text/plain": [
       "                 nota_var  formacao_pontos\n",
       "nota_var         1.000000        -0.022544\n",
       "formacao_pontos -0.022544         1.000000"
      ]
     },
     "execution_count": 17,
     "metadata": {},
     "output_type": "execute_result"
    }
   ],
   "source": [
    "gest.loc[:,['nota_var','formacao_pontos']].corr()"
   ]
  },
  {
   "cell_type": "code",
   "execution_count": null,
   "metadata": {},
   "outputs": [],
   "source": []
  },
  {
   "cell_type": "code",
   "execution_count": null,
   "metadata": {},
   "outputs": [],
   "source": []
  },
  {
   "cell_type": "code",
   "execution_count": null,
   "metadata": {},
   "outputs": [],
   "source": []
  },
  {
   "cell_type": "markdown",
   "metadata": {},
   "source": [
    "# VER CARACTERISTICAS DO SERVIDOR"
   ]
  },
  {
   "cell_type": "code",
   "execution_count": 38,
   "metadata": {},
   "outputs": [
    {
     "name": "stderr",
     "output_type": "stream",
     "text": [
      "C:\\Users\\admprime\\Miniconda3\\envs\\fklearn\\lib\\site-packages\\IPython\\core\\interactiveshell.py:3049: DtypeWarning: Columns (11,36) have mixed types. Specify dtype option on import or set low_memory=False.\n",
      "  interactivity=interactivity, compiler=compiler, result=result)\n"
     ]
    }
   ],
   "source": [
    "arquivo = 'dados\\servidores-ativos-por-unidade-All-2020-04-13_1012\\BASE_SERVIDORES_ATIVOS_0419.csv'\n",
    "servidor0419 = pd.read_csv(arquivo, sep=';')\n",
    "arquivo = 'dados\\servidores-ativos-por-unidade-All-2020-04-13_1012\\BASE_SERVIDORES_ATIVOS_1118.csv'\n",
    "servidor1118 = pd.read_csv(arquivo, sep=';')\n",
    "arquivo = 'dados\\servidores-ativos-por-unidade-All-2020-04-13_1012\\BASE_SERVIDORES_ATIVOS_1119.csv'\n",
    "servidor1119 = pd.read_csv(arquivo, sep=';')\n",
    "servidor = servidor0419.append(servidor1118).append(servidor1119)\n",
    "servidor = servidor.drop(servidor[servidor.id_interno.isnull()].index)"
   ]
  },
  {
   "cell_type": "code",
   "execution_count": 44,
   "metadata": {},
   "outputs": [],
   "source": [
    "servidor.id_interno = servidor.id_interno.astype(int)\n",
    "servidor['SEXO_MASC'] = servidor.SEXO.apply(lambda x: 1 if x == 'M' else 0)"
   ]
  },
  {
   "cell_type": "code",
   "execution_count": 51,
   "metadata": {},
   "outputs": [],
   "source": [
    "serv = {}\n",
    "serv['id_gestor'] = []\n",
    "serv['idade'] = []\n",
    "serv['anos_trabalho'] = []\n",
    "serv['sexo'] = []\n",
    "for nome, dados in servidor.groupby('id_interno'):\n",
    "    serv['id_gestor'].append(nome)\n",
    "    serv['idade'].append(dados.IDADE.max())\n",
    "    serv['anos_trabalho'].append(dados.ANOS_TRAB_CARGO_C.max())\n",
    "    serv['sexo'].append(dados.SEXO_MASC.max())\n",
    "serv = pd.DataFrame(serv)"
   ]
  },
  {
   "cell_type": "code",
   "execution_count": 78,
   "metadata": {},
   "outputs": [],
   "source": [
    "gest_serv = pd.merge(gest, serv, on='id_gestor',how='left')"
   ]
  },
  {
   "cell_type": "code",
   "execution_count": 79,
   "metadata": {},
   "outputs": [
    {
     "data": {
      "text/html": [
       "<div>\n",
       "<style scoped>\n",
       "    .dataframe tbody tr th:only-of-type {\n",
       "        vertical-align: middle;\n",
       "    }\n",
       "\n",
       "    .dataframe tbody tr th {\n",
       "        vertical-align: top;\n",
       "    }\n",
       "\n",
       "    .dataframe thead th {\n",
       "        text-align: right;\n",
       "    }\n",
       "</style>\n",
       "<table border=\"1\" class=\"dataframe\">\n",
       "  <thead>\n",
       "    <tr style=\"text-align: right;\">\n",
       "      <th></th>\n",
       "      <th>nota_var</th>\n",
       "      <th>idade</th>\n",
       "      <th>anos_trabalho</th>\n",
       "      <th>sexo</th>\n",
       "    </tr>\n",
       "  </thead>\n",
       "  <tbody>\n",
       "    <tr>\n",
       "      <th>nota_var</th>\n",
       "      <td>1.000000</td>\n",
       "      <td>-0.007257</td>\n",
       "      <td>-0.017737</td>\n",
       "      <td>0.022639</td>\n",
       "    </tr>\n",
       "    <tr>\n",
       "      <th>idade</th>\n",
       "      <td>-0.007257</td>\n",
       "      <td>1.000000</td>\n",
       "      <td>0.432547</td>\n",
       "      <td>-0.090545</td>\n",
       "    </tr>\n",
       "    <tr>\n",
       "      <th>anos_trabalho</th>\n",
       "      <td>-0.017737</td>\n",
       "      <td>0.432547</td>\n",
       "      <td>1.000000</td>\n",
       "      <td>-0.097796</td>\n",
       "    </tr>\n",
       "    <tr>\n",
       "      <th>sexo</th>\n",
       "      <td>0.022639</td>\n",
       "      <td>-0.090545</td>\n",
       "      <td>-0.097796</td>\n",
       "      <td>1.000000</td>\n",
       "    </tr>\n",
       "  </tbody>\n",
       "</table>\n",
       "</div>"
      ],
      "text/plain": [
       "               nota_var     idade  anos_trabalho      sexo\n",
       "nota_var       1.000000 -0.007257      -0.017737  0.022639\n",
       "idade         -0.007257  1.000000       0.432547 -0.090545\n",
       "anos_trabalho -0.017737  0.432547       1.000000 -0.097796\n",
       "sexo           0.022639 -0.090545      -0.097796  1.000000"
      ]
     },
     "execution_count": 79,
     "metadata": {},
     "output_type": "execute_result"
    }
   ],
   "source": [
    "gest_serv.loc[:,['nota_var','idade','anos_trabalho','sexo']].corr()"
   ]
  },
  {
   "cell_type": "markdown",
   "metadata": {},
   "source": [
    "### ESTATISTICA DESCRIVA"
   ]
  },
  {
   "cell_type": "code",
   "execution_count": 85,
   "metadata": {},
   "outputs": [],
   "source": [
    "gest_serv = gest_serv.drop(gest_serv[gest_serv.idade.isnull()].index)"
   ]
  },
  {
   "cell_type": "code",
   "execution_count": 86,
   "metadata": {},
   "outputs": [
    {
     "data": {
      "text/plain": [
       "count    27769.000000\n",
       "mean        47.585797\n",
       "std          8.135821\n",
       "min         25.000000\n",
       "10%         37.000000\n",
       "50%         48.000000\n",
       "90%         58.000000\n",
       "max         73.000000\n",
       "Name: idade, dtype: float64"
      ]
     },
     "execution_count": 86,
     "metadata": {},
     "output_type": "execute_result"
    }
   ],
   "source": [
    "gest_serv.idade.describe(percentiles=[0.1,0.9])"
   ]
  },
  {
   "cell_type": "code",
   "execution_count": 88,
   "metadata": {},
   "outputs": [
    {
     "data": {
      "text/plain": [
       "count    27769.000000\n",
       "mean        12.797292\n",
       "std          6.359834\n",
       "min          0.000000\n",
       "25%          8.000000\n",
       "50%         13.000000\n",
       "75%         17.000000\n",
       "max         46.000000\n",
       "Name: anos_trabalho, dtype: float64"
      ]
     },
     "execution_count": 88,
     "metadata": {},
     "output_type": "execute_result"
    }
   ],
   "source": [
    "gest_serv.anos_trabalho.describe(percentiles=[0.25,0.75])"
   ]
  },
  {
   "cell_type": "code",
   "execution_count": 90,
   "metadata": {},
   "outputs": [
    {
     "data": {
      "text/plain": [
       "6.621039024565032"
      ]
     },
     "execution_count": 90,
     "metadata": {},
     "output_type": "execute_result"
    }
   ],
   "source": [
    "gest_serv[gest_serv.anos_trabalho <= 8].nota_var.mean()"
   ]
  },
  {
   "cell_type": "code",
   "execution_count": 91,
   "metadata": {},
   "outputs": [
    {
     "data": {
      "text/plain": [
       "6.4172509126018475"
      ]
     },
     "execution_count": 91,
     "metadata": {},
     "output_type": "execute_result"
    }
   ],
   "source": [
    "gest_serv[(gest_serv.anos_trabalho > 8) &\n",
    "         (gest_serv.anos_trabalho <= 13)].nota_var.mean()"
   ]
  },
  {
   "cell_type": "code",
   "execution_count": 92,
   "metadata": {},
   "outputs": [
    {
     "data": {
      "text/plain": [
       "6.484498037456371"
      ]
     },
     "execution_count": 92,
     "metadata": {},
     "output_type": "execute_result"
    }
   ],
   "source": [
    "gest_serv[(gest_serv.anos_trabalho > 13) &\n",
    "         (gest_serv.anos_trabalho <= 17)].nota_var.mean()"
   ]
  },
  {
   "cell_type": "code",
   "execution_count": 93,
   "metadata": {},
   "outputs": [
    {
     "data": {
      "text/plain": [
       "6.251948018980994"
      ]
     },
     "execution_count": 93,
     "metadata": {},
     "output_type": "execute_result"
    }
   ],
   "source": [
    "gest_serv[gest_serv.anos_trabalho > 17].nota_var.mean()"
   ]
  },
  {
   "cell_type": "code",
   "execution_count": null,
   "metadata": {},
   "outputs": [],
   "source": []
  },
  {
   "cell_type": "code",
   "execution_count": null,
   "metadata": {},
   "outputs": [],
   "source": []
  },
  {
   "cell_type": "code",
   "execution_count": null,
   "metadata": {},
   "outputs": [],
   "source": []
  },
  {
   "cell_type": "code",
   "execution_count": null,
   "metadata": {},
   "outputs": [],
   "source": []
  },
  {
   "cell_type": "code",
   "execution_count": null,
   "metadata": {},
   "outputs": [],
   "source": []
  },
  {
   "cell_type": "code",
   "execution_count": null,
   "metadata": {},
   "outputs": [],
   "source": []
  },
  {
   "cell_type": "code",
   "execution_count": null,
   "metadata": {},
   "outputs": [],
   "source": []
  },
  {
   "cell_type": "code",
   "execution_count": 68,
   "metadata": {},
   "outputs": [],
   "source": [
    "gest_serv.sexo = gest_serv.sexo.fillna(1)\n",
    "gest_serv.idade = gest_serv.idade.fillna(gest_serv.idade.median())\n",
    "gest_serv.anos_trabalho = gest_serv.anos_trabalho.fillna(gest_serv.anos_trabalho.median())"
   ]
  },
  {
   "cell_type": "code",
   "execution_count": 69,
   "metadata": {},
   "outputs": [
    {
     "data": {
      "text/html": [
       "<div>\n",
       "<style scoped>\n",
       "    .dataframe tbody tr th:only-of-type {\n",
       "        vertical-align: middle;\n",
       "    }\n",
       "\n",
       "    .dataframe tbody tr th {\n",
       "        vertical-align: top;\n",
       "    }\n",
       "\n",
       "    .dataframe thead th {\n",
       "        text-align: right;\n",
       "    }\n",
       "</style>\n",
       "<table border=\"1\" class=\"dataframe\">\n",
       "  <thead>\n",
       "    <tr style=\"text-align: right;\">\n",
       "      <th></th>\n",
       "      <th>nota_var</th>\n",
       "      <th>idade</th>\n",
       "      <th>anos_trabalho</th>\n",
       "      <th>sexo</th>\n",
       "    </tr>\n",
       "  </thead>\n",
       "  <tbody>\n",
       "    <tr>\n",
       "      <th>nota_var</th>\n",
       "      <td>1.000000</td>\n",
       "      <td>-0.004913</td>\n",
       "      <td>-0.013196</td>\n",
       "      <td>0.027114</td>\n",
       "    </tr>\n",
       "    <tr>\n",
       "      <th>idade</th>\n",
       "      <td>-0.004913</td>\n",
       "      <td>1.000000</td>\n",
       "      <td>0.432864</td>\n",
       "      <td>-0.037471</td>\n",
       "    </tr>\n",
       "    <tr>\n",
       "      <th>anos_trabalho</th>\n",
       "      <td>-0.013196</td>\n",
       "      <td>0.432864</td>\n",
       "      <td>1.000000</td>\n",
       "      <td>-0.051018</td>\n",
       "    </tr>\n",
       "    <tr>\n",
       "      <th>sexo</th>\n",
       "      <td>0.027114</td>\n",
       "      <td>-0.037471</td>\n",
       "      <td>-0.051018</td>\n",
       "      <td>1.000000</td>\n",
       "    </tr>\n",
       "  </tbody>\n",
       "</table>\n",
       "</div>"
      ],
      "text/plain": [
       "               nota_var     idade  anos_trabalho      sexo\n",
       "nota_var       1.000000 -0.004913      -0.013196  0.027114\n",
       "idade         -0.004913  1.000000       0.432864 -0.037471\n",
       "anos_trabalho -0.013196  0.432864       1.000000 -0.051018\n",
       "sexo           0.027114 -0.037471      -0.051018  1.000000"
      ]
     },
     "execution_count": 69,
     "metadata": {},
     "output_type": "execute_result"
    }
   ],
   "source": [
    "gest_serv.loc[:,['nota_var','idade','anos_trabalho','sexo']].corr()"
   ]
  },
  {
   "cell_type": "code",
   "execution_count": null,
   "metadata": {},
   "outputs": [],
   "source": []
  },
  {
   "cell_type": "code",
   "execution_count": 77,
   "metadata": {},
   "outputs": [],
   "source": [
    "gest_serv.to_csv('avaliacao_gestores.csv', index=False, sep=';')"
   ]
  },
  {
   "cell_type": "code",
   "execution_count": null,
   "metadata": {},
   "outputs": [],
   "source": []
  },
  {
   "cell_type": "code",
   "execution_count": null,
   "metadata": {},
   "outputs": [],
   "source": []
  },
  {
   "cell_type": "code",
   "execution_count": null,
   "metadata": {},
   "outputs": [],
   "source": []
  },
  {
   "cell_type": "code",
   "execution_count": null,
   "metadata": {},
   "outputs": [],
   "source": []
  },
  {
   "cell_type": "code",
   "execution_count": null,
   "metadata": {},
   "outputs": [],
   "source": []
  },
  {
   "cell_type": "code",
   "execution_count": null,
   "metadata": {},
   "outputs": [],
   "source": []
  }
 ],
 "metadata": {
  "kernelspec": {
   "display_name": "Python 3",
   "language": "python",
   "name": "python3"
  },
  "language_info": {
   "codemirror_mode": {
    "name": "ipython",
    "version": 3
   },
   "file_extension": ".py",
   "mimetype": "text/x-python",
   "name": "python",
   "nbconvert_exporter": "python",
   "pygments_lexer": "ipython3",
   "version": "3.7.3"
  }
 },
 "nbformat": 4,
 "nbformat_minor": 2
}
