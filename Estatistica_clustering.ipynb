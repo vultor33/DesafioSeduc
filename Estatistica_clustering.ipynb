{
 "cells": [
  {
   "cell_type": "code",
   "execution_count": 5,
   "metadata": {},
   "outputs": [],
   "source": [
    "import pandas as pd\n",
    "import collections\n",
    "import etl_idesp\n",
    "\n",
    "import numpy as np\n",
    "from fklearn.training.regression import xgb_regression_learner\n",
    "from fklearn.training.pipeline import build_pipeline\n",
    "from sklearn.metrics import r2_score\n",
    "from sklearn import linear_model\n",
    "from sklearn.ensemble import RandomForestRegressor\n",
    "import matplotlib.pyplot as plt\n",
    "\n",
    "pd.set_option('display.max_columns', None)"
   ]
  },
  {
   "cell_type": "code",
   "execution_count": null,
   "metadata": {},
   "outputs": [],
   "source": []
  },
  {
   "cell_type": "code",
   "execution_count": 4,
   "metadata": {},
   "outputs": [],
   "source": [
    "df_idesp = etl_idesp.etl()\n",
    "df_idesp.id_escola = df_idesp.id_escola.astype(int)"
   ]
  },
  {
   "cell_type": "code",
   "execution_count": 7,
   "metadata": {},
   "outputs": [
    {
     "data": {
      "text/html": [
       "<div>\n",
       "<style scoped>\n",
       "    .dataframe tbody tr th:only-of-type {\n",
       "        vertical-align: middle;\n",
       "    }\n",
       "\n",
       "    .dataframe tbody tr th {\n",
       "        vertical-align: top;\n",
       "    }\n",
       "\n",
       "    .dataframe thead th {\n",
       "        text-align: right;\n",
       "    }\n",
       "</style>\n",
       "<table border=\"1\" class=\"dataframe\">\n",
       "  <thead>\n",
       "    <tr style=\"text-align: right;\">\n",
       "      <th></th>\n",
       "      <th>nomedep</th>\n",
       "      <th>depadm</th>\n",
       "      <th>mun</th>\n",
       "      <th>codmun</th>\n",
       "      <th>de</th>\n",
       "      <th>CD_ESCOLA</th>\n",
       "      <th>CD_DIRETORIA</th>\n",
       "      <th>CD_DIRETORIA_ESTADUAL</th>\n",
       "      <th>CD_DIRETORIA_SUPVS_PROPR</th>\n",
       "      <th>NM_COMPLETO_ESCOLA</th>\n",
       "      <th>CD_UNIDADE</th>\n",
       "      <th>DS_ENDERECO</th>\n",
       "      <th>COMPLEMENTO</th>\n",
       "      <th>NUMERO</th>\n",
       "      <th>CD_ORIGEM_UNIDADE</th>\n",
       "      <th>CD_ORIGEM_ESCOLA</th>\n",
       "      <th>CD_ORIGEM_ENDERECO</th>\n",
       "      <th>LATITUDE</th>\n",
       "      <th>LONGITUDE</th>\n",
       "    </tr>\n",
       "  </thead>\n",
       "  <tbody>\n",
       "    <tr>\n",
       "      <th>0</th>\n",
       "      <td>ESTADUAL - SE</td>\n",
       "      <td>1</td>\n",
       "      <td>SAO PAULO</td>\n",
       "      <td>100</td>\n",
       "      <td>NORTE 1</td>\n",
       "      <td>36444</td>\n",
       "      <td>10101</td>\n",
       "      <td>10101</td>\n",
       "      <td>10101</td>\n",
       "      <td>GENESIO DE ALMEIDA MOURA DOUTOR</td>\n",
       "      <td>37806</td>\n",
       "      <td>DOMINGOS AREVALO</td>\n",
       "      <td>RUA</td>\n",
       "      <td>862</td>\n",
       "      <td>37806</td>\n",
       "      <td>36444</td>\n",
       "      <td>37866</td>\n",
       "      <td>-23.447</td>\n",
       "      <td>-46.6967</td>\n",
       "    </tr>\n",
       "    <tr>\n",
       "      <th>1</th>\n",
       "      <td>ESTADUAL - SE</td>\n",
       "      <td>1</td>\n",
       "      <td>SAO PAULO</td>\n",
       "      <td>100</td>\n",
       "      <td>LESTE 5</td>\n",
       "      <td>1582</td>\n",
       "      <td>10205</td>\n",
       "      <td>10205</td>\n",
       "      <td>10205</td>\n",
       "      <td>DOMINGOS FAUSTINO SARMIENTO</td>\n",
       "      <td>24902</td>\n",
       "      <td>21 DE ABRIL</td>\n",
       "      <td>RUA</td>\n",
       "      <td>970</td>\n",
       "      <td>24902</td>\n",
       "      <td>1582</td>\n",
       "      <td>24962</td>\n",
       "      <td>-23.5422317000605</td>\n",
       "      <td>-46.6057931815944</td>\n",
       "    </tr>\n",
       "    <tr>\n",
       "      <th>2</th>\n",
       "      <td>ESTADUAL - SE</td>\n",
       "      <td>1</td>\n",
       "      <td>SAO PAULO</td>\n",
       "      <td>100</td>\n",
       "      <td>LESTE 5</td>\n",
       "      <td>2173</td>\n",
       "      <td>10205</td>\n",
       "      <td>10205</td>\n",
       "      <td>10205</td>\n",
       "      <td>JOAO BORGES PROFESSOR</td>\n",
       "      <td>24901</td>\n",
       "      <td>ITAPURA</td>\n",
       "      <td>RUA</td>\n",
       "      <td>976</td>\n",
       "      <td>24901</td>\n",
       "      <td>2173</td>\n",
       "      <td>24961</td>\n",
       "      <td>-23.5473</td>\n",
       "      <td>-46.566</td>\n",
       "    </tr>\n",
       "  </tbody>\n",
       "</table>\n",
       "</div>"
      ],
      "text/plain": [
       "         nomedep depadm        mun codmun       de CD_ESCOLA CD_DIRETORIA  \\\n",
       "0  ESTADUAL - SE      1  SAO PAULO    100  NORTE 1     36444        10101   \n",
       "1  ESTADUAL - SE      1  SAO PAULO    100  LESTE 5      1582        10205   \n",
       "2  ESTADUAL - SE      1  SAO PAULO    100  LESTE 5      2173        10205   \n",
       "\n",
       "  CD_DIRETORIA_ESTADUAL CD_DIRETORIA_SUPVS_PROPR  \\\n",
       "0                 10101                    10101   \n",
       "1                 10205                    10205   \n",
       "2                 10205                    10205   \n",
       "\n",
       "                NM_COMPLETO_ESCOLA CD_UNIDADE        DS_ENDERECO COMPLEMENTO  \\\n",
       "0  GENESIO DE ALMEIDA MOURA DOUTOR      37806  DOMINGOS AREVALO          RUA   \n",
       "1      DOMINGOS FAUSTINO SARMIENTO      24902       21 DE ABRIL          RUA   \n",
       "2            JOAO BORGES PROFESSOR      24901           ITAPURA          RUA   \n",
       "\n",
       "  NUMERO CD_ORIGEM_UNIDADE CD_ORIGEM_ESCOLA CD_ORIGEM_ENDERECO  \\\n",
       "0    862             37806            36444              37866   \n",
       "1    970             24902             1582              24962   \n",
       "2    976             24901             2173              24961   \n",
       "\n",
       "            LATITUDE        LONGITUDE\\n  \n",
       "0            -23.447           -46.6967  \n",
       "1  -23.5422317000605  -46.6057931815944  \n",
       "2           -23.5473            -46.566  "
      ]
     },
     "execution_count": 7,
     "metadata": {},
     "output_type": "execute_result"
    }
   ],
   "source": [
    "arquivo = 'D:\\\\DESAFIO_SEDUC\\\\dados-VERSAO_1\\\\escolas_enderecos\\\\11_escolas_enderecos_0.csv'\n",
    "with open(arquivo, encoding=\"utf8\") as file_in:\n",
    "    lines = []\n",
    "    for line in file_in:\n",
    "        lines.append(line)\n",
    "dados_lines = []\n",
    "len_lines = len(lines[0].split(','))\n",
    "for line in lines[1:]:\n",
    "    line = line.rstrip().split(',')\n",
    "    if len(line) == len_lines:  # linhas com numero incorreto de colunas foram descartadas (1)\n",
    "        dados_lines.append(line)\n",
    "end = pd.DataFrame(data=dados_lines)\n",
    "end.columns = lines[0].split(',')\n",
    "end.head(3)"
   ]
  },
  {
   "cell_type": "code",
   "execution_count": 8,
   "metadata": {},
   "outputs": [],
   "source": [
    "end = end.rename({'CD_ESCOLA': 'id_escola'}, axis=1)\n",
    "end = end.rename({'LONGITUDE\\n': 'LONGITUDE'}, axis=1)\n",
    "end.id_escola = end.id_escola.astype(int)\n",
    "escolas_end = set(end.id_escola)\n",
    "end = end.drop_duplicates('id_escola')"
   ]
  },
  {
   "cell_type": "code",
   "execution_count": 32,
   "metadata": {},
   "outputs": [],
   "source": []
  },
  {
   "cell_type": "code",
   "execution_count": 34,
   "metadata": {},
   "outputs": [],
   "source": [
    "idesp = pd.merge(df_idesp,end, on='id_escola',how='left')"
   ]
  },
  {
   "cell_type": "code",
   "execution_count": 42,
   "metadata": {},
   "outputs": [],
   "source": [
    "idesp = idesp.dropna(subset=['nota_ano','LONGITUDE','LATITUDE'])\n",
    "idesp.LONGITUDE = idesp.LONGITUDE.astype(float)\n",
    "idesp.LATITUDE = idesp.LATITUDE.astype(float)\n",
    "idesp.nota_ano = idesp.nota_ano.astype(float)\n",
    "idesp = idesp.drop_duplicates('id_escola')"
   ]
  },
  {
   "cell_type": "code",
   "execution_count": 58,
   "metadata": {},
   "outputs": [],
   "source": []
  },
  {
   "cell_type": "code",
   "execution_count": null,
   "metadata": {},
   "outputs": [],
   "source": []
  },
  {
   "cell_type": "code",
   "execution_count": null,
   "metadata": {},
   "outputs": [],
   "source": []
  },
  {
   "cell_type": "code",
   "execution_count": null,
   "metadata": {},
   "outputs": [],
   "source": []
  },
  {
   "cell_type": "code",
   "execution_count": null,
   "metadata": {},
   "outputs": [],
   "source": []
  },
  {
   "cell_type": "code",
   "execution_count": 59,
   "metadata": {},
   "outputs": [],
   "source": [
    "dados = idesp.loc[:,['id_gestao', 'nota_ano','LONGITUDE','LATITUDE']].copy()"
   ]
  },
  {
   "cell_type": "code",
   "execution_count": 60,
   "metadata": {},
   "outputs": [
    {
     "name": "stdout",
     "output_type": "stream",
     "text": [
      "dados:   5097   treino:   4248   teste:   849\n"
     ]
    }
   ],
   "source": [
    "# SEPARACAO ENTRE TREINO E TESTE\n",
    "dados_teste = dados.sample(int(len(dados)/6), replace = False)\n",
    "index_teste = dados_teste.index\n",
    "dados_treino = dados.drop(index_teste)\n",
    "dados_teste = dados_teste.reset_index(drop=True)\n",
    "dados_treino = dados_treino.reset_index(drop=True)\n",
    "print('dados:  ', len(dados), '  treino:  ', len(dados_treino), '  teste:  ', len(dados_teste))"
   ]
  },
  {
   "cell_type": "code",
   "execution_count": null,
   "metadata": {},
   "outputs": [],
   "source": []
  },
  {
   "cell_type": "code",
   "execution_count": 61,
   "metadata": {},
   "outputs": [],
   "source": [
    "AUXILIARY = ['id_gestao']\n",
    "TARGET = ['nota_ano']\n",
    "FEATURES = set(dados.columns) - set(AUXILIARY) - set(TARGET)\n",
    "\n",
    "my_model = xgb_regression_learner(\n",
    "    features=FEATURES,\n",
    "    target=TARGET[0],\n",
    "    prediction_column='prediction',\n",
    "    extra_params={'seed': 139, 'nthread': 8},\n",
    ")\n",
    "my_learner = build_pipeline(my_model)\n",
    "\n",
    "# TREINO\n",
    "(prediction_function, treinado, logs) = my_learner(dados_treino)\n",
    "# TESTE\n",
    "testados = prediction_function(dados_teste)"
   ]
  },
  {
   "cell_type": "code",
   "execution_count": null,
   "metadata": {},
   "outputs": [],
   "source": []
  },
  {
   "cell_type": "code",
   "execution_count": 62,
   "metadata": {},
   "outputs": [
    {
     "data": {
      "text/plain": [
       "0.06509944597552875"
      ]
     },
     "execution_count": 62,
     "metadata": {},
     "output_type": "execute_result"
    }
   ],
   "source": [
    "r2_score(testados.nota_ano, testados.prediction.tolist())"
   ]
  },
  {
   "cell_type": "code",
   "execution_count": 63,
   "metadata": {},
   "outputs": [
    {
     "data": {
      "text/plain": [
       "0.36597987459181613"
      ]
     },
     "execution_count": 63,
     "metadata": {},
     "output_type": "execute_result"
    }
   ],
   "source": [
    "r2_score(treinado.nota_ano.tolist(), treinado.prediction.tolist())"
   ]
  },
  {
   "cell_type": "code",
   "execution_count": null,
   "metadata": {},
   "outputs": [],
   "source": []
  },
  {
   "cell_type": "code",
   "execution_count": null,
   "metadata": {},
   "outputs": [],
   "source": []
  },
  {
   "cell_type": "code",
   "execution_count": null,
   "metadata": {},
   "outputs": [],
   "source": []
  },
  {
   "cell_type": "code",
   "execution_count": null,
   "metadata": {},
   "outputs": [],
   "source": []
  },
  {
   "cell_type": "code",
   "execution_count": null,
   "metadata": {},
   "outputs": [],
   "source": []
  },
  {
   "cell_type": "code",
   "execution_count": null,
   "metadata": {},
   "outputs": [],
   "source": []
  },
  {
   "cell_type": "code",
   "execution_count": null,
   "metadata": {},
   "outputs": [],
   "source": []
  },
  {
   "cell_type": "code",
   "execution_count": null,
   "metadata": {},
   "outputs": [],
   "source": []
  },
  {
   "cell_type": "code",
   "execution_count": null,
   "metadata": {},
   "outputs": [],
   "source": []
  },
  {
   "cell_type": "code",
   "execution_count": null,
   "metadata": {},
   "outputs": [],
   "source": []
  }
 ],
 "metadata": {
  "kernelspec": {
   "display_name": "Python 3",
   "language": "python",
   "name": "python3"
  },
  "language_info": {
   "codemirror_mode": {
    "name": "ipython",
    "version": 3
   },
   "file_extension": ".py",
   "mimetype": "text/x-python",
   "name": "python",
   "nbconvert_exporter": "python",
   "pygments_lexer": "ipython3",
   "version": "3.7.3"
  }
 },
 "nbformat": 4,
 "nbformat_minor": 2
}
