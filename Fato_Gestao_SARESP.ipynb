{
 "cells": [
  {
   "cell_type": "code",
   "execution_count": null,
   "metadata": {},
   "outputs": [],
   "source": [
    "import pandas as pd\n",
    "import collections"
   ]
  },
  {
   "cell_type": "code",
   "execution_count": null,
   "metadata": {},
   "outputs": [],
   "source": [
    "#https://dados.educacao.sp.gov.br/search/field_topic/desafios-seduc-164"
   ]
  },
  {
   "cell_type": "markdown",
   "metadata": {},
   "source": [
    "# FATO\n",
    "- Avaliacao do Saresp\n",
    "- Ano\n",
    "- Valor (medprof)\n",
    "- Dim disciplina (serie/periodo/conteudo) - TODO: incluir o professor aqui.\n",
    "- Dim equipe de gestores - tabela com Ids e uma auxiliar de detalhamentos\n",
    "- Dim escola"
   ]
  },
  {
   "cell_type": "markdown",
   "metadata": {},
   "source": [
    "# FUNCOES"
   ]
  },
  {
   "cell_type": "code",
   "execution_count": 273,
   "metadata": {},
   "outputs": [],
   "source": [
    "def limpa_serie_ano(serie_ano):\n",
    "    if serie_ano == '9Âº Ano EF' or serie_ano == '9º Ano EF':\n",
    "        return 'EF-9'\n",
    "    elif serie_ano == '7Âº Ano EF':\n",
    "        return 'EF-7'\n",
    "    elif serie_ano == 'EM-3Âª sÃ©rie' or serie_ano == 'EM-3ª série':\n",
    "        return 'EM-3'\n",
    "    elif serie_ano == '3Âº Ano EF' or serie_ano == '3º Ano EF':\n",
    "        return 'EF-3'\n",
    "    elif serie_ano == '5Âº Ano EF' or serie_ano == '5º Ano EF':\n",
    "        return 'EF-5'\n",
    "    \n",
    "def limpa_ds_comp(ds_comp):\n",
    "    if ds_comp == 'LÃ\\x8dNGUA PORTUGUESA' or ds_comp == 'LÍNGUA PORTUGUESA':\n",
    "        return 'PORTUGUES'\n",
    "    elif ds_comp == 'MATEMÃ\\x81TICA' or ds_comp == 'MATEMÁTICA':\n",
    "        return 'MATEMATICA'\n",
    "    elif ds_comp == 'CIÃ\\x8aNCIAS':\n",
    "        return 'CIENCIAS'    \n",
    "    \n",
    "def enulo(valor):\n",
    "    return str(valor) == 'nan'   "
   ]
  },
  {
   "cell_type": "code",
   "execution_count": null,
   "metadata": {},
   "outputs": [],
   "source": []
  },
  {
   "cell_type": "code",
   "execution_count": null,
   "metadata": {},
   "outputs": [],
   "source": []
  },
  {
   "cell_type": "code",
   "execution_count": null,
   "metadata": {},
   "outputs": [],
   "source": []
  },
  {
   "cell_type": "markdown",
   "metadata": {},
   "source": [
    "# CARREGAMENTO DOS DADOS"
   ]
  },
  {
   "cell_type": "code",
   "execution_count": null,
   "metadata": {},
   "outputs": [],
   "source": [
    "# SARESP\n",
    "arquivo = 'dados/saresp/SARESP_escolas_2014.csv'\n",
    "df_2014 = pd.read_csv(arquivo, sep=';', encoding='latin-1')\n",
    "df_2014['ano'] = 2014\n",
    "arquivo = 'dados/saresp/SARESP_escolas_2015.csv'\n",
    "df_2015 = pd.read_csv(arquivo, sep=';', encoding='latin-1')\n",
    "df_2015['ano'] = 2015\n",
    "arquivo = 'dados/saresp/SARESP_escolas_2016.csv'\n",
    "df_2016 = pd.read_csv(arquivo, sep=';', encoding='latin-1')\n",
    "df_2016['ano'] = 2016\n",
    "arquivo = 'dados/saresp/SARESP_escolas_2017.csv'\n",
    "df_2017 = pd.read_csv(arquivo, sep=';', encoding='latin-1')\n",
    "df_2017['ano'] = 2017\n",
    "arquivo = 'dados/saresp/SARESP_escolas_2018.csv'\n",
    "df_2018 = pd.read_csv(arquivo, sep=';', encoding='latin-1')\n",
    "df_2018['ano'] = 2018\n",
    "saresp = df_2014.append(df_2015).append(df_2016).append(df_2017).append(df_2018)\n",
    "saresp = saresp[saresp.medprof.notnull()] # nao estou interessado se nao tiver o valor do saresp"
   ]
  },
  {
   "cell_type": "code",
   "execution_count": null,
   "metadata": {},
   "outputs": [],
   "source": [
    "# GESTORES\n",
    "arquivo = 'dados\\lideres\\lideres_DIRETORES DE ESCOLA.csv'\n",
    "diretor = pd.read_csv(arquivo, sep=';')\n",
    "arquivo = 'dados\\lideres\\lideres_VICE_DIRETOR.csv'\n",
    "vice = pd.read_csv(arquivo, sep=';')\n",
    "arquivo = 'dados\\lideres\\lideres_PROFESSOR_COORDENADOR.csv'\n",
    "coordenador = pd.read_csv(arquivo, sep=';')\n",
    "vice = vice.drop('Unnamed: 16',axis=1)"
   ]
  },
  {
   "cell_type": "code",
   "execution_count": null,
   "metadata": {},
   "outputs": [],
   "source": [
    "# IDESP\n",
    "df_idesp_anosiniciais = pd.read_csv('dados\\idesp/IDESP_Escolas_2007_2018_AI.CSV',sep=',')\n",
    "df_idesp_anosfinais = pd.read_csv('dados\\idesp/IDESP_Escolas_2007_2018_AF.CSV',sep=',')\n",
    "df_idesp_ensinomedio = pd.read_csv('dados\\idesp/IDESP_Escolas_2007_2018_EM.CSV',sep=',')"
   ]
  },
  {
   "cell_type": "code",
   "execution_count": null,
   "metadata": {},
   "outputs": [],
   "source": [
    "df_idesp = df_idesp_anosiniciais.append(df_idesp_anosfinais).append(df_idesp_ensinomedio)"
   ]
  },
  {
   "cell_type": "code",
   "execution_count": null,
   "metadata": {},
   "outputs": [],
   "source": []
  },
  {
   "cell_type": "code",
   "execution_count": null,
   "metadata": {},
   "outputs": [],
   "source": []
  },
  {
   "cell_type": "code",
   "execution_count": null,
   "metadata": {},
   "outputs": [],
   "source": []
  },
  {
   "cell_type": "code",
   "execution_count": null,
   "metadata": {},
   "outputs": [],
   "source": []
  },
  {
   "cell_type": "code",
   "execution_count": null,
   "metadata": {},
   "outputs": [],
   "source": []
  },
  {
   "cell_type": "markdown",
   "metadata": {},
   "source": [
    "# GERANDO DIMENSAO IDESP"
   ]
  },
  {
   "cell_type": "code",
   "execution_count": 442,
   "metadata": {},
   "outputs": [],
   "source": [
    "CRIMPAR_MAX_VARIACAO = 30 # 90%\n",
    "CRIMPAR_MIN_VARIACAO = -13 # 10%"
   ]
  },
  {
   "cell_type": "code",
   "execution_count": 278,
   "metadata": {},
   "outputs": [],
   "source": [
    "LISTA_ANOS = ['2014', '2015', '2016', '2017', '2018']\n",
    "LISTA_ANO_ANTERIOR = ['2013', '2014', '2015', '2016', '2017']\n",
    "idesp = {}\n",
    "idesp['id_gestao'] = []\n",
    "idesp['id_escola'] = []\n",
    "idesp['ano_gestao'] = []\n",
    "idesp['nivel_ensino'] = []\n",
    "idesp['nota_ano'] = []\n",
    "idesp['nota_anterior'] = []\n",
    "\n",
    "for _, row in df_idesp.iterrows():\n",
    "    for ano,ano_anterior in zip(LISTA_ANOS, LISTA_ANO_ANTERIOR):\n",
    "        if enulo(row.loc[ano]):\n",
    "            continue\n",
    "        idesp_anterior = row.loc[ano_anterior]\n",
    "        if enulo(idesp_anterior):\n",
    "            idesp_anterior = row.loc[ano]\n",
    "            \n",
    "        idesp['id_gestao'].append('esc-' + str(row.loc['CODIGO CIE']) + '-ano-' + str(ano))\n",
    "        idesp['id_escola'].append(row.loc['CODIGO CIE'])\n",
    "        idesp['ano_gestao'].append(ano)\n",
    "        idesp['nivel_ensino'].append(row.loc['NIVEL ENSINO'])\n",
    "        idesp['nota_ano'].append(row.loc[ano])\n",
    "        idesp['nota_anterior'].append(idesp_anterior)\n",
    "\n",
    "idesp = pd.DataFrame(data=idesp)"
   ]
  },
  {
   "cell_type": "code",
   "execution_count": 437,
   "metadata": {},
   "outputs": [],
   "source": [
    "idesp_group = {}\n",
    "idesp_group['id_gestao'] = []\n",
    "idesp_group['id_escola'] = []\n",
    "idesp_group['ano_gestao'] = []\n",
    "idesp_group['nota_ano'] = []\n",
    "idesp_group['variacao'] = []\n",
    "\n",
    "for nome, dados in idesp.groupby('id_gestao'):\n",
    "    nota_ano = dados.nota_ano.mean()\n",
    "    nota_anterior = dados.nota_anterior.mean()\n",
    "    variacao = int(100 * (nota_ano - nota_anterior) / nota_anterior)\n",
    "    idesp_group['id_gestao'].append(nome)\n",
    "    idesp_group['id_escola'].append(dados.id_escola.iloc[0])\n",
    "    idesp_group['ano_gestao'].append(int(dados.ano_gestao.iloc[0]))\n",
    "    idesp_group['nota_ano'].append(nota_ano)\n",
    "    idesp_group['variacao'].append(variacao)\n",
    "    \n",
    "idesp_group = pd.DataFrame(data=idesp_group)"
   ]
  },
  {
   "cell_type": "code",
   "execution_count": 443,
   "metadata": {},
   "outputs": [],
   "source": [
    "idesp_group.variacao = idesp_group.variacao.apply(lambda x: CRIMPAR_MAX_VARIACAO if x > CRIMPAR_MAX_VARIACAO else x)\n",
    "idesp_group.variacao = idesp_group.variacao.apply(lambda x: CRIMPAR_MIN_VARIACAO if x < CRIMPAR_MIN_VARIACAO else x)"
   ]
  },
  {
   "cell_type": "code",
   "execution_count": 444,
   "metadata": {},
   "outputs": [
    {
     "data": {
      "text/plain": [
       "count    25111.000000\n",
       "mean         6.341603\n",
       "std         13.379996\n",
       "min        -13.000000\n",
       "10%        -13.000000\n",
       "50%          4.000000\n",
       "90%         30.000000\n",
       "max         30.000000\n",
       "Name: variacao, dtype: float64"
      ]
     },
     "execution_count": 444,
     "metadata": {},
     "output_type": "execute_result"
    }
   ],
   "source": [
    "idesp_group.variacao.describe(percentiles=[0.10,0.90])"
   ]
  },
  {
   "cell_type": "code",
   "execution_count": null,
   "metadata": {},
   "outputs": [],
   "source": []
  },
  {
   "cell_type": "code",
   "execution_count": null,
   "metadata": {},
   "outputs": [],
   "source": []
  },
  {
   "cell_type": "code",
   "execution_count": null,
   "metadata": {},
   "outputs": [],
   "source": []
  },
  {
   "cell_type": "code",
   "execution_count": null,
   "metadata": {},
   "outputs": [],
   "source": []
  },
  {
   "cell_type": "code",
   "execution_count": null,
   "metadata": {},
   "outputs": [],
   "source": []
  },
  {
   "cell_type": "markdown",
   "metadata": {},
   "source": [
    "### ESTUDO DAS VARIACOES"
   ]
  },
  {
   "cell_type": "code",
   "execution_count": 320,
   "metadata": {
    "scrolled": true
   },
   "outputs": [
    {
     "data": {
      "text/html": [
       "<div>\n",
       "<style scoped>\n",
       "    .dataframe tbody tr th:only-of-type {\n",
       "        vertical-align: middle;\n",
       "    }\n",
       "\n",
       "    .dataframe tbody tr th {\n",
       "        vertical-align: top;\n",
       "    }\n",
       "\n",
       "    .dataframe thead th {\n",
       "        text-align: right;\n",
       "    }\n",
       "</style>\n",
       "<table border=\"1\" class=\"dataframe\">\n",
       "  <thead>\n",
       "    <tr style=\"text-align: right;\">\n",
       "      <th></th>\n",
       "      <th>id_gestao</th>\n",
       "      <th>id_escola</th>\n",
       "      <th>ano_gestao</th>\n",
       "      <th>nota_ano</th>\n",
       "      <th>variacao</th>\n",
       "    </tr>\n",
       "  </thead>\n",
       "  <tbody>\n",
       "    <tr>\n",
       "      <th>1033</th>\n",
       "      <td>esc-12488-ano-2015</td>\n",
       "      <td>12488</td>\n",
       "      <td>2015</td>\n",
       "      <td>2.87</td>\n",
       "      <td>304</td>\n",
       "    </tr>\n",
       "    <tr>\n",
       "      <th>4102</th>\n",
       "      <td>esc-2008-ano-2016</td>\n",
       "      <td>2008</td>\n",
       "      <td>2016</td>\n",
       "      <td>2.46</td>\n",
       "      <td>261</td>\n",
       "    </tr>\n",
       "    <tr>\n",
       "      <th>7679</th>\n",
       "      <td>esc-29269-ano-2015</td>\n",
       "      <td>29269</td>\n",
       "      <td>2015</td>\n",
       "      <td>7.96</td>\n",
       "      <td>237</td>\n",
       "    </tr>\n",
       "    <tr>\n",
       "      <th>11831</th>\n",
       "      <td>esc-40551-ano-2016</td>\n",
       "      <td>40551</td>\n",
       "      <td>2016</td>\n",
       "      <td>2.25</td>\n",
       "      <td>324</td>\n",
       "    </tr>\n",
       "    <tr>\n",
       "      <th>12296</th>\n",
       "      <td>esc-4157-ano-2014</td>\n",
       "      <td>4157</td>\n",
       "      <td>2014</td>\n",
       "      <td>3.50</td>\n",
       "      <td>379</td>\n",
       "    </tr>\n",
       "    <tr>\n",
       "      <th>12667</th>\n",
       "      <td>esc-42500-ano-2018</td>\n",
       "      <td>42500</td>\n",
       "      <td>2018</td>\n",
       "      <td>3.70</td>\n",
       "      <td>345</td>\n",
       "    </tr>\n",
       "    <tr>\n",
       "      <th>12717</th>\n",
       "      <td>esc-42626-ano-2018</td>\n",
       "      <td>42626</td>\n",
       "      <td>2018</td>\n",
       "      <td>3.08</td>\n",
       "      <td>201</td>\n",
       "    </tr>\n",
       "  </tbody>\n",
       "</table>\n",
       "</div>"
      ],
      "text/plain": [
       "                id_gestao id_escola  ano_gestao  nota_ano  variacao\n",
       "1033   esc-12488-ano-2015     12488        2015      2.87       304\n",
       "4102    esc-2008-ano-2016      2008        2016      2.46       261\n",
       "7679   esc-29269-ano-2015     29269        2015      7.96       237\n",
       "11831  esc-40551-ano-2016     40551        2016      2.25       324\n",
       "12296   esc-4157-ano-2014      4157        2014      3.50       379\n",
       "12667  esc-42500-ano-2018     42500        2018      3.70       345\n",
       "12717  esc-42626-ano-2018     42626        2018      3.08       201"
      ]
     },
     "execution_count": 320,
     "metadata": {},
     "output_type": "execute_result"
    }
   ],
   "source": [
    "idesp_group[idesp_group.variacao > 200]"
   ]
  },
  {
   "cell_type": "code",
   "execution_count": 321,
   "metadata": {
    "scrolled": true
   },
   "outputs": [
    {
     "data": {
      "text/html": [
       "<div>\n",
       "<style scoped>\n",
       "    .dataframe tbody tr th:only-of-type {\n",
       "        vertical-align: middle;\n",
       "    }\n",
       "\n",
       "    .dataframe tbody tr th {\n",
       "        vertical-align: top;\n",
       "    }\n",
       "\n",
       "    .dataframe thead th {\n",
       "        text-align: right;\n",
       "    }\n",
       "</style>\n",
       "<table border=\"1\" class=\"dataframe\">\n",
       "  <thead>\n",
       "    <tr style=\"text-align: right;\">\n",
       "      <th></th>\n",
       "      <th>CODIGO CIE</th>\n",
       "      <th>CODIGO INEP</th>\n",
       "      <th>DIRETORIA</th>\n",
       "      <th>ESCOLA</th>\n",
       "      <th>MUNICIPIO</th>\n",
       "      <th>NIVEL ENSINO</th>\n",
       "      <th>2007</th>\n",
       "      <th>2008</th>\n",
       "      <th>2009</th>\n",
       "      <th>2010</th>\n",
       "      <th>2011</th>\n",
       "      <th>2012</th>\n",
       "      <th>2013</th>\n",
       "      <th>2014</th>\n",
       "      <th>2015</th>\n",
       "      <th>2016</th>\n",
       "      <th>2017</th>\n",
       "      <th>2018</th>\n",
       "    </tr>\n",
       "  </thead>\n",
       "  <tbody>\n",
       "    <tr>\n",
       "      <th>2253</th>\n",
       "      <td>40551</td>\n",
       "      <td>35040551.0</td>\n",
       "      <td>ITAPEVI</td>\n",
       "      <td>LENIO VIEIRA DE MORAES PROFESSOR              ...</td>\n",
       "      <td>BARUERI</td>\n",
       "      <td>ENSINO MEDIO</td>\n",
       "      <td>0.76</td>\n",
       "      <td>1.14</td>\n",
       "      <td>0.96</td>\n",
       "      <td>0.86</td>\n",
       "      <td>1.3</td>\n",
       "      <td>1.15</td>\n",
       "      <td>1.27</td>\n",
       "      <td>1.0</td>\n",
       "      <td>0.53</td>\n",
       "      <td>2.25</td>\n",
       "      <td>1.77</td>\n",
       "      <td>1.56</td>\n",
       "    </tr>\n",
       "  </tbody>\n",
       "</table>\n",
       "</div>"
      ],
      "text/plain": [
       "     CODIGO CIE  CODIGO INEP DIRETORIA  \\\n",
       "2253      40551   35040551.0   ITAPEVI   \n",
       "\n",
       "                                                 ESCOLA MUNICIPIO  \\\n",
       "2253  LENIO VIEIRA DE MORAES PROFESSOR              ...   BARUERI   \n",
       "\n",
       "      NIVEL ENSINO  2007  2008  2009  2010  2011  2012  2013  2014  2015  \\\n",
       "2253  ENSINO MEDIO  0.76  1.14  0.96  0.86   1.3  1.15  1.27   1.0  0.53   \n",
       "\n",
       "      2016  2017  2018  \n",
       "2253  2.25  1.77  1.56  "
      ]
     },
     "execution_count": 321,
     "metadata": {},
     "output_type": "execute_result"
    }
   ],
   "source": [
    "df_idesp[df_idesp.loc[:,'CODIGO CIE'] == 40551]"
   ]
  },
  {
   "cell_type": "code",
   "execution_count": null,
   "metadata": {},
   "outputs": [],
   "source": []
  },
  {
   "cell_type": "code",
   "execution_count": null,
   "metadata": {},
   "outputs": [],
   "source": []
  },
  {
   "cell_type": "code",
   "execution_count": null,
   "metadata": {},
   "outputs": [],
   "source": []
  },
  {
   "cell_type": "code",
   "execution_count": null,
   "metadata": {},
   "outputs": [],
   "source": []
  },
  {
   "cell_type": "code",
   "execution_count": null,
   "metadata": {},
   "outputs": [],
   "source": []
  },
  {
   "cell_type": "code",
   "execution_count": null,
   "metadata": {},
   "outputs": [],
   "source": []
  },
  {
   "cell_type": "code",
   "execution_count": null,
   "metadata": {},
   "outputs": [],
   "source": []
  },
  {
   "cell_type": "code",
   "execution_count": null,
   "metadata": {},
   "outputs": [],
   "source": []
  },
  {
   "cell_type": "code",
   "execution_count": null,
   "metadata": {},
   "outputs": [],
   "source": []
  },
  {
   "cell_type": "code",
   "execution_count": null,
   "metadata": {},
   "outputs": [],
   "source": []
  },
  {
   "cell_type": "code",
   "execution_count": null,
   "metadata": {},
   "outputs": [],
   "source": []
  },
  {
   "cell_type": "code",
   "execution_count": null,
   "metadata": {},
   "outputs": [],
   "source": []
  },
  {
   "cell_type": "code",
   "execution_count": null,
   "metadata": {},
   "outputs": [],
   "source": []
  },
  {
   "cell_type": "markdown",
   "metadata": {},
   "source": [
    "# GERANDO DIMENSAO GESTORES\n",
    "- cd_escola\n",
    "- ano\n",
    "- diretoria\n",
    "- id_diretor - detalhamento aparece em outro lugar\n",
    "- id_vice\n",
    "- id_coordenador"
   ]
  },
  {
   "cell_type": "markdown",
   "metadata": {},
   "source": [
    "### IMPORTANTE: A gestao 'esc-18314-ano-2018' teve 8 diretores, meio complicado de avaliar, ne.\n",
    "- equipe completa? \n",
    "- num_mudancas de gestores\n",
    "- atribuir numeros da proeficiencia como 1,2,3,4,5 na ordem de qualidade dos anos analisados.\n",
    "- AVALIAR TEMPO COM A MESMA EQUIPE DE GESTORES"
   ]
  },
  {
   "cell_type": "code",
   "execution_count": null,
   "metadata": {},
   "outputs": [],
   "source": [
    "LISTA_ANOS = ['2014', '2015', '2016', '2017', '2018']\n",
    "def foi_gestor(ano):\n",
    "    return ano == 'SIM'"
   ]
  },
  {
   "cell_type": "code",
   "execution_count": null,
   "metadata": {},
   "outputs": [],
   "source": [
    "df_gestao = {}\n",
    "df_gestao['id_gestao'] = []\n",
    "df_gestao['id_escola'] = []\n",
    "df_gestao['id_gestor'] = []\n",
    "df_gestao['ano_gestao'] = []\n",
    "df_gestao['diretoria'] = []\n",
    "df_gestao['funcao'] = []\n",
    "\n",
    "for _, row in diretor.iterrows():\n",
    "    for ANO in LISTA_ANOS:\n",
    "        if foi_gestor(row.loc[ANO]):\n",
    "            df_gestao['id_gestao'].append('esc-' + str(row.CD_ESCOLA) + '-ano-' + str(ANO))\n",
    "            df_gestao['id_escola'].append(row.CD_ESCOLA)\n",
    "            df_gestao['id_gestor'].append(row.id_interno)\n",
    "            df_gestao['ano_gestao'].append(ANO)\n",
    "            df_gestao['diretoria'].append(row.DIRETORIA)\n",
    "            df_gestao['funcao'].append('DIRETOR')\n",
    "\n",
    "for _, row in vice.iterrows():\n",
    "    for ANO in LISTA_ANOS:\n",
    "        if foi_gestor(row.loc[ANO]):\n",
    "            df_gestao['id_gestao'].append('esc-' + str(row.CD_ESCOLA) + '-ano-' + str(ANO))\n",
    "            df_gestao['id_escola'].append(row.CD_ESCOLA)\n",
    "            df_gestao['id_gestor'].append(row.id_interno)\n",
    "            df_gestao['ano_gestao'].append(ANO)\n",
    "            df_gestao['diretoria'].append(row.DIRETORIA)\n",
    "            df_gestao['funcao'].append('VICE')\n",
    "            \n",
    "for _, row in coordenador.iterrows():\n",
    "    for ANO in LISTA_ANOS:\n",
    "        if foi_gestor(row.loc[ANO]):\n",
    "            df_gestao['id_gestao'].append('esc-' + str(row.CD_ESCOLA) + '-ano-' + str(ANO))\n",
    "            df_gestao['id_escola'].append(row.CD_ESCOLA)\n",
    "            df_gestao['id_gestor'].append(row.id_interno)\n",
    "            df_gestao['ano_gestao'].append(ANO)\n",
    "            df_gestao['diretoria'].append(row.DIRETORIA)\n",
    "            df_gestao['funcao'].append('COORDENADOR')\n",
    "            \n",
    "df_gestao = pd.DataFrame(df_gestao)"
   ]
  },
  {
   "cell_type": "markdown",
   "metadata": {},
   "source": [
    "### VERIFICANDO QUANTIDADE DE TROCAS DE GESTORES"
   ]
  },
  {
   "cell_type": "code",
   "execution_count": null,
   "metadata": {},
   "outputs": [],
   "source": [
    "k = 0\n",
    "contagem_gestores = collections.Counter(df_gestao.id_gestao)\n",
    "for id_gestao in contagem_gestores:\n",
    "    if contagem_gestores[id_gestao] == 3:\n",
    "        k += 1"
   ]
  },
  {
   "cell_type": "code",
   "execution_count": 323,
   "metadata": {},
   "outputs": [
    {
     "data": {
      "text/html": [
       "<div>\n",
       "<style scoped>\n",
       "    .dataframe tbody tr th:only-of-type {\n",
       "        vertical-align: middle;\n",
       "    }\n",
       "\n",
       "    .dataframe tbody tr th {\n",
       "        vertical-align: top;\n",
       "    }\n",
       "\n",
       "    .dataframe thead th {\n",
       "        text-align: right;\n",
       "    }\n",
       "</style>\n",
       "<table border=\"1\" class=\"dataframe\">\n",
       "  <thead>\n",
       "    <tr style=\"text-align: right;\">\n",
       "      <th></th>\n",
       "      <th>id_gestao</th>\n",
       "      <th>id_escola</th>\n",
       "      <th>id_gestor</th>\n",
       "      <th>ano_gestao</th>\n",
       "      <th>diretoria</th>\n",
       "      <th>funcao</th>\n",
       "    </tr>\n",
       "  </thead>\n",
       "  <tbody>\n",
       "    <tr>\n",
       "      <th>28754</th>\n",
       "      <td>esc-472505-ano-2014</td>\n",
       "      <td>472505</td>\n",
       "      <td>334929</td>\n",
       "      <td>2014</td>\n",
       "      <td>SUL 3</td>\n",
       "      <td>DIRETOR</td>\n",
       "    </tr>\n",
       "    <tr>\n",
       "      <th>95938</th>\n",
       "      <td>esc-472505-ano-2014</td>\n",
       "      <td>472505</td>\n",
       "      <td>222988</td>\n",
       "      <td>2014</td>\n",
       "      <td>SUL 3</td>\n",
       "      <td>VICE</td>\n",
       "    </tr>\n",
       "    <tr>\n",
       "      <th>140523</th>\n",
       "      <td>esc-472505-ano-2014</td>\n",
       "      <td>472505</td>\n",
       "      <td>399478</td>\n",
       "      <td>2014</td>\n",
       "      <td>SUL 3</td>\n",
       "      <td>COORDENADOR</td>\n",
       "    </tr>\n",
       "  </tbody>\n",
       "</table>\n",
       "</div>"
      ],
      "text/plain": [
       "                  id_gestao  id_escola id_gestor ano_gestao diretoria  \\\n",
       "28754   esc-472505-ano-2014     472505    334929       2014     SUL 3   \n",
       "95938   esc-472505-ano-2014     472505    222988       2014     SUL 3   \n",
       "140523  esc-472505-ano-2014     472505    399478       2014     SUL 3   \n",
       "\n",
       "             funcao  \n",
       "28754       DIRETOR  \n",
       "95938          VICE  \n",
       "140523  COORDENADOR  "
      ]
     },
     "execution_count": 323,
     "metadata": {},
     "output_type": "execute_result"
    }
   ],
   "source": [
    "df_gestao[df_gestao.id_gestao == 'esc-472505-ano-2014']"
   ]
  },
  {
   "cell_type": "code",
   "execution_count": null,
   "metadata": {},
   "outputs": [],
   "source": []
  },
  {
   "cell_type": "code",
   "execution_count": null,
   "metadata": {},
   "outputs": [],
   "source": []
  },
  {
   "cell_type": "code",
   "execution_count": null,
   "metadata": {},
   "outputs": [],
   "source": []
  },
  {
   "cell_type": "code",
   "execution_count": null,
   "metadata": {},
   "outputs": [],
   "source": []
  },
  {
   "cell_type": "markdown",
   "metadata": {},
   "source": [
    "# GESTAO + IDESP"
   ]
  },
  {
   "cell_type": "code",
   "execution_count": 390,
   "metadata": {},
   "outputs": [
    {
     "data": {
      "text/html": [
       "<div>\n",
       "<style scoped>\n",
       "    .dataframe tbody tr th:only-of-type {\n",
       "        vertical-align: middle;\n",
       "    }\n",
       "\n",
       "    .dataframe tbody tr th {\n",
       "        vertical-align: top;\n",
       "    }\n",
       "\n",
       "    .dataframe thead th {\n",
       "        text-align: right;\n",
       "    }\n",
       "</style>\n",
       "<table border=\"1\" class=\"dataframe\">\n",
       "  <thead>\n",
       "    <tr style=\"text-align: right;\">\n",
       "      <th></th>\n",
       "      <th>variacao</th>\n",
       "      <th>var_gestores</th>\n",
       "    </tr>\n",
       "  </thead>\n",
       "  <tbody>\n",
       "    <tr>\n",
       "      <th>variacao</th>\n",
       "      <td>1.000000</td>\n",
       "      <td>0.006077</td>\n",
       "    </tr>\n",
       "    <tr>\n",
       "      <th>var_gestores</th>\n",
       "      <td>0.006077</td>\n",
       "      <td>1.000000</td>\n",
       "    </tr>\n",
       "  </tbody>\n",
       "</table>\n",
       "</div>"
      ],
      "text/plain": [
       "              variacao  var_gestores\n",
       "variacao      1.000000      0.006077\n",
       "var_gestores  0.006077      1.000000"
      ]
     },
     "execution_count": 390,
     "metadata": {},
     "output_type": "execute_result"
    }
   ],
   "source": [
    "cont_gestores = {}\n",
    "cont_gestores['id_gestao'] = []\n",
    "cont_gestores['id_escola'] = []\n",
    "cont_gestores['n_gestores'] = []\n",
    "\n",
    "for nome, dados in df_gestao.groupby('id_gestao'):\n",
    "    n_gestores = len(dados)\n",
    "    cont_gestores['id_gestao'].append(nome)\n",
    "    cont_gestores['id_escola'].append(dados.id_escola.iloc[0])\n",
    "    cont_gestores['n_gestores'].append(n_gestores)\n",
    "    \n",
    "cont_gestores = pd.DataFrame(data=cont_gestores)\n",
    "cont_gestores_aux = {}\n",
    "cont_gestores_aux['id_escola'] = []\n",
    "cont_gestores_aux['mediana'] = []\n",
    "for nome, dados in cont_gestores.groupby('id_escola'):\n",
    "    cont_gestores_aux['id_escola'].append(dados.id_escola.iloc[0])\n",
    "    cont_gestores_aux['mediana'].append(dados.n_gestores.median())\n",
    "\n",
    "cont_gestores_aux = pd.DataFrame(data=cont_gestores_aux)\n",
    "cont_gestores = pd.merge(cont_gestores,\n",
    "                  cont_gestores_aux,\n",
    "                  on='id_escola')\n",
    "cont_gestores['var_gestores'] = result.n_gestores - result.mediana\n",
    "\n",
    "result = pd.merge(idesp_group,\n",
    "                  cont_gestores,\n",
    "                  on='id_gestao')\n",
    "result.loc[:,['variacao','var_gestores']].corr()\n",
    "\n",
    "# DIFERENTE DO QUE EU PENSAVA, PARECE QUE ESSE NUMERO ALTO DE GESTORES\n",
    "# MAIS OU MENOS NORMAL E NAO IMPACTA MUITO OS RESULTADOS"
   ]
  },
  {
   "cell_type": "code",
   "execution_count": null,
   "metadata": {},
   "outputs": [],
   "source": []
  },
  {
   "cell_type": "code",
   "execution_count": null,
   "metadata": {},
   "outputs": [],
   "source": []
  },
  {
   "cell_type": "code",
   "execution_count": null,
   "metadata": {},
   "outputs": [],
   "source": []
  },
  {
   "cell_type": "markdown",
   "metadata": {},
   "source": [
    "# NOTAS DOS GESTORES\n",
    "- id_gestor=131444 pode atuar em mais de uma escola? (foi 3 em 2018)"
   ]
  },
  {
   "cell_type": "code",
   "execution_count": 492,
   "metadata": {},
   "outputs": [],
   "source": [
    "result = pd.merge(idesp_group,\n",
    "                  df_gestao,\n",
    "                  on='id_gestao')"
   ]
  },
  {
   "cell_type": "code",
   "execution_count": 493,
   "metadata": {},
   "outputs": [
    {
     "data": {
      "text/html": [
       "<div>\n",
       "<style scoped>\n",
       "    .dataframe tbody tr th:only-of-type {\n",
       "        vertical-align: middle;\n",
       "    }\n",
       "\n",
       "    .dataframe tbody tr th {\n",
       "        vertical-align: top;\n",
       "    }\n",
       "\n",
       "    .dataframe thead th {\n",
       "        text-align: right;\n",
       "    }\n",
       "</style>\n",
       "<table border=\"1\" class=\"dataframe\">\n",
       "  <thead>\n",
       "    <tr style=\"text-align: right;\">\n",
       "      <th></th>\n",
       "      <th>id_gestao</th>\n",
       "      <th>id_escola_x</th>\n",
       "      <th>ano_gestao_x</th>\n",
       "      <th>nota_ano</th>\n",
       "      <th>variacao</th>\n",
       "      <th>id_escola_y</th>\n",
       "      <th>id_gestor</th>\n",
       "      <th>ano_gestao_y</th>\n",
       "      <th>diretoria</th>\n",
       "      <th>funcao</th>\n",
       "    </tr>\n",
       "  </thead>\n",
       "  <tbody>\n",
       "    <tr>\n",
       "      <th>0</th>\n",
       "      <td>esc-10005-ano-2014</td>\n",
       "      <td>10005</td>\n",
       "      <td>2014</td>\n",
       "      <td>3.48</td>\n",
       "      <td>10</td>\n",
       "      <td>10005</td>\n",
       "      <td>326625</td>\n",
       "      <td>2014</td>\n",
       "      <td>ITAPECERICA DA SERRA</td>\n",
       "      <td>DIRETOR</td>\n",
       "    </tr>\n",
       "    <tr>\n",
       "      <th>1</th>\n",
       "      <td>esc-10005-ano-2014</td>\n",
       "      <td>10005</td>\n",
       "      <td>2014</td>\n",
       "      <td>3.48</td>\n",
       "      <td>10</td>\n",
       "      <td>10005</td>\n",
       "      <td>157667</td>\n",
       "      <td>2014</td>\n",
       "      <td>ITAPECERICA DA SERRA</td>\n",
       "      <td>VICE</td>\n",
       "    </tr>\n",
       "    <tr>\n",
       "      <th>2</th>\n",
       "      <td>esc-10005-ano-2014</td>\n",
       "      <td>10005</td>\n",
       "      <td>2014</td>\n",
       "      <td>3.48</td>\n",
       "      <td>10</td>\n",
       "      <td>10005</td>\n",
       "      <td>314895</td>\n",
       "      <td>2014</td>\n",
       "      <td>ITAPECERICA DA SERRA</td>\n",
       "      <td>VICE</td>\n",
       "    </tr>\n",
       "    <tr>\n",
       "      <th>3</th>\n",
       "      <td>esc-10005-ano-2014</td>\n",
       "      <td>10005</td>\n",
       "      <td>2014</td>\n",
       "      <td>3.48</td>\n",
       "      <td>10</td>\n",
       "      <td>10005</td>\n",
       "      <td>351780</td>\n",
       "      <td>2014</td>\n",
       "      <td>ITAPECERICA DA SERRA</td>\n",
       "      <td>COORDENADOR</td>\n",
       "    </tr>\n",
       "    <tr>\n",
       "      <th>4</th>\n",
       "      <td>esc-10005-ano-2014</td>\n",
       "      <td>10005</td>\n",
       "      <td>2014</td>\n",
       "      <td>3.48</td>\n",
       "      <td>10</td>\n",
       "      <td>10005</td>\n",
       "      <td>398436</td>\n",
       "      <td>2014</td>\n",
       "      <td>ITAPECERICA DA SERRA</td>\n",
       "      <td>COORDENADOR</td>\n",
       "    </tr>\n",
       "  </tbody>\n",
       "</table>\n",
       "</div>"
      ],
      "text/plain": [
       "            id_gestao id_escola_x  ano_gestao_x  nota_ano  variacao  \\\n",
       "0  esc-10005-ano-2014       10005          2014      3.48        10   \n",
       "1  esc-10005-ano-2014       10005          2014      3.48        10   \n",
       "2  esc-10005-ano-2014       10005          2014      3.48        10   \n",
       "3  esc-10005-ano-2014       10005          2014      3.48        10   \n",
       "4  esc-10005-ano-2014       10005          2014      3.48        10   \n",
       "\n",
       "   id_escola_y id_gestor ano_gestao_y             diretoria       funcao  \n",
       "0        10005    326625         2014  ITAPECERICA DA SERRA      DIRETOR  \n",
       "1        10005    157667         2014  ITAPECERICA DA SERRA         VICE  \n",
       "2        10005    314895         2014  ITAPECERICA DA SERRA         VICE  \n",
       "3        10005    351780         2014  ITAPECERICA DA SERRA  COORDENADOR  \n",
       "4        10005    398436         2014  ITAPECERICA DA SERRA  COORDENADOR  "
      ]
     },
     "execution_count": 493,
     "metadata": {},
     "output_type": "execute_result"
    }
   ],
   "source": [
    "result.head(5)"
   ]
  },
  {
   "cell_type": "code",
   "execution_count": 494,
   "metadata": {},
   "outputs": [],
   "source": [
    "nota_gestor = {}\n",
    "nota_gestor['id_gestor'] = []\n",
    "nota_gestor['nota_var'] = []\n",
    "nota_gestor['n_atuacoes'] = []\n",
    "for nome, dados in result.groupby('id_gestor'):\n",
    "    nota_gestor['id_gestor'].append(nome)\n",
    "    nota_gestor['nota_var'].append(dados.variacao.mean())\n",
    "    nota_gestor['n_atuacoes'].append(len(dados))\n",
    "\n",
    "nota_gestor = pd.DataFrame(data=nota_gestor)"
   ]
  },
  {
   "cell_type": "code",
   "execution_count": 495,
   "metadata": {},
   "outputs": [
    {
     "data": {
      "text/plain": [
       "count    50969.000000\n",
       "mean         6.537152\n",
       "std          8.153998\n",
       "min        -13.000000\n",
       "25%          2.000000\n",
       "50%          6.166667\n",
       "75%         10.500000\n",
       "max         30.000000\n",
       "Name: nota_var, dtype: float64"
      ]
     },
     "execution_count": 495,
     "metadata": {},
     "output_type": "execute_result"
    }
   ],
   "source": [
    "nota_gestor.nota_var.describe()"
   ]
  },
  {
   "cell_type": "code",
   "execution_count": 496,
   "metadata": {},
   "outputs": [
    {
     "data": {
      "text/plain": [
       "count    50969.000000\n",
       "mean         3.251310\n",
       "std          1.807438\n",
       "min          1.000000\n",
       "25%          2.000000\n",
       "50%          3.000000\n",
       "75%          5.000000\n",
       "max         22.000000\n",
       "Name: n_atuacoes, dtype: float64"
      ]
     },
     "execution_count": 496,
     "metadata": {},
     "output_type": "execute_result"
    }
   ],
   "source": [
    "nota_gestor.n_atuacoes.describe()"
   ]
  },
  {
   "cell_type": "code",
   "execution_count": 514,
   "metadata": {},
   "outputs": [],
   "source": [
    "nota_gestor = nota_gestor[nota_gestor.n_atuacoes >= 2]"
   ]
  },
  {
   "cell_type": "code",
   "execution_count": 516,
   "metadata": {},
   "outputs": [
    {
     "data": {
      "text/html": [
       "<div>\n",
       "<style scoped>\n",
       "    .dataframe tbody tr th:only-of-type {\n",
       "        vertical-align: middle;\n",
       "    }\n",
       "\n",
       "    .dataframe tbody tr th {\n",
       "        vertical-align: top;\n",
       "    }\n",
       "\n",
       "    .dataframe thead th {\n",
       "        text-align: right;\n",
       "    }\n",
       "</style>\n",
       "<table border=\"1\" class=\"dataframe\">\n",
       "  <thead>\n",
       "    <tr style=\"text-align: right;\">\n",
       "      <th></th>\n",
       "      <th>id_gestor</th>\n",
       "      <th>nota_var</th>\n",
       "      <th>n_atuacoes</th>\n",
       "    </tr>\n",
       "  </thead>\n",
       "  <tbody>\n",
       "    <tr>\n",
       "      <th>0</th>\n",
       "      <td>131346</td>\n",
       "      <td>-1.250000</td>\n",
       "      <td>4</td>\n",
       "    </tr>\n",
       "    <tr>\n",
       "      <th>1</th>\n",
       "      <td>131376</td>\n",
       "      <td>6.500000</td>\n",
       "      <td>2</td>\n",
       "    </tr>\n",
       "    <tr>\n",
       "      <th>2</th>\n",
       "      <td>131393</td>\n",
       "      <td>8.333333</td>\n",
       "      <td>6</td>\n",
       "    </tr>\n",
       "    <tr>\n",
       "      <th>3</th>\n",
       "      <td>131418</td>\n",
       "      <td>7.400000</td>\n",
       "      <td>5</td>\n",
       "    </tr>\n",
       "    <tr>\n",
       "      <th>4</th>\n",
       "      <td>131444</td>\n",
       "      <td>12.428571</td>\n",
       "      <td>7</td>\n",
       "    </tr>\n",
       "  </tbody>\n",
       "</table>\n",
       "</div>"
      ],
      "text/plain": [
       "  id_gestor   nota_var  n_atuacoes\n",
       "0    131346  -1.250000           4\n",
       "1    131376   6.500000           2\n",
       "2    131393   8.333333           6\n",
       "3    131418   7.400000           5\n",
       "4    131444  12.428571           7"
      ]
     },
     "execution_count": 516,
     "metadata": {},
     "output_type": "execute_result"
    }
   ],
   "source": [
    "nota_gestor.head(5)"
   ]
  },
  {
   "cell_type": "code",
   "execution_count": null,
   "metadata": {},
   "outputs": [],
   "source": []
  },
  {
   "cell_type": "code",
   "execution_count": null,
   "metadata": {},
   "outputs": [],
   "source": []
  },
  {
   "cell_type": "code",
   "execution_count": null,
   "metadata": {},
   "outputs": [],
   "source": []
  },
  {
   "cell_type": "code",
   "execution_count": null,
   "metadata": {},
   "outputs": [],
   "source": []
  },
  {
   "cell_type": "code",
   "execution_count": null,
   "metadata": {},
   "outputs": [],
   "source": []
  },
  {
   "cell_type": "code",
   "execution_count": null,
   "metadata": {},
   "outputs": [],
   "source": []
  },
  {
   "cell_type": "code",
   "execution_count": 498,
   "metadata": {},
   "outputs": [
    {
     "data": {
      "text/html": [
       "<div>\n",
       "<style scoped>\n",
       "    .dataframe tbody tr th:only-of-type {\n",
       "        vertical-align: middle;\n",
       "    }\n",
       "\n",
       "    .dataframe tbody tr th {\n",
       "        vertical-align: top;\n",
       "    }\n",
       "\n",
       "    .dataframe thead th {\n",
       "        text-align: right;\n",
       "    }\n",
       "</style>\n",
       "<table border=\"1\" class=\"dataframe\">\n",
       "  <thead>\n",
       "    <tr style=\"text-align: right;\">\n",
       "      <th></th>\n",
       "      <th>id_gestao</th>\n",
       "      <th>id_escola_x</th>\n",
       "      <th>ano_gestao_x</th>\n",
       "      <th>nota_ano</th>\n",
       "      <th>variacao</th>\n",
       "      <th>id_escola_y</th>\n",
       "      <th>id_gestor</th>\n",
       "      <th>ano_gestao_y</th>\n",
       "      <th>diretoria</th>\n",
       "      <th>funcao</th>\n",
       "    </tr>\n",
       "  </thead>\n",
       "  <tbody>\n",
       "    <tr>\n",
       "      <th>65554</th>\n",
       "      <td>esc-3554-ano-2015</td>\n",
       "      <td>3554</td>\n",
       "      <td>2015</td>\n",
       "      <td>3.38</td>\n",
       "      <td>0</td>\n",
       "      <td>3554</td>\n",
       "      <td>355299</td>\n",
       "      <td>2015</td>\n",
       "      <td>CENTRO</td>\n",
       "      <td>DIRETOR</td>\n",
       "    </tr>\n",
       "    <tr>\n",
       "      <th>65563</th>\n",
       "      <td>esc-3554-ano-2016</td>\n",
       "      <td>3554</td>\n",
       "      <td>2016</td>\n",
       "      <td>3.92</td>\n",
       "      <td>15</td>\n",
       "      <td>3554</td>\n",
       "      <td>355299</td>\n",
       "      <td>2016</td>\n",
       "      <td>CENTRO</td>\n",
       "      <td>DIRETOR</td>\n",
       "    </tr>\n",
       "    <tr>\n",
       "      <th>65574</th>\n",
       "      <td>esc-3554-ano-2017</td>\n",
       "      <td>3554</td>\n",
       "      <td>2017</td>\n",
       "      <td>2.75</td>\n",
       "      <td>-13</td>\n",
       "      <td>3554</td>\n",
       "      <td>355299</td>\n",
       "      <td>2017</td>\n",
       "      <td>CENTRO</td>\n",
       "      <td>DIRETOR</td>\n",
       "    </tr>\n",
       "    <tr>\n",
       "      <th>65584</th>\n",
       "      <td>esc-3554-ano-2018</td>\n",
       "      <td>3554</td>\n",
       "      <td>2018</td>\n",
       "      <td>3.89</td>\n",
       "      <td>30</td>\n",
       "      <td>3554</td>\n",
       "      <td>355299</td>\n",
       "      <td>2018</td>\n",
       "      <td>CENTRO</td>\n",
       "      <td>DIRETOR</td>\n",
       "    </tr>\n",
       "  </tbody>\n",
       "</table>\n",
       "</div>"
      ],
      "text/plain": [
       "               id_gestao id_escola_x  ano_gestao_x  nota_ano  variacao  \\\n",
       "65554  esc-3554-ano-2015        3554          2015      3.38         0   \n",
       "65563  esc-3554-ano-2016        3554          2016      3.92        15   \n",
       "65574  esc-3554-ano-2017        3554          2017      2.75       -13   \n",
       "65584  esc-3554-ano-2018        3554          2018      3.89        30   \n",
       "\n",
       "       id_escola_y id_gestor ano_gestao_y diretoria   funcao  \n",
       "65554         3554    355299         2015    CENTRO  DIRETOR  \n",
       "65563         3554    355299         2016    CENTRO  DIRETOR  \n",
       "65574         3554    355299         2017    CENTRO  DIRETOR  \n",
       "65584         3554    355299         2018    CENTRO  DIRETOR  "
      ]
     },
     "execution_count": 498,
     "metadata": {},
     "output_type": "execute_result"
    }
   ],
   "source": [
    "result[result.id_gestor == 355299]"
   ]
  },
  {
   "cell_type": "code",
   "execution_count": 503,
   "metadata": {},
   "outputs": [
    {
     "data": {
      "text/html": [
       "<div>\n",
       "<style scoped>\n",
       "    .dataframe tbody tr th:only-of-type {\n",
       "        vertical-align: middle;\n",
       "    }\n",
       "\n",
       "    .dataframe tbody tr th {\n",
       "        vertical-align: top;\n",
       "    }\n",
       "\n",
       "    .dataframe thead th {\n",
       "        text-align: right;\n",
       "    }\n",
       "</style>\n",
       "<table border=\"1\" class=\"dataframe\">\n",
       "  <thead>\n",
       "    <tr style=\"text-align: right;\">\n",
       "      <th></th>\n",
       "      <th>id_gestao</th>\n",
       "      <th>id_escola_x</th>\n",
       "      <th>ano_gestao_x</th>\n",
       "      <th>nota_ano</th>\n",
       "      <th>variacao</th>\n",
       "      <th>id_escola_y</th>\n",
       "      <th>id_gestor</th>\n",
       "      <th>ano_gestao_y</th>\n",
       "      <th>diretoria</th>\n",
       "      <th>funcao</th>\n",
       "    </tr>\n",
       "  </thead>\n",
       "  <tbody>\n",
       "    <tr>\n",
       "      <th>157468</th>\n",
       "      <td>esc-923771-ano-2016</td>\n",
       "      <td>923771</td>\n",
       "      <td>2016</td>\n",
       "      <td>2.350</td>\n",
       "      <td>-13</td>\n",
       "      <td>923771</td>\n",
       "      <td>SIM</td>\n",
       "      <td>2016</td>\n",
       "      <td>GUARULHOS NORTE</td>\n",
       "      <td>VICE</td>\n",
       "    </tr>\n",
       "    <tr>\n",
       "      <th>157479</th>\n",
       "      <td>esc-923771-ano-2017</td>\n",
       "      <td>923771</td>\n",
       "      <td>2017</td>\n",
       "      <td>2.945</td>\n",
       "      <td>25</td>\n",
       "      <td>923771</td>\n",
       "      <td>SIM</td>\n",
       "      <td>2017</td>\n",
       "      <td>GUARULHOS NORTE</td>\n",
       "      <td>VICE</td>\n",
       "    </tr>\n",
       "    <tr>\n",
       "      <th>157487</th>\n",
       "      <td>esc-923771-ano-2018</td>\n",
       "      <td>923771</td>\n",
       "      <td>2018</td>\n",
       "      <td>2.645</td>\n",
       "      <td>-10</td>\n",
       "      <td>923771</td>\n",
       "      <td>SIM</td>\n",
       "      <td>2018</td>\n",
       "      <td>GUARULHOS NORTE</td>\n",
       "      <td>VICE</td>\n",
       "    </tr>\n",
       "  </tbody>\n",
       "</table>\n",
       "</div>"
      ],
      "text/plain": [
       "                  id_gestao id_escola_x  ano_gestao_x  nota_ano  variacao  \\\n",
       "157468  esc-923771-ano-2016      923771          2016     2.350       -13   \n",
       "157479  esc-923771-ano-2017      923771          2017     2.945        25   \n",
       "157487  esc-923771-ano-2018      923771          2018     2.645       -10   \n",
       "\n",
       "        id_escola_y id_gestor ano_gestao_y        diretoria funcao  \n",
       "157468       923771       SIM         2016  GUARULHOS NORTE   VICE  \n",
       "157479       923771       SIM         2017  GUARULHOS NORTE   VICE  \n",
       "157487       923771       SIM         2018  GUARULHOS NORTE   VICE  "
      ]
     },
     "execution_count": 503,
     "metadata": {},
     "output_type": "execute_result"
    }
   ],
   "source": [
    "dados"
   ]
  },
  {
   "cell_type": "code",
   "execution_count": null,
   "metadata": {},
   "outputs": [],
   "source": []
  },
  {
   "cell_type": "code",
   "execution_count": null,
   "metadata": {},
   "outputs": [],
   "source": []
  },
  {
   "cell_type": "code",
   "execution_count": null,
   "metadata": {},
   "outputs": [],
   "source": []
  },
  {
   "cell_type": "code",
   "execution_count": null,
   "metadata": {},
   "outputs": [],
   "source": []
  },
  {
   "cell_type": "code",
   "execution_count": null,
   "metadata": {},
   "outputs": [],
   "source": []
  },
  {
   "cell_type": "code",
   "execution_count": null,
   "metadata": {},
   "outputs": [],
   "source": []
  },
  {
   "cell_type": "code",
   "execution_count": null,
   "metadata": {},
   "outputs": [],
   "source": []
  },
  {
   "cell_type": "code",
   "execution_count": null,
   "metadata": {},
   "outputs": [],
   "source": []
  },
  {
   "cell_type": "markdown",
   "metadata": {},
   "source": [
    "# DIMENSAO SARESP\n",
    "- Substituida pela dimensao IDESP"
   ]
  },
  {
   "cell_type": "code",
   "execution_count": null,
   "metadata": {},
   "outputs": [],
   "source": [
    "saresp.SERIE_ANO = saresp.SERIE_ANO.apply(limpa_serie_ano)\n",
    "saresp.ds_comp = saresp.ds_comp.apply(limpa_ds_comp)\n",
    "saresp.medprof = saresp.medprof \\\n",
    "                .apply(lambda x: str(x).replace('.','').replace(',','.')) \\\n",
    "                .astype(float) \n",
    "\n",
    "df_saresp = {}\n",
    "df_saresp['id_gestao'] = []\n",
    "df_saresp['id_escola'] = []\n",
    "df_saresp['ano_gestao'] = []\n",
    "df_saresp['serie_ano'] = []\n",
    "df_saresp['periodo'] = []\n",
    "df_saresp['disciplina'] = []\n",
    "df_saresp['medprofici'] = []\n",
    "\n",
    "for _, row in saresp.iterrows():\n",
    "    df_saresp['id_gestao'].append('esc-' + str(row.CODESC) + '-ano-' + str(row.ano))\n",
    "    df_saresp['id_escola'].append(row.CODESC)\n",
    "    df_saresp['ano_gestao'].append(row.ano)\n",
    "    df_saresp['serie_ano'].append(row.SERIE_ANO)\n",
    "    df_saresp['periodo'].append(row.periodo)\n",
    "    df_saresp['disciplina'].append(row.ds_comp)\n",
    "    df_saresp['medprofici'].append(row.medprof)\n",
    "\n",
    "df_saresp = pd.DataFrame(data=df_saresp) \n",
    "\n",
    "saresp_medias = {}\n",
    "saresp_medias['id_gestao'] = []\n",
    "saresp_medias['media'] = []\n",
    "saresp_medias['id_escola'] = []\n",
    "for nome, dados in df_saresp.groupby('id_gestao'):\n",
    "    saresp_medias['id_gestao'].append(nome)\n",
    "    saresp_medias['media'].append(dados.medprofici.mean())\n",
    "    saresp_medias['id_escola'].append(dados.id_escola.iloc[0])\n",
    "\n",
    "saresp_medias = pd.DataFrame(data = saresp_medias)"
   ]
  },
  {
   "cell_type": "code",
   "execution_count": null,
   "metadata": {},
   "outputs": [],
   "source": []
  },
  {
   "cell_type": "code",
   "execution_count": null,
   "metadata": {},
   "outputs": [],
   "source": []
  },
  {
   "cell_type": "code",
   "execution_count": null,
   "metadata": {},
   "outputs": [],
   "source": []
  },
  {
   "cell_type": "code",
   "execution_count": null,
   "metadata": {},
   "outputs": [],
   "source": []
  },
  {
   "cell_type": "code",
   "execution_count": null,
   "metadata": {},
   "outputs": [],
   "source": []
  },
  {
   "cell_type": "code",
   "execution_count": null,
   "metadata": {},
   "outputs": [],
   "source": []
  },
  {
   "cell_type": "code",
   "execution_count": null,
   "metadata": {},
   "outputs": [],
   "source": []
  }
 ],
 "metadata": {
  "kernelspec": {
   "display_name": "Python 3",
   "language": "python",
   "name": "python3"
  },
  "language_info": {
   "codemirror_mode": {
    "name": "ipython",
    "version": 3
   },
   "file_extension": ".py",
   "mimetype": "text/x-python",
   "name": "python",
   "nbconvert_exporter": "python",
   "pygments_lexer": "ipython3",
   "version": "3.7.3"
  }
 },
 "nbformat": 4,
 "nbformat_minor": 2
}
