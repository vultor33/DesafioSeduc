{
 "cells": [
  {
   "cell_type": "code",
   "execution_count": null,
   "metadata": {},
   "outputs": [],
   "source": [
    "import pandas as pd\n",
    "import collections\n",
    "\n",
    "from etl_gestores import etl as etlgest\n",
    "from etl_gestores import etl_nota\n",
    "from etl_idesp import etl as etlidesp"
   ]
  },
  {
   "cell_type": "code",
   "execution_count": null,
   "metadata": {},
   "outputs": [],
   "source": [
    "#https://dados.educacao.sp.gov.br/search/field_topic/desafios-seduc-164"
   ]
  },
  {
   "cell_type": "code",
   "execution_count": null,
   "metadata": {},
   "outputs": [],
   "source": []
  },
  {
   "cell_type": "code",
   "execution_count": null,
   "metadata": {},
   "outputs": [],
   "source": []
  },
  {
   "cell_type": "code",
   "execution_count": null,
   "metadata": {},
   "outputs": [],
   "source": []
  },
  {
   "cell_type": "code",
   "execution_count": null,
   "metadata": {},
   "outputs": [],
   "source": []
  },
  {
   "cell_type": "code",
   "execution_count": null,
   "metadata": {},
   "outputs": [],
   "source": []
  },
  {
   "cell_type": "code",
   "execution_count": null,
   "metadata": {},
   "outputs": [],
   "source": [
    "df_gestao = etl_nota()"
   ]
  },
  {
   "cell_type": "code",
   "execution_count": null,
   "metadata": {},
   "outputs": [],
   "source": [
    "df_gestao.head(3)"
   ]
  },
  {
   "cell_type": "code",
   "execution_count": null,
   "metadata": {},
   "outputs": [],
   "source": []
  },
  {
   "cell_type": "code",
   "execution_count": null,
   "metadata": {},
   "outputs": [],
   "source": []
  },
  {
   "cell_type": "code",
   "execution_count": null,
   "metadata": {},
   "outputs": [],
   "source": []
  },
  {
   "cell_type": "code",
   "execution_count": null,
   "metadata": {},
   "outputs": [],
   "source": []
  },
  {
   "cell_type": "code",
   "execution_count": null,
   "metadata": {},
   "outputs": [],
   "source": []
  },
  {
   "cell_type": "code",
   "execution_count": null,
   "metadata": {},
   "outputs": [],
   "source": []
  },
  {
   "cell_type": "code",
   "execution_count": null,
   "metadata": {},
   "outputs": [],
   "source": []
  },
  {
   "cell_type": "code",
   "execution_count": null,
   "metadata": {},
   "outputs": [],
   "source": []
  },
  {
   "cell_type": "code",
   "execution_count": null,
   "metadata": {},
   "outputs": [],
   "source": []
  },
  {
   "cell_type": "code",
   "execution_count": null,
   "metadata": {},
   "outputs": [],
   "source": []
  },
  {
   "cell_type": "code",
   "execution_count": null,
   "metadata": {},
   "outputs": [],
   "source": [
    "df_gestores = etlgest()"
   ]
  },
  {
   "cell_type": "code",
   "execution_count": null,
   "metadata": {},
   "outputs": [],
   "source": [
    "df_idesp = etlidesp()"
   ]
  },
  {
   "cell_type": "code",
   "execution_count": null,
   "metadata": {},
   "outputs": [],
   "source": [
    "result = pd.merge(df_idesp,\n",
    "                  df_gestores,\n",
    "                  on='id_gestao')"
   ]
  },
  {
   "cell_type": "code",
   "execution_count": null,
   "metadata": {},
   "outputs": [],
   "source": []
  },
  {
   "cell_type": "code",
   "execution_count": null,
   "metadata": {},
   "outputs": [],
   "source": [
    "nota_gestor = {}\n",
    "nota_gestor['id_gestor'] = []\n",
    "nota_gestor['nota_var'] = []\n",
    "nota_gestor['n_atuacoes'] = []\n",
    "for nome, dados in result.groupby('id_gestor'):\n",
    "    nota_gestor['id_gestor'].append(nome)\n",
    "    nota_gestor['nota_var'].append(dados.variacao.mean())\n",
    "    nota_gestor['n_atuacoes'].append(len(dados))\n",
    "\n",
    "nota_gestor = pd.DataFrame(data=nota_gestor)"
   ]
  },
  {
   "cell_type": "code",
   "execution_count": null,
   "metadata": {},
   "outputs": [],
   "source": [
    "nota_gestor.head(3)"
   ]
  },
  {
   "cell_type": "code",
   "execution_count": null,
   "metadata": {},
   "outputs": [],
   "source": []
  },
  {
   "cell_type": "code",
   "execution_count": null,
   "metadata": {},
   "outputs": [],
   "source": [
    "result2 = pd.merge(nota_gestor,\n",
    "                   df_gestores,\n",
    "                   on='id_gestor')"
   ]
  },
  {
   "cell_type": "code",
   "execution_count": null,
   "metadata": {},
   "outputs": [],
   "source": [
    "nota_gestor[nota_gestor.id_gestor == 'NAO']"
   ]
  },
  {
   "cell_type": "code",
   "execution_count": null,
   "metadata": {},
   "outputs": [],
   "source": [
    "result2[result2.id_gestor == 403084]"
   ]
  },
  {
   "cell_type": "code",
   "execution_count": null,
   "metadata": {},
   "outputs": [],
   "source": []
  },
  {
   "cell_type": "code",
   "execution_count": null,
   "metadata": {},
   "outputs": [],
   "source": []
  },
  {
   "cell_type": "code",
   "execution_count": null,
   "metadata": {},
   "outputs": [],
   "source": []
  },
  {
   "cell_type": "code",
   "execution_count": null,
   "metadata": {},
   "outputs": [],
   "source": []
  },
  {
   "cell_type": "code",
   "execution_count": null,
   "metadata": {},
   "outputs": [],
   "source": []
  },
  {
   "cell_type": "code",
   "execution_count": null,
   "metadata": {},
   "outputs": [],
   "source": []
  },
  {
   "cell_type": "code",
   "execution_count": null,
   "metadata": {},
   "outputs": [],
   "source": []
  },
  {
   "cell_type": "markdown",
   "metadata": {},
   "source": [
    "# FATO\n",
    "- Avaliacao do Saresp\n",
    "- Ano\n",
    "- Valor (medprof)\n",
    "- Dim disciplina (serie/periodo/conteudo) - TODO: incluir o professor aqui.\n",
    "- Dim equipe de gestores - tabela com Ids e uma auxiliar de detalhamentos\n",
    "- Dim escola"
   ]
  },
  {
   "cell_type": "markdown",
   "metadata": {},
   "source": [
    "# FUNCOES"
   ]
  },
  {
   "cell_type": "code",
   "execution_count": null,
   "metadata": {},
   "outputs": [],
   "source": []
  },
  {
   "cell_type": "code",
   "execution_count": null,
   "metadata": {},
   "outputs": [],
   "source": []
  },
  {
   "cell_type": "code",
   "execution_count": null,
   "metadata": {},
   "outputs": [],
   "source": []
  },
  {
   "cell_type": "code",
   "execution_count": null,
   "metadata": {},
   "outputs": [],
   "source": []
  },
  {
   "cell_type": "code",
   "execution_count": null,
   "metadata": {},
   "outputs": [],
   "source": []
  },
  {
   "cell_type": "code",
   "execution_count": null,
   "metadata": {},
   "outputs": [],
   "source": []
  },
  {
   "cell_type": "code",
   "execution_count": null,
   "metadata": {},
   "outputs": [],
   "source": []
  },
  {
   "cell_type": "code",
   "execution_count": null,
   "metadata": {},
   "outputs": [],
   "source": []
  },
  {
   "cell_type": "code",
   "execution_count": null,
   "metadata": {},
   "outputs": [],
   "source": []
  },
  {
   "cell_type": "markdown",
   "metadata": {},
   "source": [
    "# CARREGAMENTO DOS DADOS"
   ]
  },
  {
   "cell_type": "code",
   "execution_count": null,
   "metadata": {},
   "outputs": [],
   "source": [
    "# GESTORES\n",
    "arquivo = 'dados\\lideres\\lideres_DIRETORES DE ESCOLA.csv'\n",
    "diretor = pd.read_csv(arquivo, sep=';')\n",
    "arquivo = 'dados\\lideres\\lideres_VICE_DIRETOR.csv'\n",
    "vice = pd.read_csv(arquivo, sep=';')\n",
    "arquivo = 'dados\\lideres\\lideres_PROFESSOR_COORDENADOR.csv'\n",
    "coordenador = pd.read_csv(arquivo, sep=';')\n",
    "vice = vice.drop('Unnamed: 16',axis=1)"
   ]
  },
  {
   "cell_type": "code",
   "execution_count": null,
   "metadata": {},
   "outputs": [],
   "source": []
  },
  {
   "cell_type": "code",
   "execution_count": null,
   "metadata": {},
   "outputs": [],
   "source": []
  },
  {
   "cell_type": "code",
   "execution_count": null,
   "metadata": {},
   "outputs": [],
   "source": []
  },
  {
   "cell_type": "code",
   "execution_count": null,
   "metadata": {},
   "outputs": [],
   "source": []
  },
  {
   "cell_type": "code",
   "execution_count": null,
   "metadata": {},
   "outputs": [],
   "source": []
  },
  {
   "cell_type": "code",
   "execution_count": null,
   "metadata": {},
   "outputs": [],
   "source": []
  },
  {
   "cell_type": "code",
   "execution_count": null,
   "metadata": {},
   "outputs": [],
   "source": [
    "df_gestores = etl()"
   ]
  },
  {
   "cell_type": "code",
   "execution_count": null,
   "metadata": {},
   "outputs": [],
   "source": [
    "df_gestores"
   ]
  },
  {
   "cell_type": "code",
   "execution_count": null,
   "metadata": {},
   "outputs": [],
   "source": []
  },
  {
   "cell_type": "code",
   "execution_count": null,
   "metadata": {},
   "outputs": [],
   "source": []
  },
  {
   "cell_type": "markdown",
   "metadata": {},
   "source": [
    "### ESTUDO DAS VARIACOES"
   ]
  },
  {
   "cell_type": "code",
   "execution_count": null,
   "metadata": {
    "scrolled": true
   },
   "outputs": [],
   "source": [
    "idesp_group[idesp_group.variacao > 200]"
   ]
  },
  {
   "cell_type": "code",
   "execution_count": null,
   "metadata": {
    "scrolled": true
   },
   "outputs": [],
   "source": [
    "df_idesp[df_idesp.loc[:,'CODIGO CIE'] == 40551]"
   ]
  },
  {
   "cell_type": "code",
   "execution_count": null,
   "metadata": {},
   "outputs": [],
   "source": []
  },
  {
   "cell_type": "code",
   "execution_count": null,
   "metadata": {},
   "outputs": [],
   "source": []
  },
  {
   "cell_type": "code",
   "execution_count": null,
   "metadata": {},
   "outputs": [],
   "source": []
  },
  {
   "cell_type": "code",
   "execution_count": null,
   "metadata": {},
   "outputs": [],
   "source": []
  },
  {
   "cell_type": "code",
   "execution_count": null,
   "metadata": {},
   "outputs": [],
   "source": []
  },
  {
   "cell_type": "code",
   "execution_count": null,
   "metadata": {},
   "outputs": [],
   "source": []
  },
  {
   "cell_type": "code",
   "execution_count": null,
   "metadata": {},
   "outputs": [],
   "source": []
  },
  {
   "cell_type": "code",
   "execution_count": null,
   "metadata": {},
   "outputs": [],
   "source": []
  },
  {
   "cell_type": "code",
   "execution_count": null,
   "metadata": {},
   "outputs": [],
   "source": []
  },
  {
   "cell_type": "code",
   "execution_count": null,
   "metadata": {},
   "outputs": [],
   "source": []
  },
  {
   "cell_type": "code",
   "execution_count": null,
   "metadata": {},
   "outputs": [],
   "source": []
  },
  {
   "cell_type": "code",
   "execution_count": null,
   "metadata": {},
   "outputs": [],
   "source": []
  },
  {
   "cell_type": "code",
   "execution_count": null,
   "metadata": {},
   "outputs": [],
   "source": []
  },
  {
   "cell_type": "markdown",
   "metadata": {},
   "source": [
    "# GERANDO DIMENSAO GESTORES\n",
    "- cd_escola\n",
    "- ano\n",
    "- diretoria\n",
    "- id_diretor - detalhamento aparece em outro lugar\n",
    "- id_vice\n",
    "- id_coordenador"
   ]
  },
  {
   "cell_type": "code",
   "execution_count": null,
   "metadata": {},
   "outputs": [],
   "source": [
    "LISTA_ANOS = ['2014', '2015', '2016', '2017', '2018']\n",
    "def foi_gestor(ano):\n",
    "    return ano == 'SIM'"
   ]
  },
  {
   "cell_type": "code",
   "execution_count": null,
   "metadata": {},
   "outputs": [],
   "source": [
    "def limpeza(tabela_extraida, funcao_gestor, df_gestao):\n",
    "    for _, row in tabela_extraida.iterrows():\n",
    "        for ANO in LISTA_ANOS:\n",
    "            if foi_gestor(row.loc[ANO]):\n",
    "                df_gestao['id_gestao'].append('esc-' + str(row.CD_ESCOLA) + '-ano-' + str(ANO))\n",
    "                df_gestao['id_escola'].append(row.CD_ESCOLA)\n",
    "                df_gestao['id_gestor'].append(row.id_interno)\n",
    "                df_gestao['ano_gestao'].append(ANO)\n",
    "                df_gestao['diretoria'].append(row.DIRETORIA)\n",
    "                df_gestao['funcao'].append(funcao_gestor)\n",
    "    return df_gestao"
   ]
  },
  {
   "cell_type": "code",
   "execution_count": null,
   "metadata": {},
   "outputs": [],
   "source": [
    "df_gestao = {}\n",
    "df_gestao['id_gestao'] = []\n",
    "df_gestao['id_escola'] = []\n",
    "df_gestao['id_gestor'] = []\n",
    "df_gestao['ano_gestao'] = []\n",
    "df_gestao['diretoria'] = []\n",
    "df_gestao['funcao'] = []\n",
    "\n",
    "df_gestao = limpeza(diretor, 'DIRETOR', df_gestao)\n",
    "df_gestao = limpeza(vice, 'VICE', df_gestao)\n",
    "df_gestao = limpeza(coordenador, 'COORDENADOR', df_gestao)"
   ]
  },
  {
   "cell_type": "code",
   "execution_count": null,
   "metadata": {},
   "outputs": [],
   "source": [
    "df_gestao = pd.DataFrame(df_gestao)"
   ]
  },
  {
   "cell_type": "code",
   "execution_count": null,
   "metadata": {},
   "outputs": [],
   "source": []
  },
  {
   "cell_type": "code",
   "execution_count": null,
   "metadata": {},
   "outputs": [],
   "source": []
  },
  {
   "cell_type": "code",
   "execution_count": null,
   "metadata": {},
   "outputs": [],
   "source": [
    "df_gestao = {}\n",
    "df_gestao['id_gestao'] = []\n",
    "df_gestao['id_escola'] = []\n",
    "df_gestao['id_gestor'] = []\n",
    "df_gestao['ano_gestao'] = []\n",
    "df_gestao['diretoria'] = []\n",
    "df_gestao['funcao'] = []\n",
    "\n",
    "for _, row in diretor.iterrows():\n",
    "    for ANO in LISTA_ANOS:\n",
    "        if foi_gestor(row.loc[ANO]):\n",
    "            df_gestao['id_gestao'].append('esc-' + str(row.CD_ESCOLA) + '-ano-' + str(ANO))\n",
    "            df_gestao['id_escola'].append(row.CD_ESCOLA)\n",
    "            df_gestao['id_gestor'].append(row.id_interno)\n",
    "            df_gestao['ano_gestao'].append(ANO)\n",
    "            df_gestao['diretoria'].append(row.DIRETORIA)\n",
    "            df_gestao['funcao'].append('DIRETOR')\n",
    "\n",
    "for _, row in vice.iterrows():\n",
    "    for ANO in LISTA_ANOS:\n",
    "        if foi_gestor(row.loc[ANO]):\n",
    "            df_gestao['id_gestao'].append('esc-' + str(row.CD_ESCOLA) + '-ano-' + str(ANO))\n",
    "            df_gestao['id_escola'].append(row.CD_ESCOLA)\n",
    "            df_gestao['id_gestor'].append(row.id_interno)\n",
    "            df_gestao['ano_gestao'].append(ANO)\n",
    "            df_gestao['diretoria'].append(row.DIRETORIA)\n",
    "            df_gestao['funcao'].append('VICE')\n",
    "            \n",
    "for _, row in coordenador.iterrows():\n",
    "    for ANO in LISTA_ANOS:\n",
    "        if foi_gestor(row.loc[ANO]):\n",
    "            df_gestao['id_gestao'].append('esc-' + str(row.CD_ESCOLA) + '-ano-' + str(ANO))\n",
    "            df_gestao['id_escola'].append(row.CD_ESCOLA)\n",
    "            df_gestao['id_gestor'].append(row.id_interno)\n",
    "            df_gestao['ano_gestao'].append(ANO)\n",
    "            df_gestao['diretoria'].append(row.DIRETORIA)\n",
    "            df_gestao['funcao'].append('COORDENADOR')\n",
    "            \n",
    "df_gestao = pd.DataFrame(df_gestao)"
   ]
  },
  {
   "cell_type": "markdown",
   "metadata": {},
   "source": [
    "### VERIFICANDO QUANTIDADE DE TROCAS DE GESTORES"
   ]
  },
  {
   "cell_type": "code",
   "execution_count": null,
   "metadata": {},
   "outputs": [],
   "source": [
    "k = 0\n",
    "contagem_gestores = collections.Counter(df_gestao.id_gestao)\n",
    "for id_gestao in contagem_gestores:\n",
    "    if contagem_gestores[id_gestao] == 3:\n",
    "        k += 1"
   ]
  },
  {
   "cell_type": "code",
   "execution_count": null,
   "metadata": {},
   "outputs": [],
   "source": [
    "df_gestao[df_gestao.id_gestao == 'esc-472505-ano-2014']"
   ]
  },
  {
   "cell_type": "code",
   "execution_count": null,
   "metadata": {},
   "outputs": [],
   "source": []
  },
  {
   "cell_type": "code",
   "execution_count": null,
   "metadata": {},
   "outputs": [],
   "source": []
  },
  {
   "cell_type": "code",
   "execution_count": null,
   "metadata": {},
   "outputs": [],
   "source": []
  },
  {
   "cell_type": "code",
   "execution_count": null,
   "metadata": {},
   "outputs": [],
   "source": []
  },
  {
   "cell_type": "markdown",
   "metadata": {},
   "source": [
    "# GESTAO + IDESP"
   ]
  },
  {
   "cell_type": "code",
   "execution_count": null,
   "metadata": {},
   "outputs": [],
   "source": [
    "cont_gestores = {}\n",
    "cont_gestores['id_gestao'] = []\n",
    "cont_gestores['id_escola'] = []\n",
    "cont_gestores['n_gestores'] = []\n",
    "\n",
    "for nome, dados in df_gestao.groupby('id_gestao'):\n",
    "    n_gestores = len(dados)\n",
    "    cont_gestores['id_gestao'].append(nome)\n",
    "    cont_gestores['id_escola'].append(dados.id_escola.iloc[0])\n",
    "    cont_gestores['n_gestores'].append(n_gestores)\n",
    "    \n",
    "cont_gestores = pd.DataFrame(data=cont_gestores)\n",
    "cont_gestores_aux = {}\n",
    "cont_gestores_aux['id_escola'] = []\n",
    "cont_gestores_aux['mediana'] = []\n",
    "for nome, dados in cont_gestores.groupby('id_escola'):\n",
    "    cont_gestores_aux['id_escola'].append(dados.id_escola.iloc[0])\n",
    "    cont_gestores_aux['mediana'].append(dados.n_gestores.median())\n",
    "\n",
    "cont_gestores_aux = pd.DataFrame(data=cont_gestores_aux)\n",
    "cont_gestores = pd.merge(cont_gestores,\n",
    "                  cont_gestores_aux,\n",
    "                  on='id_escola')\n",
    "cont_gestores['var_gestores'] = result.n_gestores - result.mediana\n",
    "\n",
    "result = pd.merge(idesp_group,\n",
    "                  cont_gestores,\n",
    "                  on='id_gestao')\n",
    "result.loc[:,['variacao','var_gestores']].corr()\n",
    "\n",
    "# DIFERENTE DO QUE EU PENSAVA, PARECE QUE ESSE NUMERO ALTO DE GESTORES\n",
    "# MAIS OU MENOS NORMAL E NAO IMPACTA MUITO OS RESULTADOS"
   ]
  },
  {
   "cell_type": "code",
   "execution_count": null,
   "metadata": {},
   "outputs": [],
   "source": []
  },
  {
   "cell_type": "code",
   "execution_count": null,
   "metadata": {},
   "outputs": [],
   "source": []
  },
  {
   "cell_type": "code",
   "execution_count": null,
   "metadata": {},
   "outputs": [],
   "source": []
  },
  {
   "cell_type": "markdown",
   "metadata": {},
   "source": [
    "# NOTAS DOS GESTORES"
   ]
  },
  {
   "cell_type": "code",
   "execution_count": null,
   "metadata": {},
   "outputs": [],
   "source": [
    "result = pd.merge(idesp_group,\n",
    "                  df_gestao,\n",
    "                  on='id_gestao')"
   ]
  },
  {
   "cell_type": "code",
   "execution_count": null,
   "metadata": {},
   "outputs": [],
   "source": [
    "result.head(5)"
   ]
  },
  {
   "cell_type": "code",
   "execution_count": null,
   "metadata": {},
   "outputs": [],
   "source": [
    "nota_gestor = {}\n",
    "nota_gestor['id_gestor'] = []\n",
    "nota_gestor['nota_var'] = []\n",
    "nota_gestor['n_atuacoes'] = []\n",
    "for nome, dados in result.groupby('id_gestor'):\n",
    "    nota_gestor['id_gestor'].append(nome)\n",
    "    nota_gestor['nota_var'].append(dados.variacao.mean())\n",
    "    nota_gestor['n_atuacoes'].append(len(dados))\n",
    "\n",
    "nota_gestor = pd.DataFrame(data=nota_gestor)"
   ]
  },
  {
   "cell_type": "code",
   "execution_count": null,
   "metadata": {},
   "outputs": [],
   "source": [
    "nota_gestor.nota_var.describe()"
   ]
  },
  {
   "cell_type": "code",
   "execution_count": null,
   "metadata": {},
   "outputs": [],
   "source": [
    "nota_gestor.n_atuacoes.describe()"
   ]
  },
  {
   "cell_type": "code",
   "execution_count": null,
   "metadata": {},
   "outputs": [],
   "source": [
    "nota_gestor = nota_gestor[nota_gestor.n_atuacoes >= 2]"
   ]
  },
  {
   "cell_type": "code",
   "execution_count": null,
   "metadata": {},
   "outputs": [],
   "source": [
    "nota_gestor.head(5)"
   ]
  },
  {
   "cell_type": "code",
   "execution_count": null,
   "metadata": {},
   "outputs": [],
   "source": []
  },
  {
   "cell_type": "code",
   "execution_count": null,
   "metadata": {},
   "outputs": [],
   "source": []
  },
  {
   "cell_type": "code",
   "execution_count": null,
   "metadata": {},
   "outputs": [],
   "source": []
  },
  {
   "cell_type": "code",
   "execution_count": null,
   "metadata": {},
   "outputs": [],
   "source": []
  },
  {
   "cell_type": "code",
   "execution_count": null,
   "metadata": {},
   "outputs": [],
   "source": []
  },
  {
   "cell_type": "code",
   "execution_count": null,
   "metadata": {},
   "outputs": [],
   "source": []
  },
  {
   "cell_type": "code",
   "execution_count": null,
   "metadata": {},
   "outputs": [],
   "source": [
    "result[result.id_gestor == 355299]"
   ]
  },
  {
   "cell_type": "code",
   "execution_count": null,
   "metadata": {},
   "outputs": [],
   "source": [
    "dados"
   ]
  },
  {
   "cell_type": "code",
   "execution_count": null,
   "metadata": {},
   "outputs": [],
   "source": []
  },
  {
   "cell_type": "code",
   "execution_count": null,
   "metadata": {},
   "outputs": [],
   "source": []
  },
  {
   "cell_type": "code",
   "execution_count": null,
   "metadata": {},
   "outputs": [],
   "source": []
  },
  {
   "cell_type": "code",
   "execution_count": null,
   "metadata": {},
   "outputs": [],
   "source": []
  },
  {
   "cell_type": "code",
   "execution_count": null,
   "metadata": {},
   "outputs": [],
   "source": []
  },
  {
   "cell_type": "code",
   "execution_count": null,
   "metadata": {},
   "outputs": [],
   "source": []
  },
  {
   "cell_type": "code",
   "execution_count": null,
   "metadata": {},
   "outputs": [],
   "source": []
  },
  {
   "cell_type": "code",
   "execution_count": null,
   "metadata": {},
   "outputs": [],
   "source": []
  },
  {
   "cell_type": "markdown",
   "metadata": {},
   "source": [
    "# DIMENSAO SARESP\n",
    "- Substituida pela dimensao IDESP"
   ]
  },
  {
   "cell_type": "code",
   "execution_count": null,
   "metadata": {},
   "outputs": [],
   "source": [
    "def limpa_serie_ano(serie_ano):\n",
    "    if serie_ano == '9Âº Ano EF' or serie_ano == '9º Ano EF':\n",
    "        return 'EF-9'\n",
    "    elif serie_ano == '7Âº Ano EF':\n",
    "        return 'EF-7'\n",
    "    elif serie_ano == 'EM-3Âª sÃ©rie' or serie_ano == 'EM-3ª série':\n",
    "        return 'EM-3'\n",
    "    elif serie_ano == '3Âº Ano EF' or serie_ano == '3º Ano EF':\n",
    "        return 'EF-3'\n",
    "    elif serie_ano == '5Âº Ano EF' or serie_ano == '5º Ano EF':\n",
    "        return 'EF-5'\n",
    "    \n",
    "def limpa_ds_comp(ds_comp):\n",
    "    if ds_comp == 'LÃ\\x8dNGUA PORTUGUESA' or ds_comp == 'LÍNGUA PORTUGUESA':\n",
    "        return 'PORTUGUES'\n",
    "    elif ds_comp == 'MATEMÃ\\x81TICA' or ds_comp == 'MATEMÁTICA':\n",
    "        return 'MATEMATICA'\n",
    "    elif ds_comp == 'CIÃ\\x8aNCIAS':\n",
    "        return 'CIENCIAS'    \n",
    "    \n",
    "def enulo(valor):\n",
    "    return str(valor) == 'nan'   "
   ]
  },
  {
   "cell_type": "code",
   "execution_count": null,
   "metadata": {},
   "outputs": [],
   "source": [
    "# SARESP\n",
    "arquivo = 'dados/saresp/SARESP_escolas_2014.csv'\n",
    "df_2014 = pd.read_csv(arquivo, sep=';', encoding='latin-1')\n",
    "df_2014['ano'] = 2014\n",
    "arquivo = 'dados/saresp/SARESP_escolas_2015.csv'\n",
    "df_2015 = pd.read_csv(arquivo, sep=';', encoding='latin-1')\n",
    "df_2015['ano'] = 2015\n",
    "arquivo = 'dados/saresp/SARESP_escolas_2016.csv'\n",
    "df_2016 = pd.read_csv(arquivo, sep=';', encoding='latin-1')\n",
    "df_2016['ano'] = 2016\n",
    "arquivo = 'dados/saresp/SARESP_escolas_2017.csv'\n",
    "df_2017 = pd.read_csv(arquivo, sep=';', encoding='latin-1')\n",
    "df_2017['ano'] = 2017\n",
    "arquivo = 'dados/saresp/SARESP_escolas_2018.csv'\n",
    "df_2018 = pd.read_csv(arquivo, sep=';', encoding='latin-1')\n",
    "df_2018['ano'] = 2018\n",
    "saresp = df_2014.append(df_2015).append(df_2016).append(df_2017).append(df_2018)\n",
    "saresp = saresp[saresp.medprof.notnull()] # nao estou interessado se nao tiver o valor do saresp"
   ]
  },
  {
   "cell_type": "code",
   "execution_count": null,
   "metadata": {},
   "outputs": [],
   "source": [
    "saresp.SERIE_ANO = saresp.SERIE_ANO.apply(limpa_serie_ano)\n",
    "saresp.ds_comp = saresp.ds_comp.apply(limpa_ds_comp)\n",
    "saresp.medprof = saresp.medprof \\\n",
    "                .apply(lambda x: str(x).replace('.','').replace(',','.')) \\\n",
    "                .astype(float) \n",
    "\n",
    "df_saresp = {}\n",
    "df_saresp['id_gestao'] = []\n",
    "df_saresp['id_escola'] = []\n",
    "df_saresp['ano_gestao'] = []\n",
    "df_saresp['serie_ano'] = []\n",
    "df_saresp['periodo'] = []\n",
    "df_saresp['disciplina'] = []\n",
    "df_saresp['medprofici'] = []\n",
    "\n",
    "for _, row in saresp.iterrows():\n",
    "    df_saresp['id_gestao'].append('esc-' + str(row.CODESC) + '-ano-' + str(row.ano))\n",
    "    df_saresp['id_escola'].append(row.CODESC)\n",
    "    df_saresp['ano_gestao'].append(row.ano)\n",
    "    df_saresp['serie_ano'].append(row.SERIE_ANO)\n",
    "    df_saresp['periodo'].append(row.periodo)\n",
    "    df_saresp['disciplina'].append(row.ds_comp)\n",
    "    df_saresp['medprofici'].append(row.medprof)\n",
    "\n",
    "df_saresp = pd.DataFrame(data=df_saresp) \n",
    "\n",
    "saresp_medias = {}\n",
    "saresp_medias['id_gestao'] = []\n",
    "saresp_medias['media'] = []\n",
    "saresp_medias['id_escola'] = []\n",
    "for nome, dados in df_saresp.groupby('id_gestao'):\n",
    "    saresp_medias['id_gestao'].append(nome)\n",
    "    saresp_medias['media'].append(dados.medprofici.mean())\n",
    "    saresp_medias['id_escola'].append(dados.id_escola.iloc[0])\n",
    "\n",
    "saresp_medias = pd.DataFrame(data = saresp_medias)"
   ]
  },
  {
   "cell_type": "code",
   "execution_count": null,
   "metadata": {},
   "outputs": [],
   "source": []
  },
  {
   "cell_type": "code",
   "execution_count": null,
   "metadata": {},
   "outputs": [],
   "source": []
  },
  {
   "cell_type": "code",
   "execution_count": null,
   "metadata": {},
   "outputs": [],
   "source": []
  },
  {
   "cell_type": "code",
   "execution_count": null,
   "metadata": {},
   "outputs": [],
   "source": []
  },
  {
   "cell_type": "code",
   "execution_count": null,
   "metadata": {},
   "outputs": [],
   "source": []
  },
  {
   "cell_type": "code",
   "execution_count": null,
   "metadata": {},
   "outputs": [],
   "source": []
  },
  {
   "cell_type": "code",
   "execution_count": 1,
   "metadata": {},
   "outputs": [],
   "source": [
    "import pandas as pd\n",
    "import collections\n",
    "\n",
    "import etl_gestores\n",
    "import etl_idesp"
   ]
  },
  {
   "cell_type": "code",
   "execution_count": 2,
   "metadata": {},
   "outputs": [],
   "source": [
    "dados = etl_gestores.etl()"
   ]
  },
  {
   "cell_type": "code",
   "execution_count": 3,
   "metadata": {},
   "outputs": [
    {
     "data": {
      "text/html": [
       "<div>\n",
       "<style scoped>\n",
       "    .dataframe tbody tr th:only-of-type {\n",
       "        vertical-align: middle;\n",
       "    }\n",
       "\n",
       "    .dataframe tbody tr th {\n",
       "        vertical-align: top;\n",
       "    }\n",
       "\n",
       "    .dataframe thead th {\n",
       "        text-align: right;\n",
       "    }\n",
       "</style>\n",
       "<table border=\"1\" class=\"dataframe\">\n",
       "  <thead>\n",
       "    <tr style=\"text-align: right;\">\n",
       "      <th></th>\n",
       "      <th>id_gestao</th>\n",
       "      <th>id_escola</th>\n",
       "      <th>id_gestor</th>\n",
       "      <th>ano_gestao</th>\n",
       "      <th>diretoria</th>\n",
       "      <th>funcao</th>\n",
       "    </tr>\n",
       "  </thead>\n",
       "  <tbody>\n",
       "    <tr>\n",
       "      <th>0</th>\n",
       "      <td>esc-902724-ano-2017</td>\n",
       "      <td>902724</td>\n",
       "      <td>288268</td>\n",
       "      <td>2017</td>\n",
       "      <td>LESTE 3</td>\n",
       "      <td>DIRETOR</td>\n",
       "    </tr>\n",
       "    <tr>\n",
       "      <th>1</th>\n",
       "      <td>esc-902724-ano-2018</td>\n",
       "      <td>902724</td>\n",
       "      <td>288268</td>\n",
       "      <td>2018</td>\n",
       "      <td>LESTE 3</td>\n",
       "      <td>DIRETOR</td>\n",
       "    </tr>\n",
       "    <tr>\n",
       "      <th>2</th>\n",
       "      <td>esc-13006-ano-2015</td>\n",
       "      <td>13006</td>\n",
       "      <td>385732</td>\n",
       "      <td>2015</td>\n",
       "      <td>GUARATINGUETA</td>\n",
       "      <td>DIRETOR</td>\n",
       "    </tr>\n",
       "  </tbody>\n",
       "</table>\n",
       "</div>"
      ],
      "text/plain": [
       "             id_gestao  id_escola  id_gestor ano_gestao      diretoria  \\\n",
       "0  esc-902724-ano-2017     902724     288268       2017        LESTE 3   \n",
       "1  esc-902724-ano-2018     902724     288268       2018        LESTE 3   \n",
       "2   esc-13006-ano-2015      13006     385732       2015  GUARATINGUETA   \n",
       "\n",
       "    funcao  \n",
       "0  DIRETOR  \n",
       "1  DIRETOR  \n",
       "2  DIRETOR  "
      ]
     },
     "execution_count": 3,
     "metadata": {},
     "output_type": "execute_result"
    }
   ],
   "source": [
    "dados.head(3)"
   ]
  },
  {
   "cell_type": "code",
   "execution_count": 4,
   "metadata": {},
   "outputs": [],
   "source": [
    "df_idesp = etl_idesp.etl()"
   ]
  },
  {
   "cell_type": "code",
   "execution_count": 5,
   "metadata": {},
   "outputs": [],
   "source": [
    "mergeidesp = pd.merge(df_idesp, dados, on='id_gestao')"
   ]
  },
  {
   "cell_type": "code",
   "execution_count": 6,
   "metadata": {},
   "outputs": [
    {
     "data": {
      "text/html": [
       "<div>\n",
       "<style scoped>\n",
       "    .dataframe tbody tr th:only-of-type {\n",
       "        vertical-align: middle;\n",
       "    }\n",
       "\n",
       "    .dataframe tbody tr th {\n",
       "        vertical-align: top;\n",
       "    }\n",
       "\n",
       "    .dataframe thead th {\n",
       "        text-align: right;\n",
       "    }\n",
       "</style>\n",
       "<table border=\"1\" class=\"dataframe\">\n",
       "  <thead>\n",
       "    <tr style=\"text-align: right;\">\n",
       "      <th></th>\n",
       "      <th>id_gestao</th>\n",
       "      <th>id_escola_x</th>\n",
       "      <th>ano_gestao_x</th>\n",
       "      <th>nota_ano</th>\n",
       "      <th>variacao</th>\n",
       "      <th>anterior_nulo</th>\n",
       "      <th>atual_nulo</th>\n",
       "      <th>unidades_diretoria</th>\n",
       "      <th>nome_diretoria</th>\n",
       "      <th>id_escola_y</th>\n",
       "      <th>id_gestor</th>\n",
       "      <th>ano_gestao_y</th>\n",
       "      <th>diretoria</th>\n",
       "      <th>funcao</th>\n",
       "    </tr>\n",
       "  </thead>\n",
       "  <tbody>\n",
       "    <tr>\n",
       "      <th>0</th>\n",
       "      <td>esc-10005-ano-2014</td>\n",
       "      <td>10005</td>\n",
       "      <td>2014</td>\n",
       "      <td>3.48</td>\n",
       "      <td>10.828025</td>\n",
       "      <td>0</td>\n",
       "      <td>1</td>\n",
       "      <td>133</td>\n",
       "      <td>ITAPECERICA DA SERRA</td>\n",
       "      <td>10005</td>\n",
       "      <td>326625</td>\n",
       "      <td>2014</td>\n",
       "      <td>ITAPECERICA DA SERRA</td>\n",
       "      <td>DIRETOR</td>\n",
       "    </tr>\n",
       "    <tr>\n",
       "      <th>1</th>\n",
       "      <td>esc-10005-ano-2014</td>\n",
       "      <td>10005</td>\n",
       "      <td>2014</td>\n",
       "      <td>3.48</td>\n",
       "      <td>10.828025</td>\n",
       "      <td>0</td>\n",
       "      <td>1</td>\n",
       "      <td>133</td>\n",
       "      <td>ITAPECERICA DA SERRA</td>\n",
       "      <td>10005</td>\n",
       "      <td>157667</td>\n",
       "      <td>2014</td>\n",
       "      <td>ITAPECERICA DA SERRA</td>\n",
       "      <td>VICE</td>\n",
       "    </tr>\n",
       "    <tr>\n",
       "      <th>2</th>\n",
       "      <td>esc-10005-ano-2014</td>\n",
       "      <td>10005</td>\n",
       "      <td>2014</td>\n",
       "      <td>3.48</td>\n",
       "      <td>10.828025</td>\n",
       "      <td>0</td>\n",
       "      <td>1</td>\n",
       "      <td>133</td>\n",
       "      <td>ITAPECERICA DA SERRA</td>\n",
       "      <td>10005</td>\n",
       "      <td>314895</td>\n",
       "      <td>2014</td>\n",
       "      <td>ITAPECERICA DA SERRA</td>\n",
       "      <td>VICE</td>\n",
       "    </tr>\n",
       "  </tbody>\n",
       "</table>\n",
       "</div>"
      ],
      "text/plain": [
       "            id_gestao  id_escola_x  ano_gestao_x  nota_ano   variacao  \\\n",
       "0  esc-10005-ano-2014        10005          2014      3.48  10.828025   \n",
       "1  esc-10005-ano-2014        10005          2014      3.48  10.828025   \n",
       "2  esc-10005-ano-2014        10005          2014      3.48  10.828025   \n",
       "\n",
       "   anterior_nulo  atual_nulo  unidades_diretoria        nome_diretoria  \\\n",
       "0              0           1                 133  ITAPECERICA DA SERRA   \n",
       "1              0           1                 133  ITAPECERICA DA SERRA   \n",
       "2              0           1                 133  ITAPECERICA DA SERRA   \n",
       "\n",
       "   id_escola_y  id_gestor ano_gestao_y             diretoria   funcao  \n",
       "0        10005     326625         2014  ITAPECERICA DA SERRA  DIRETOR  \n",
       "1        10005     157667         2014  ITAPECERICA DA SERRA     VICE  \n",
       "2        10005     314895         2014  ITAPECERICA DA SERRA     VICE  "
      ]
     },
     "execution_count": 6,
     "metadata": {},
     "output_type": "execute_result"
    }
   ],
   "source": [
    "mergeidesp.head(3)"
   ]
  },
  {
   "cell_type": "code",
   "execution_count": 7,
   "metadata": {},
   "outputs": [],
   "source": [
    "mergeidesp = mergeidesp.dropna(subset=['nota_ano'])\n",
    "mergeidesp = mergeidesp.rename({'ano_gestao_x': 'ano_gestao'}, axis=1)\n",
    "mergeidesp.ano_gestao = mergeidesp.ano_gestao.astype(int)"
   ]
  },
  {
   "cell_type": "code",
   "execution_count": 8,
   "metadata": {},
   "outputs": [
    {
     "data": {
      "text/html": [
       "<div>\n",
       "<style scoped>\n",
       "    .dataframe tbody tr th:only-of-type {\n",
       "        vertical-align: middle;\n",
       "    }\n",
       "\n",
       "    .dataframe tbody tr th {\n",
       "        vertical-align: top;\n",
       "    }\n",
       "\n",
       "    .dataframe thead th {\n",
       "        text-align: right;\n",
       "    }\n",
       "</style>\n",
       "<table border=\"1\" class=\"dataframe\">\n",
       "  <thead>\n",
       "    <tr style=\"text-align: right;\">\n",
       "      <th></th>\n",
       "      <th>id_gestao</th>\n",
       "      <th>id_escola_x</th>\n",
       "      <th>ano_gestao</th>\n",
       "      <th>nota_ano</th>\n",
       "      <th>variacao</th>\n",
       "      <th>anterior_nulo</th>\n",
       "      <th>atual_nulo</th>\n",
       "      <th>unidades_diretoria</th>\n",
       "      <th>nome_diretoria</th>\n",
       "      <th>id_escola_y</th>\n",
       "      <th>id_gestor</th>\n",
       "      <th>ano_gestao_y</th>\n",
       "      <th>diretoria</th>\n",
       "      <th>funcao</th>\n",
       "    </tr>\n",
       "  </thead>\n",
       "  <tbody>\n",
       "    <tr>\n",
       "      <th>0</th>\n",
       "      <td>esc-10005-ano-2014</td>\n",
       "      <td>10005</td>\n",
       "      <td>2014</td>\n",
       "      <td>3.48</td>\n",
       "      <td>10.828025</td>\n",
       "      <td>0</td>\n",
       "      <td>1</td>\n",
       "      <td>133</td>\n",
       "      <td>ITAPECERICA DA SERRA</td>\n",
       "      <td>10005</td>\n",
       "      <td>326625</td>\n",
       "      <td>2014</td>\n",
       "      <td>ITAPECERICA DA SERRA</td>\n",
       "      <td>DIRETOR</td>\n",
       "    </tr>\n",
       "    <tr>\n",
       "      <th>5</th>\n",
       "      <td>esc-10005-ano-2015</td>\n",
       "      <td>10005</td>\n",
       "      <td>2015</td>\n",
       "      <td>3.78</td>\n",
       "      <td>8.620690</td>\n",
       "      <td>0</td>\n",
       "      <td>1</td>\n",
       "      <td>133</td>\n",
       "      <td>ITAPECERICA DA SERRA</td>\n",
       "      <td>10005</td>\n",
       "      <td>326625</td>\n",
       "      <td>2015</td>\n",
       "      <td>ITAPECERICA DA SERRA</td>\n",
       "      <td>DIRETOR</td>\n",
       "    </tr>\n",
       "    <tr>\n",
       "      <th>11</th>\n",
       "      <td>esc-10005-ano-2016</td>\n",
       "      <td>10005</td>\n",
       "      <td>2016</td>\n",
       "      <td>3.26</td>\n",
       "      <td>-13.756614</td>\n",
       "      <td>0</td>\n",
       "      <td>1</td>\n",
       "      <td>133</td>\n",
       "      <td>ITAPECERICA DA SERRA</td>\n",
       "      <td>10005</td>\n",
       "      <td>326625</td>\n",
       "      <td>2016</td>\n",
       "      <td>ITAPECERICA DA SERRA</td>\n",
       "      <td>DIRETOR</td>\n",
       "    </tr>\n",
       "  </tbody>\n",
       "</table>\n",
       "</div>"
      ],
      "text/plain": [
       "             id_gestao  id_escola_x  ano_gestao  nota_ano   variacao  \\\n",
       "0   esc-10005-ano-2014        10005        2014      3.48  10.828025   \n",
       "5   esc-10005-ano-2015        10005        2015      3.78   8.620690   \n",
       "11  esc-10005-ano-2016        10005        2016      3.26 -13.756614   \n",
       "\n",
       "    anterior_nulo  atual_nulo  unidades_diretoria        nome_diretoria  \\\n",
       "0               0           1                 133  ITAPECERICA DA SERRA   \n",
       "5               0           1                 133  ITAPECERICA DA SERRA   \n",
       "11              0           1                 133  ITAPECERICA DA SERRA   \n",
       "\n",
       "    id_escola_y  id_gestor ano_gestao_y             diretoria   funcao  \n",
       "0         10005     326625         2014  ITAPECERICA DA SERRA  DIRETOR  \n",
       "5         10005     326625         2015  ITAPECERICA DA SERRA  DIRETOR  \n",
       "11        10005     326625         2016  ITAPECERICA DA SERRA  DIRETOR  "
      ]
     },
     "execution_count": 8,
     "metadata": {},
     "output_type": "execute_result"
    }
   ],
   "source": [
    "mergeidesp[mergeidesp.id_gestor == 326625].head(3)\n",
    "# O Gestor X atuou em a,b,c anos nas seguintes escolas.\n",
    "# A nota nestes anos foi Z"
   ]
  },
  {
   "cell_type": "code",
   "execution_count": null,
   "metadata": {},
   "outputs": [],
   "source": []
  },
  {
   "cell_type": "code",
   "execution_count": null,
   "metadata": {},
   "outputs": [],
   "source": []
  },
  {
   "cell_type": "code",
   "execution_count": null,
   "metadata": {},
   "outputs": [],
   "source": []
  },
  {
   "cell_type": "code",
   "execution_count": 9,
   "metadata": {},
   "outputs": [],
   "source": [
    "LISTA_ANOS = [2014, 2015, 2016, 2017, 2018]\n",
    "adic_media = {}\n",
    "adic_media['id_gestao'] = []\n",
    "adic_media['media_variacao'] = []\n",
    "adic_media['media_gestor'] = []\n",
    "\n",
    "for nome,dados in mergeidesp.groupby('id_gestor'):\n",
    "    nota_total = 0\n",
    "    variacao_total = 0\n",
    "    contagem = 0\n",
    "    lista_anos = dados.ano_gestao.tolist()\n",
    "    lista_anos.sort()\n",
    "    primeira_gestao = lista_anos[0]\n",
    "    nota_ano_antes = 0\n",
    "    variacao_ano_antes = 0\n",
    "    for ano in lista_anos:\n",
    "        if ano == primeira_gestao:\n",
    "            row = dados[dados.ano_gestao == primeira_gestao].iloc[0]\n",
    "            nota_ano_antes = row.nota_ano\n",
    "            variacao_ano_antes = row.variacao\n",
    "            continue\n",
    "            #nota_anterior = row.nota_ano * (1 - row.variacao/100)\n",
    "            #variacao_anterior = 0\n",
    "        else:\n",
    "            nota_anterior = nota_ano_antes\n",
    "            variacao_anterior = variacao_ano_antes\n",
    "            row = dados[dados.ano_gestao == ano].iloc[0]\n",
    "            nota_ano_antes = row.nota_ano\n",
    "            variacao_ano_antes = row.variacao\n",
    "            \n",
    "        nota_total += nota_anterior\n",
    "        variacao_total += variacao_anterior\n",
    "        contagem += 1\n",
    "\n",
    "        row = dados[dados.ano_gestao == ano].iloc[0]\n",
    "        adic_media['id_gestao'].append(row.id_gestao)\n",
    "        adic_media['media_gestor'].append(nota_total / contagem)\n",
    "        adic_media['media_variacao'].append(variacao_total / contagem)\n",
    "        \n",
    "adic_media = pd.DataFrame(data=adic_media)"
   ]
  },
  {
   "cell_type": "code",
   "execution_count": 10,
   "metadata": {},
   "outputs": [],
   "source": [
    "mergeidesp2 = pd.merge(mergeidesp, adic_media, on='id_gestao', how='left')"
   ]
  },
  {
   "cell_type": "code",
   "execution_count": 11,
   "metadata": {},
   "outputs": [
    {
     "data": {
      "text/html": [
       "<div>\n",
       "<style scoped>\n",
       "    .dataframe tbody tr th:only-of-type {\n",
       "        vertical-align: middle;\n",
       "    }\n",
       "\n",
       "    .dataframe tbody tr th {\n",
       "        vertical-align: top;\n",
       "    }\n",
       "\n",
       "    .dataframe thead th {\n",
       "        text-align: right;\n",
       "    }\n",
       "</style>\n",
       "<table border=\"1\" class=\"dataframe\">\n",
       "  <thead>\n",
       "    <tr style=\"text-align: right;\">\n",
       "      <th></th>\n",
       "      <th>nota_ano</th>\n",
       "      <th>media_variacao</th>\n",
       "      <th>media_gestor</th>\n",
       "    </tr>\n",
       "  </thead>\n",
       "  <tbody>\n",
       "    <tr>\n",
       "      <th>nota_ano</th>\n",
       "      <td>1.000000</td>\n",
       "      <td>0.024101</td>\n",
       "      <td>0.822983</td>\n",
       "    </tr>\n",
       "    <tr>\n",
       "      <th>media_variacao</th>\n",
       "      <td>0.024101</td>\n",
       "      <td>1.000000</td>\n",
       "      <td>0.083194</td>\n",
       "    </tr>\n",
       "    <tr>\n",
       "      <th>media_gestor</th>\n",
       "      <td>0.822983</td>\n",
       "      <td>0.083194</td>\n",
       "      <td>1.000000</td>\n",
       "    </tr>\n",
       "  </tbody>\n",
       "</table>\n",
       "</div>"
      ],
      "text/plain": [
       "                nota_ano  media_variacao  media_gestor\n",
       "nota_ano        1.000000        0.024101      0.822983\n",
       "media_variacao  0.024101        1.000000      0.083194\n",
       "media_gestor    0.822983        0.083194      1.000000"
      ]
     },
     "execution_count": 11,
     "metadata": {},
     "output_type": "execute_result"
    }
   ],
   "source": [
    "mergeidesp2.loc[:,['nota_ano','media_variacao','media_gestor']].corr()"
   ]
  },
  {
   "cell_type": "code",
   "execution_count": 12,
   "metadata": {},
   "outputs": [
    {
     "data": {
      "text/plain": [
       "34327"
      ]
     },
     "execution_count": 12,
     "metadata": {},
     "output_type": "execute_result"
    }
   ],
   "source": [
    "mergeidesp2.media_variacao.isnull().sum()"
   ]
  },
  {
   "cell_type": "code",
   "execution_count": null,
   "metadata": {},
   "outputs": [],
   "source": []
  },
  {
   "cell_type": "code",
   "execution_count": null,
   "metadata": {},
   "outputs": [],
   "source": []
  },
  {
   "cell_type": "code",
   "execution_count": null,
   "metadata": {},
   "outputs": [],
   "source": []
  },
  {
   "cell_type": "code",
   "execution_count": null,
   "metadata": {},
   "outputs": [],
   "source": []
  },
  {
   "cell_type": "code",
   "execution_count": null,
   "metadata": {},
   "outputs": [],
   "source": []
  },
  {
   "cell_type": "code",
   "execution_count": null,
   "metadata": {},
   "outputs": [],
   "source": []
  },
  {
   "cell_type": "code",
   "execution_count": null,
   "metadata": {},
   "outputs": [],
   "source": []
  },
  {
   "cell_type": "code",
   "execution_count": null,
   "metadata": {},
   "outputs": [],
   "source": []
  },
  {
   "cell_type": "code",
   "execution_count": null,
   "metadata": {},
   "outputs": [],
   "source": []
  },
  {
   "cell_type": "code",
   "execution_count": null,
   "metadata": {},
   "outputs": [],
   "source": []
  },
  {
   "cell_type": "code",
   "execution_count": null,
   "metadata": {},
   "outputs": [],
   "source": []
  },
  {
   "cell_type": "code",
   "execution_count": null,
   "metadata": {},
   "outputs": [],
   "source": []
  },
  {
   "cell_type": "code",
   "execution_count": null,
   "metadata": {},
   "outputs": [],
   "source": []
  },
  {
   "cell_type": "code",
   "execution_count": null,
   "metadata": {},
   "outputs": [],
   "source": []
  },
  {
   "cell_type": "code",
   "execution_count": null,
   "metadata": {},
   "outputs": [],
   "source": []
  },
  {
   "cell_type": "code",
   "execution_count": null,
   "metadata": {},
   "outputs": [],
   "source": []
  }
 ],
 "metadata": {
  "kernelspec": {
   "display_name": "Python 3",
   "language": "python",
   "name": "python3"
  },
  "language_info": {
   "codemirror_mode": {
    "name": "ipython",
    "version": 3
   },
   "file_extension": ".py",
   "mimetype": "text/x-python",
   "name": "python",
   "nbconvert_exporter": "python",
   "pygments_lexer": "ipython3",
   "version": "3.7.3"
  }
 },
 "nbformat": 4,
 "nbformat_minor": 2
}
