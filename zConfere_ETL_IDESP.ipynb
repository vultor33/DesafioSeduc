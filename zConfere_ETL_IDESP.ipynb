{
 "cells": [
  {
   "cell_type": "code",
   "execution_count": 1,
   "metadata": {},
   "outputs": [],
   "source": [
    "import pandas as pd\n",
    "import collections\n",
    "from util import gera_id_gestao\n",
    "pd.set_option('display.max_columns', None)"
   ]
  },
  {
   "cell_type": "code",
   "execution_count": 2,
   "metadata": {},
   "outputs": [],
   "source": [
    "CRIMPAR_MAX_VARIACAO = 30 # valor nos 90% maiores\n",
    "CRIMPAR_MIN_VARIACAO = -13 # valor nos 10% menores\n",
    "LISTA_ANOS = ['2014', '2015', '2016', '2017', '2018']\n",
    "LISTA_ANO_ANTERIOR = ['2013', '2014', '2015', '2016', '2017']\n",
    "\n",
    "NOME_IDESP_AI = 'dados\\idesp/IDESP_Escolas_2007_2018_AI.CSV'\n",
    "NOME_IDESP_AF = 'dados\\idesp/IDESP_Escolas_2007_2018_AF.CSV'\n",
    "NOME_IDESP_EM = 'dados\\idesp/IDESP_Escolas_2007_2018_EM.CSV'\n",
    "\n",
    "# ISSO AQUI NAO DEVERIA ENTRAR NA CONFECCAO DO DATA MART\n",
    "# FAZ PARTE DAS ANALISES\n",
    "#idesp_group.variacao = idesp_group.variacao.apply(lambda x: CRIMPAR_MAX_VARIACAO if x > CRIMPAR_MAX_VARIACAO else x)\n",
    "#idesp_group.variacao = idesp_group.variacao.apply(lambda x: CRIMPAR_MIN_VARIACAO if x < CRIMPAR_MIN_VARIACAO else x)\n",
    " "
   ]
  },
  {
   "cell_type": "code",
   "execution_count": 3,
   "metadata": {},
   "outputs": [],
   "source": [
    "def etl():\n",
    "    df_idesp = extracao()\n",
    "    df_idesp = limpeza(df_idesp)\n",
    "    df_idesp = agrupamento_id_gestao(df_idesp)\n",
    "    return df_idesp"
   ]
  },
  {
   "cell_type": "code",
   "execution_count": 4,
   "metadata": {},
   "outputs": [],
   "source": [
    "def enulo(valor):\n",
    "    '''TODO - fortalecer essa conferencia de nulo'''\n",
    "    return str(valor) == 'nan'   \n",
    "\n",
    "def atual_enulo(dados):\n",
    "    '''Verifca se a prova idesp foi aplicada no ano da gestao\n",
    "    ENTRADA\n",
    "    * dados: dados da tabela IDESP, limpos e agrupados pelo id_gestao\n",
    "    SAIDA\n",
    "    * atual_nulo: 0 se todas as provas foram aplicadas, 1 se a aplicacao foi parcial\n",
    "                  2 se nenhuma das provas foi aplicada.'''\n",
    "    soma_atual = dados.atual_nulo.sum()\n",
    "    if soma_atual == 0:\n",
    "        return 0\n",
    "    elif soma_atual == len(dados):\n",
    "        return 2\n",
    "    else:\n",
    "        return 1"
   ]
  },
  {
   "cell_type": "code",
   "execution_count": 5,
   "metadata": {},
   "outputs": [],
   "source": [
    "def extracao():\n",
    "    df_idesp_anosiniciais = pd.read_csv(NOME_IDESP_AI, sep=',')\n",
    "    df_idesp_anosfinais = pd.read_csv(NOME_IDESP_AF, sep=',')\n",
    "    df_idesp_ensinomedio = pd.read_csv(NOME_IDESP_EM, sep=',')\n",
    "    df_idesp_anosfinais = df_idesp_anosfinais.dropna(thresh=2)  # DESCARTE DE 1 LINHA VAZIA\n",
    "    df_idesp = df_idesp_anosiniciais.append(df_idesp_anosfinais).append(df_idesp_ensinomedio)\n",
    "    return df_idesp"
   ]
  },
  {
   "cell_type": "code",
   "execution_count": 32,
   "metadata": {},
   "outputs": [],
   "source": [
    "def limpeza(df_idesp):\n",
    "    '''Na tabela df_idesp os anos de um mesmo nivel de ensino\n",
    "    e escola ficam na mesma linha. Precisamos que cada resultado\n",
    "    do IDESP esteja em uma linha separada. Adicionalmente, e necessario\n",
    "    descartar anos onde a prova nao foi aplicada.'''\n",
    "    idesp = {}\n",
    "    idesp['id_gestao'] = []\n",
    "    idesp['id_escola'] = []\n",
    "    idesp['ano_gestao'] = []\n",
    "    idesp['nivel_ensino'] = []\n",
    "    idesp['nota_ano'] = []\n",
    "    idesp['nota_anterior'] = []\n",
    "    idesp['anterior_nulo'] = []\n",
    "    idesp['atual_nulo'] = []\n",
    "\n",
    "    for _, row in df_idesp.iterrows():\n",
    "        for ano, ano_anterior in zip(LISTA_ANOS, LISTA_ANO_ANTERIOR):\n",
    "            atual_nulo = 0\n",
    "            idesp_atual = row.loc[ano]\n",
    "            if enulo(idesp_atual):\n",
    "                atual_nulo = 1\n",
    "                idesp_atual = 0\n",
    "            idesp_anterior = row.loc[ano_anterior]\n",
    "            anterior_nulo = 0\n",
    "            if enulo(idesp_anterior):\n",
    "                anterior_nulo = 1\n",
    "                idesp_anterior = idesp_atual\n",
    "\n",
    "            idesp['id_gestao'].append(gera_id_gestao(row.loc['CODIGO CIE'], ano))\n",
    "            idesp['id_escola'].append(int(row.loc['CODIGO CIE']))\n",
    "            idesp['ano_gestao'].append(int(ano))\n",
    "            idesp['nivel_ensino'].append(row.loc['NIVEL ENSINO'])\n",
    "            idesp['nota_ano'].append(idesp_atual)\n",
    "            idesp['nota_anterior'].append(idesp_anterior)\n",
    "            idesp['anterior_nulo'].append(anterior_nulo)\n",
    "            idesp['atual_nulo'].append(atual_nulo)\n",
    "    \n",
    "    return pd.DataFrame(data=idesp)"
   ]
  },
  {
   "cell_type": "code",
   "execution_count": 63,
   "metadata": {},
   "outputs": [],
   "source": [
    "def agrupamento_id_gestao(df_idesp):\n",
    "    idesp_group = {}\n",
    "    idesp_group['id_gestao'] = []\n",
    "    idesp_group['id_escola'] = []\n",
    "    idesp_group['ano_gestao'] = []\n",
    "    idesp_group['nota_ano'] = []\n",
    "    idesp_group['variacao'] = []\n",
    "    idesp_group['anterior_nulo'] = []\n",
    "    idesp_group['atual_nulo'] = []\n",
    "\n",
    "    for nome, dados in df_idesp.groupby('id_gestao'):\n",
    "        atual_nulo = atual_enulo(dados)\n",
    "        if atual_nulo == 2:\n",
    "            nota_ano = None\n",
    "            nota_anterior = None\n",
    "            variacao = None\n",
    "        else:\n",
    "            if atual_nulo == 1:\n",
    "                dados = dados[dados.atual_nulo == 0]\n",
    "            nota_ano = dados.nota_ano.mean()\n",
    "            nota_anterior = dados.nota_anterior.mean()\n",
    "            variacao = 100 * (nota_ano - nota_anterior) / nota_anterior\n",
    "        \n",
    "        idesp_group['id_gestao'].append(nome)\n",
    "        idesp_group['id_escola'].append(dados.id_escola.iloc[0])\n",
    "        idesp_group['ano_gestao'].append(int(dados.ano_gestao.iloc[0]))\n",
    "        idesp_group['nota_ano'].append(nota_ano)\n",
    "        idesp_group['variacao'].append(variacao)\n",
    "        idesp_group['anterior_nulo'].append(int(dados.anterior_nulo.sum() > 0))\n",
    "        idesp_group['atual_nulo'].append(atual_nulo)\n",
    "    \n",
    "    idesp_group = pd.DataFrame(data=idesp_group)\n",
    "    return idesp_group\n",
    "    \n"
   ]
  },
  {
   "cell_type": "code",
   "execution_count": null,
   "metadata": {},
   "outputs": [],
   "source": []
  },
  {
   "cell_type": "code",
   "execution_count": null,
   "metadata": {},
   "outputs": [],
   "source": []
  },
  {
   "cell_type": "code",
   "execution_count": null,
   "metadata": {},
   "outputs": [],
   "source": []
  },
  {
   "cell_type": "markdown",
   "metadata": {},
   "source": [
    "### CHECANDO SE O NOME DAS COLUNAS E IGUAL"
   ]
  },
  {
   "cell_type": "code",
   "execution_count": 36,
   "metadata": {},
   "outputs": [],
   "source": [
    "df_idesp_anosiniciais = pd.read_csv('dados\\IDESP_Escolas_2007_2018_AI.CSV',sep=',')\n",
    "df_idesp_anosfinais = pd.read_csv('dados\\IDESP_Escolas_2007_2018_AF.CSV',sep=',')\n",
    "df_idesp_ensinomedio = pd.read_csv('dados\\IDESP_Escolas_2007_2018_EM.CSV',sep=',')\n",
    "df_idesp_anosfinais = df_idesp_anosfinais.dropna(thresh=2)"
   ]
  },
  {
   "cell_type": "code",
   "execution_count": 37,
   "metadata": {},
   "outputs": [
    {
     "data": {
      "text/plain": [
       "array([ True,  True,  True,  True,  True,  True,  True,  True,  True,\n",
       "        True,  True,  True,  True,  True,  True,  True,  True,  True])"
      ]
     },
     "execution_count": 37,
     "metadata": {},
     "output_type": "execute_result"
    }
   ],
   "source": [
    "df_idesp_anosiniciais.columns == df_idesp_anosfinais.columns"
   ]
  },
  {
   "cell_type": "code",
   "execution_count": 38,
   "metadata": {},
   "outputs": [
    {
     "data": {
      "text/plain": [
       "array([ True,  True,  True,  True,  True,  True,  True,  True,  True,\n",
       "        True,  True,  True,  True,  True,  True,  True,  True,  True])"
      ]
     },
     "execution_count": 38,
     "metadata": {},
     "output_type": "execute_result"
    }
   ],
   "source": [
    "df_idesp_anosiniciais.columns == df_idesp_ensinomedio.columns"
   ]
  },
  {
   "cell_type": "code",
   "execution_count": 39,
   "metadata": {},
   "outputs": [],
   "source": [
    "df_idesp = df_idesp_anosiniciais.append(df_idesp_anosfinais).append(df_idesp_ensinomedio)"
   ]
  },
  {
   "cell_type": "code",
   "execution_count": 40,
   "metadata": {},
   "outputs": [],
   "source": [
    "df_idesp.loc[:,'CODIGO CIE'] = df_idesp.loc[:,'CODIGO CIE'].astype(int)"
   ]
  },
  {
   "cell_type": "code",
   "execution_count": null,
   "metadata": {},
   "outputs": [],
   "source": []
  },
  {
   "cell_type": "markdown",
   "metadata": {},
   "source": [
    "### Linha vazia encontrada e descartada"
   ]
  },
  {
   "cell_type": "code",
   "execution_count": 13,
   "metadata": {},
   "outputs": [
    {
     "data": {
      "text/plain": [
       "Counter({'ANOS FINAIS': 4052})"
      ]
     },
     "execution_count": 13,
     "metadata": {},
     "output_type": "execute_result"
    }
   ],
   "source": [
    "collections.Counter(df_idesp_anosfinais.loc[:,'NIVEL ENSINO'])"
   ]
  },
  {
   "cell_type": "code",
   "execution_count": 14,
   "metadata": {},
   "outputs": [
    {
     "data": {
      "text/html": [
       "<div>\n",
       "<style scoped>\n",
       "    .dataframe tbody tr th:only-of-type {\n",
       "        vertical-align: middle;\n",
       "    }\n",
       "\n",
       "    .dataframe tbody tr th {\n",
       "        vertical-align: top;\n",
       "    }\n",
       "\n",
       "    .dataframe thead th {\n",
       "        text-align: right;\n",
       "    }\n",
       "</style>\n",
       "<table border=\"1\" class=\"dataframe\">\n",
       "  <thead>\n",
       "    <tr style=\"text-align: right;\">\n",
       "      <th></th>\n",
       "      <th>CODIGO CIE</th>\n",
       "      <th>CODIGO INEP</th>\n",
       "      <th>DIRETORIA</th>\n",
       "      <th>ESCOLA</th>\n",
       "      <th>MUNICIPIO</th>\n",
       "      <th>NIVEL ENSINO</th>\n",
       "      <th>2007</th>\n",
       "      <th>2008</th>\n",
       "      <th>2009</th>\n",
       "      <th>2010</th>\n",
       "      <th>2011</th>\n",
       "      <th>2012</th>\n",
       "      <th>2013</th>\n",
       "      <th>2014</th>\n",
       "      <th>2015</th>\n",
       "      <th>2016</th>\n",
       "      <th>2017</th>\n",
       "      <th>2018</th>\n",
       "    </tr>\n",
       "  </thead>\n",
       "  <tbody>\n",
       "  </tbody>\n",
       "</table>\n",
       "</div>"
      ],
      "text/plain": [
       "Empty DataFrame\n",
       "Columns: [CODIGO CIE, CODIGO INEP, DIRETORIA, ESCOLA, MUNICIPIO, NIVEL ENSINO, 2007, 2008, 2009, 2010, 2011, 2012, 2013, 2014, 2015, 2016, 2017, 2018]\n",
       "Index: []"
      ]
     },
     "execution_count": 14,
     "metadata": {},
     "output_type": "execute_result"
    }
   ],
   "source": [
    "df_idesp_anosfinais[df_idesp_anosfinais.loc[:,'NIVEL ENSINO'].isnull()]"
   ]
  },
  {
   "cell_type": "code",
   "execution_count": null,
   "metadata": {},
   "outputs": [],
   "source": []
  },
  {
   "cell_type": "markdown",
   "metadata": {},
   "source": [
    "# ESCOLHA DO INDICADOR"
   ]
  },
  {
   "cell_type": "code",
   "execution_count": 41,
   "metadata": {},
   "outputs": [],
   "source": [
    "df_idesp = limpeza(df_idesp)"
   ]
  },
  {
   "cell_type": "code",
   "execution_count": 64,
   "metadata": {},
   "outputs": [],
   "source": [
    "idesp = agrupamento_id_gestao(df_idesp)"
   ]
  },
  {
   "cell_type": "code",
   "execution_count": null,
   "metadata": {},
   "outputs": [],
   "source": []
  },
  {
   "cell_type": "code",
   "execution_count": 71,
   "metadata": {},
   "outputs": [
    {
     "data": {
      "text/html": [
       "<div>\n",
       "<style scoped>\n",
       "    .dataframe tbody tr th:only-of-type {\n",
       "        vertical-align: middle;\n",
       "    }\n",
       "\n",
       "    .dataframe tbody tr th {\n",
       "        vertical-align: top;\n",
       "    }\n",
       "\n",
       "    .dataframe thead th {\n",
       "        text-align: right;\n",
       "    }\n",
       "</style>\n",
       "<table border=\"1\" class=\"dataframe\">\n",
       "  <thead>\n",
       "    <tr style=\"text-align: right;\">\n",
       "      <th></th>\n",
       "      <th>id_gestao</th>\n",
       "      <th>id_escola</th>\n",
       "      <th>ano_gestao</th>\n",
       "      <th>nota_ano</th>\n",
       "      <th>variacao</th>\n",
       "      <th>anterior_nulo</th>\n",
       "      <th>atual_nulo</th>\n",
       "    </tr>\n",
       "  </thead>\n",
       "  <tbody>\n",
       "    <tr>\n",
       "      <th>0</th>\n",
       "      <td>esc-10005-ano-2014</td>\n",
       "      <td>10005</td>\n",
       "      <td>2014</td>\n",
       "      <td>3.48</td>\n",
       "      <td>10.828025</td>\n",
       "      <td>0</td>\n",
       "      <td>1</td>\n",
       "    </tr>\n",
       "    <tr>\n",
       "      <th>1</th>\n",
       "      <td>esc-10005-ano-2015</td>\n",
       "      <td>10005</td>\n",
       "      <td>2015</td>\n",
       "      <td>3.78</td>\n",
       "      <td>8.620690</td>\n",
       "      <td>0</td>\n",
       "      <td>1</td>\n",
       "    </tr>\n",
       "    <tr>\n",
       "      <th>2</th>\n",
       "      <td>esc-10005-ano-2016</td>\n",
       "      <td>10005</td>\n",
       "      <td>2016</td>\n",
       "      <td>3.26</td>\n",
       "      <td>-13.756614</td>\n",
       "      <td>0</td>\n",
       "      <td>1</td>\n",
       "    </tr>\n",
       "  </tbody>\n",
       "</table>\n",
       "</div>"
      ],
      "text/plain": [
       "            id_gestao  id_escola  ano_gestao  nota_ano   variacao  \\\n",
       "0  esc-10005-ano-2014      10005        2014      3.48  10.828025   \n",
       "1  esc-10005-ano-2015      10005        2015      3.78   8.620690   \n",
       "2  esc-10005-ano-2016      10005        2016      3.26 -13.756614   \n",
       "\n",
       "   anterior_nulo  atual_nulo  \n",
       "0              0           1  \n",
       "1              0           1  \n",
       "2              0           1  "
      ]
     },
     "execution_count": 71,
     "metadata": {},
     "output_type": "execute_result"
    }
   ],
   "source": [
    "idesp.head(3)"
   ]
  },
  {
   "cell_type": "code",
   "execution_count": null,
   "metadata": {},
   "outputs": [],
   "source": []
  },
  {
   "cell_type": "code",
   "execution_count": null,
   "metadata": {},
   "outputs": [],
   "source": []
  },
  {
   "cell_type": "code",
   "execution_count": null,
   "metadata": {},
   "outputs": [],
   "source": []
  },
  {
   "cell_type": "code",
   "execution_count": 52,
   "metadata": {},
   "outputs": [],
   "source": []
  },
  {
   "cell_type": "code",
   "execution_count": 59,
   "metadata": {},
   "outputs": [],
   "source": [
    "    idesp_group = {}\n",
    "    idesp_group['id_gestao'] = []\n",
    "    idesp_group['id_escola'] = []\n",
    "    idesp_group['ano_gestao'] = []\n",
    "    idesp_group['nota_ano'] = []\n",
    "    idesp_group['variacao'] = []\n",
    "    idesp_group['anterior_nulo'] = []\n",
    "    idesp_group['atual_nulo'] = []\n",
    "\n",
    "    for nome, dados in df_idesp.groupby('id_gestao'):\n",
    "        atual_nulo = atual_enulo(dados)\n",
    "        if atual_nulo == 2:\n",
    "            nota_ano = None\n",
    "            nota_anterior = None\n",
    "            variacao = None\n",
    "        else:\n",
    "            if atual_nulo == 1:\n",
    "                dados = dados[dados.atual_nulo == 0]\n",
    "            nota_ano = dados.nota_ano.mean()\n",
    "            nota_anterior = dados.nota_anterior.mean()\n",
    "            variacao = 100 * (nota_ano - nota_anterior) / nota_anterior\n",
    "        \n",
    "        idesp_group['id_gestao'].append(nome)\n",
    "        idesp_group['id_escola'].append(dados.id_escola.iloc[0])\n",
    "        idesp_group['ano_gestao'].append(int(dados.ano_gestao.iloc[0]))\n",
    "        idesp_group['nota_ano'].append(nota_ano)\n",
    "        idesp_group['variacao'].append(variacao)\n",
    "        idesp_group['anterior_nulo'].append(int(dados.anterior_nulo.sum() > 0))\n",
    "        idesp_group['atual_nulo'].append(atual_nulo)\n",
    "    \n",
    "    idesp_group = pd.DataFrame(data=idesp_group)\n",
    "   \n"
   ]
  },
  {
   "cell_type": "code",
   "execution_count": 60,
   "metadata": {},
   "outputs": [
    {
     "data": {
      "text/html": [
       "<div>\n",
       "<style scoped>\n",
       "    .dataframe tbody tr th:only-of-type {\n",
       "        vertical-align: middle;\n",
       "    }\n",
       "\n",
       "    .dataframe tbody tr th {\n",
       "        vertical-align: top;\n",
       "    }\n",
       "\n",
       "    .dataframe thead th {\n",
       "        text-align: right;\n",
       "    }\n",
       "</style>\n",
       "<table border=\"1\" class=\"dataframe\">\n",
       "  <thead>\n",
       "    <tr style=\"text-align: right;\">\n",
       "      <th></th>\n",
       "      <th>id_gestao</th>\n",
       "      <th>id_escola</th>\n",
       "      <th>ano_gestao</th>\n",
       "      <th>nota_ano</th>\n",
       "      <th>variacao</th>\n",
       "      <th>anterior_nulo</th>\n",
       "      <th>atual_nulo</th>\n",
       "    </tr>\n",
       "  </thead>\n",
       "  <tbody>\n",
       "    <tr>\n",
       "      <th>0</th>\n",
       "      <td>esc-10005-ano-2014</td>\n",
       "      <td>10005</td>\n",
       "      <td>2014</td>\n",
       "      <td>3.48</td>\n",
       "      <td>10.828025</td>\n",
       "      <td>0</td>\n",
       "      <td>1</td>\n",
       "    </tr>\n",
       "    <tr>\n",
       "      <th>1</th>\n",
       "      <td>esc-10005-ano-2015</td>\n",
       "      <td>10005</td>\n",
       "      <td>2015</td>\n",
       "      <td>3.78</td>\n",
       "      <td>8.620690</td>\n",
       "      <td>0</td>\n",
       "      <td>1</td>\n",
       "    </tr>\n",
       "    <tr>\n",
       "      <th>2</th>\n",
       "      <td>esc-10005-ano-2016</td>\n",
       "      <td>10005</td>\n",
       "      <td>2016</td>\n",
       "      <td>3.26</td>\n",
       "      <td>-13.756614</td>\n",
       "      <td>0</td>\n",
       "      <td>1</td>\n",
       "    </tr>\n",
       "  </tbody>\n",
       "</table>\n",
       "</div>"
      ],
      "text/plain": [
       "            id_gestao  id_escola  ano_gestao  nota_ano   variacao  \\\n",
       "0  esc-10005-ano-2014      10005        2014      3.48  10.828025   \n",
       "1  esc-10005-ano-2015      10005        2015      3.78   8.620690   \n",
       "2  esc-10005-ano-2016      10005        2016      3.26 -13.756614   \n",
       "\n",
       "   anterior_nulo  atual_nulo  \n",
       "0              0           1  \n",
       "1              0           1  \n",
       "2              0           1  "
      ]
     },
     "execution_count": 60,
     "metadata": {},
     "output_type": "execute_result"
    }
   ],
   "source": [
    "idesp_group.head(3)"
   ]
  },
  {
   "cell_type": "code",
   "execution_count": 61,
   "metadata": {},
   "outputs": [
    {
     "data": {
      "text/plain": [
       "Counter({0: 24588, 1: 2462})"
      ]
     },
     "execution_count": 61,
     "metadata": {},
     "output_type": "execute_result"
    }
   ],
   "source": [
    "collections.Counter(idesp_group.anterior_nulo)"
   ]
  },
  {
   "cell_type": "code",
   "execution_count": 62,
   "metadata": {},
   "outputs": [
    {
     "data": {
      "text/plain": [
       "Counter({1: 4149, 0: 20962, 2: 1939})"
      ]
     },
     "execution_count": 62,
     "metadata": {},
     "output_type": "execute_result"
    }
   ],
   "source": [
    "collections.Counter(idesp_group.atual_nulo)"
   ]
  },
  {
   "cell_type": "code",
   "execution_count": 58,
   "metadata": {},
   "outputs": [
    {
     "data": {
      "text/plain": [
       "0.07168207024029574"
      ]
     },
     "execution_count": 58,
     "metadata": {},
     "output_type": "execute_result"
    }
   ],
   "source": [
    "1939/(20962+4149+1939)"
   ]
  },
  {
   "cell_type": "code",
   "execution_count": 50,
   "metadata": {},
   "outputs": [
    {
     "data": {
      "text/plain": [
       "1693"
      ]
     },
     "execution_count": 50,
     "metadata": {},
     "output_type": "execute_result"
    }
   ],
   "source": [
    "idesp_group.variacao.isnull().sum()"
   ]
  },
  {
   "cell_type": "code",
   "execution_count": null,
   "metadata": {},
   "outputs": [],
   "source": []
  },
  {
   "cell_type": "code",
   "execution_count": null,
   "metadata": {},
   "outputs": [],
   "source": []
  },
  {
   "cell_type": "code",
   "execution_count": null,
   "metadata": {},
   "outputs": [],
   "source": []
  },
  {
   "cell_type": "code",
   "execution_count": null,
   "metadata": {},
   "outputs": [],
   "source": []
  },
  {
   "cell_type": "code",
   "execution_count": null,
   "metadata": {},
   "outputs": [],
   "source": []
  },
  {
   "cell_type": "code",
   "execution_count": null,
   "metadata": {},
   "outputs": [],
   "source": []
  },
  {
   "cell_type": "code",
   "execution_count": null,
   "metadata": {},
   "outputs": [],
   "source": []
  },
  {
   "cell_type": "code",
   "execution_count": 25,
   "metadata": {},
   "outputs": [
    {
     "data": {
      "text/plain": [
       "0.02973017305011072"
      ]
     },
     "execution_count": 25,
     "metadata": {},
     "output_type": "execute_result"
    }
   ],
   "source": [
    "725/24386  # DESTA ANALISE, HOUVERAM APENAS 3% DE VEZES EM QUE A PROVA ANTERIOR NAO FOI APLICADA"
   ]
  },
  {
   "cell_type": "code",
   "execution_count": null,
   "metadata": {},
   "outputs": [],
   "source": []
  },
  {
   "cell_type": "code",
   "execution_count": null,
   "metadata": {},
   "outputs": [],
   "source": []
  },
  {
   "cell_type": "code",
   "execution_count": 1,
   "metadata": {},
   "outputs": [],
   "source": [
    "import etl_idesp"
   ]
  },
  {
   "cell_type": "code",
   "execution_count": 2,
   "metadata": {},
   "outputs": [],
   "source": [
    "idesp = etl_idesp.etl()"
   ]
  },
  {
   "cell_type": "code",
   "execution_count": null,
   "metadata": {},
   "outputs": [],
   "source": []
  },
  {
   "cell_type": "code",
   "execution_count": null,
   "metadata": {},
   "outputs": [],
   "source": []
  },
  {
   "cell_type": "code",
   "execution_count": null,
   "metadata": {},
   "outputs": [],
   "source": []
  },
  {
   "cell_type": "code",
   "execution_count": null,
   "metadata": {},
   "outputs": [],
   "source": []
  },
  {
   "cell_type": "code",
   "execution_count": null,
   "metadata": {},
   "outputs": [],
   "source": []
  },
  {
   "cell_type": "code",
   "execution_count": null,
   "metadata": {},
   "outputs": [],
   "source": []
  },
  {
   "cell_type": "code",
   "execution_count": null,
   "metadata": {},
   "outputs": [],
   "source": []
  },
  {
   "cell_type": "code",
   "execution_count": null,
   "metadata": {},
   "outputs": [],
   "source": []
  },
  {
   "cell_type": "code",
   "execution_count": null,
   "metadata": {},
   "outputs": [],
   "source": []
  }
 ],
 "metadata": {
  "kernelspec": {
   "display_name": "Python 3",
   "language": "python",
   "name": "python3"
  },
  "language_info": {
   "codemirror_mode": {
    "name": "ipython",
    "version": 3
   },
   "file_extension": ".py",
   "mimetype": "text/x-python",
   "name": "python",
   "nbconvert_exporter": "python",
   "pygments_lexer": "ipython3",
   "version": "3.7.3"
  }
 },
 "nbformat": 4,
 "nbformat_minor": 2
}
