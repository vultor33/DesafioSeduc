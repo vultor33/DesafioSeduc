{
 "cells": [
  {
   "cell_type": "code",
   "execution_count": 1,
   "metadata": {},
   "outputs": [],
   "source": [
    "import pandas as pd\n",
    "import collections\n",
    "import etl_idesp"
   ]
  },
  {
   "cell_type": "code",
   "execution_count": 2,
   "metadata": {},
   "outputs": [],
   "source": [
    "df_idesp = etl_idesp.etl()"
   ]
  },
  {
   "cell_type": "code",
   "execution_count": null,
   "metadata": {},
   "outputs": [],
   "source": []
  },
  {
   "cell_type": "code",
   "execution_count": 3,
   "metadata": {},
   "outputs": [
    {
     "data": {
      "text/html": [
       "<div>\n",
       "<style scoped>\n",
       "    .dataframe tbody tr th:only-of-type {\n",
       "        vertical-align: middle;\n",
       "    }\n",
       "\n",
       "    .dataframe tbody tr th {\n",
       "        vertical-align: top;\n",
       "    }\n",
       "\n",
       "    .dataframe thead th {\n",
       "        text-align: right;\n",
       "    }\n",
       "</style>\n",
       "<table border=\"1\" class=\"dataframe\">\n",
       "  <thead>\n",
       "    <tr style=\"text-align: right;\">\n",
       "      <th></th>\n",
       "      <th>id_gestao</th>\n",
       "      <th>id_escola</th>\n",
       "      <th>ano_gestao</th>\n",
       "      <th>nota_ano</th>\n",
       "      <th>variacao</th>\n",
       "    </tr>\n",
       "  </thead>\n",
       "  <tbody>\n",
       "    <tr>\n",
       "      <th>0</th>\n",
       "      <td>esc-10005-ano-2014</td>\n",
       "      <td>10005</td>\n",
       "      <td>2014</td>\n",
       "      <td>3.48</td>\n",
       "      <td>10</td>\n",
       "    </tr>\n",
       "    <tr>\n",
       "      <th>1</th>\n",
       "      <td>esc-10005-ano-2015</td>\n",
       "      <td>10005</td>\n",
       "      <td>2015</td>\n",
       "      <td>3.78</td>\n",
       "      <td>8</td>\n",
       "    </tr>\n",
       "    <tr>\n",
       "      <th>2</th>\n",
       "      <td>esc-10005-ano-2016</td>\n",
       "      <td>10005</td>\n",
       "      <td>2016</td>\n",
       "      <td>3.26</td>\n",
       "      <td>-13</td>\n",
       "    </tr>\n",
       "  </tbody>\n",
       "</table>\n",
       "</div>"
      ],
      "text/plain": [
       "            id_gestao id_escola  ano_gestao  nota_ano  variacao\n",
       "0  esc-10005-ano-2014     10005        2014      3.48        10\n",
       "1  esc-10005-ano-2015     10005        2015      3.78         8\n",
       "2  esc-10005-ano-2016     10005        2016      3.26       -13"
      ]
     },
     "execution_count": 3,
     "metadata": {},
     "output_type": "execute_result"
    }
   ],
   "source": [
    "df_idesp.head(3)"
   ]
  },
  {
   "cell_type": "code",
   "execution_count": 4,
   "metadata": {},
   "outputs": [
    {
     "data": {
      "text/plain": [
       "5457"
      ]
     },
     "execution_count": 4,
     "metadata": {},
     "output_type": "execute_result"
    }
   ],
   "source": [
    "len(set(df_idesp.id_escola))"
   ]
  },
  {
   "cell_type": "code",
   "execution_count": 5,
   "metadata": {},
   "outputs": [],
   "source": [
    "esc = {}\n",
    "esc['id_escola'] = []\n",
    "esc['nota'] = []\n",
    "for nome, dados in df_idesp.groupby('id_escola'):\n",
    "    esc['id_escola'].append(nome)\n",
    "    esc['nota'].append(dados.nota_ano.mean())\n",
    "esc = pd.DataFrame(esc)"
   ]
  },
  {
   "cell_type": "code",
   "execution_count": null,
   "metadata": {},
   "outputs": [],
   "source": []
  },
  {
   "cell_type": "code",
   "execution_count": null,
   "metadata": {},
   "outputs": [],
   "source": []
  },
  {
   "cell_type": "code",
   "execution_count": null,
   "metadata": {},
   "outputs": [],
   "source": []
  },
  {
   "cell_type": "markdown",
   "metadata": {},
   "source": [
    "# CLUSTER\n",
    "- CD_CLUSTERS e o id\n",
    "- CD_DIRETORIA ha 91 diretorias\n",
    "- Numero do cluster: 9\n",
    "- NR_CICLO: 3\n",
    "- CD_GRUPO_CLUSTER"
   ]
  },
  {
   "cell_type": "code",
   "execution_count": 6,
   "metadata": {},
   "outputs": [],
   "source": [
    "arquivo = 'D:\\\\DESAFIO_SEDUC\\\\dados\\\\cluster_de_escolas_similares\\\\12_MMR_Clusters.csv'\n",
    "cluster = pd.read_csv(arquivo, sep=';')\n",
    "cluster.CD_ESCOLA = cluster.CD_ESCOLA.astype(int)\n",
    "cluster = cluster.rename({'CD_ESCOLA': 'id_escola'}, axis=1)"
   ]
  },
  {
   "cell_type": "code",
   "execution_count": 7,
   "metadata": {},
   "outputs": [],
   "source": [
    "clu = {}\n",
    "clu['id_escola'] = []\n",
    "clu['nr_cluster'] = []\n",
    "for nome, dados in cluster.groupby('id_escola'):\n",
    "    clu['id_escola'].append(nome)\n",
    "    clu['nr_cluster'].append(dados.NR_CLUSTER.max())  \n"
   ]
  },
  {
   "cell_type": "code",
   "execution_count": 8,
   "metadata": {},
   "outputs": [],
   "source": [
    "clu = pd.DataFrame(clu)"
   ]
  },
  {
   "cell_type": "code",
   "execution_count": 9,
   "metadata": {},
   "outputs": [],
   "source": [
    "esc_cl = pd.merge(esc, clu, on='id_escola',how='left')"
   ]
  },
  {
   "cell_type": "code",
   "execution_count": 10,
   "metadata": {},
   "outputs": [
    {
     "data": {
      "text/html": [
       "<div>\n",
       "<style scoped>\n",
       "    .dataframe tbody tr th:only-of-type {\n",
       "        vertical-align: middle;\n",
       "    }\n",
       "\n",
       "    .dataframe tbody tr th {\n",
       "        vertical-align: top;\n",
       "    }\n",
       "\n",
       "    .dataframe thead th {\n",
       "        text-align: right;\n",
       "    }\n",
       "</style>\n",
       "<table border=\"1\" class=\"dataframe\">\n",
       "  <thead>\n",
       "    <tr style=\"text-align: right;\">\n",
       "      <th></th>\n",
       "      <th>nota</th>\n",
       "      <th>nr_cluster</th>\n",
       "    </tr>\n",
       "  </thead>\n",
       "  <tbody>\n",
       "    <tr>\n",
       "      <th>nota</th>\n",
       "      <td>1.000000</td>\n",
       "      <td>-0.220918</td>\n",
       "    </tr>\n",
       "    <tr>\n",
       "      <th>nr_cluster</th>\n",
       "      <td>-0.220918</td>\n",
       "      <td>1.000000</td>\n",
       "    </tr>\n",
       "  </tbody>\n",
       "</table>\n",
       "</div>"
      ],
      "text/plain": [
       "                nota  nr_cluster\n",
       "nota        1.000000   -0.220918\n",
       "nr_cluster -0.220918    1.000000"
      ]
     },
     "execution_count": 10,
     "metadata": {},
     "output_type": "execute_result"
    }
   ],
   "source": [
    "esc_cl.loc[:,['nota','nr_cluster']].corr()"
   ]
  },
  {
   "cell_type": "code",
   "execution_count": 11,
   "metadata": {},
   "outputs": [
    {
     "data": {
      "text/plain": [
       "count    2134.000000\n",
       "mean        4.126054\n",
       "std         2.022273\n",
       "min         1.000000\n",
       "25%         2.000000\n",
       "50%         4.000000\n",
       "75%         6.000000\n",
       "max         9.000000\n",
       "Name: nr_cluster, dtype: float64"
      ]
     },
     "execution_count": 11,
     "metadata": {},
     "output_type": "execute_result"
    }
   ],
   "source": [
    "esc_cl.nr_cluster.describe()"
   ]
  },
  {
   "cell_type": "code",
   "execution_count": 30,
   "metadata": {},
   "outputs": [
    {
     "data": {
      "text/plain": [
       "4.40099133369823"
      ]
     },
     "execution_count": 30,
     "metadata": {},
     "output_type": "execute_result"
    }
   ],
   "source": [
    "esc_cl[esc_cl.nr_cluster.isin([1,2,3,4])].nota.mean()"
   ]
  },
  {
   "cell_type": "code",
   "execution_count": 39,
   "metadata": {},
   "outputs": [
    {
     "data": {
      "text/plain": [
       "1218"
      ]
     },
     "execution_count": 39,
     "metadata": {},
     "output_type": "execute_result"
    }
   ],
   "source": [
    "esc_cl[esc_cl.nr_cluster.isin([1,2,3,4])].nota.count()"
   ]
  },
  {
   "cell_type": "code",
   "execution_count": 31,
   "metadata": {},
   "outputs": [
    {
     "data": {
      "text/plain": [
       "4.121484203296703"
      ]
     },
     "execution_count": 31,
     "metadata": {},
     "output_type": "execute_result"
    }
   ],
   "source": [
    "esc_cl[esc_cl.nr_cluster.isin([5,9])].nota.mean()"
   ]
  },
  {
   "cell_type": "code",
   "execution_count": 40,
   "metadata": {},
   "outputs": [
    {
     "data": {
      "text/plain": [
       "364"
      ]
     },
     "execution_count": 40,
     "metadata": {},
     "output_type": "execute_result"
    }
   ],
   "source": [
    "esc_cl[esc_cl.nr_cluster.isin([5,9])].nota.count()"
   ]
  },
  {
   "cell_type": "code",
   "execution_count": 32,
   "metadata": {},
   "outputs": [
    {
     "data": {
      "text/plain": [
       "3.5821358192431565"
      ]
     },
     "execution_count": 32,
     "metadata": {},
     "output_type": "execute_result"
    }
   ],
   "source": [
    "esc_cl[esc_cl.nr_cluster.isin([6,7,8])].nota.mean()"
   ]
  },
  {
   "cell_type": "code",
   "execution_count": 41,
   "metadata": {
    "scrolled": true
   },
   "outputs": [
    {
     "data": {
      "text/plain": [
       "552"
      ]
     },
     "execution_count": 41,
     "metadata": {},
     "output_type": "execute_result"
    }
   ],
   "source": [
    "esc_cl[esc_cl.nr_cluster.isin([6,7,8])].nota.count()"
   ]
  },
  {
   "cell_type": "code",
   "execution_count": 33,
   "metadata": {},
   "outputs": [
    {
     "data": {
      "text/plain": [
       "2.776062744507975"
      ]
     },
     "execution_count": 33,
     "metadata": {},
     "output_type": "execute_result"
    }
   ],
   "source": [
    "esc_cl[esc_cl.nr_cluster == 0].nota.mean()"
   ]
  },
  {
   "cell_type": "code",
   "execution_count": 38,
   "metadata": {},
   "outputs": [
    {
     "data": {
      "text/plain": [
       "id_escola     3323\n",
       "nota          3323\n",
       "nr_cluster    3323\n",
       "dtype: int64"
      ]
     },
     "execution_count": 38,
     "metadata": {},
     "output_type": "execute_result"
    }
   ],
   "source": [
    "esc_cl[esc_cl.nr_cluster == 0].count()"
   ]
  },
  {
   "cell_type": "code",
   "execution_count": null,
   "metadata": {},
   "outputs": [],
   "source": []
  },
  {
   "cell_type": "code",
   "execution_count": null,
   "metadata": {},
   "outputs": [],
   "source": []
  },
  {
   "cell_type": "code",
   "execution_count": null,
   "metadata": {},
   "outputs": [],
   "source": []
  },
  {
   "cell_type": "markdown",
   "metadata": {},
   "source": [
    "# NUMERO DE CLASSES"
   ]
  },
  {
   "cell_type": "code",
   "execution_count": 30,
   "metadata": {},
   "outputs": [],
   "source": [
    "arquivo = 'dados\\matriculas\\/10_Escolas_Classes_Qtde_Alunos.csv'\n",
    "classes = pd.read_csv(arquivo, sep=';')"
   ]
  },
  {
   "cell_type": "code",
   "execution_count": 32,
   "metadata": {},
   "outputs": [],
   "source": [
    "classes.COD_ESC = classes.COD_ESC.astype(int)"
   ]
  },
  {
   "cell_type": "code",
   "execution_count": 34,
   "metadata": {},
   "outputs": [],
   "source": [
    "classes = classes.rename({'COD_ESC': 'id_escola'}, axis=1)"
   ]
  },
  {
   "cell_type": "code",
   "execution_count": null,
   "metadata": {},
   "outputs": [],
   "source": [
    "result = pd.merge(esc_cl, )"
   ]
  },
  {
   "cell_type": "code",
   "execution_count": 36,
   "metadata": {},
   "outputs": [
    {
     "data": {
      "text/html": [
       "<div>\n",
       "<style scoped>\n",
       "    .dataframe tbody tr th:only-of-type {\n",
       "        vertical-align: middle;\n",
       "    }\n",
       "\n",
       "    .dataframe tbody tr th {\n",
       "        vertical-align: top;\n",
       "    }\n",
       "\n",
       "    .dataframe thead th {\n",
       "        text-align: right;\n",
       "    }\n",
       "</style>\n",
       "<table border=\"1\" class=\"dataframe\">\n",
       "  <thead>\n",
       "    <tr style=\"text-align: right;\">\n",
       "      <th></th>\n",
       "      <th>ANO</th>\n",
       "      <th>NOMEDEP</th>\n",
       "      <th>DE</th>\n",
       "      <th>MUN</th>\n",
       "      <th>DISTR</th>\n",
       "      <th>id_escola</th>\n",
       "      <th>NOMESC</th>\n",
       "      <th>TIPOESC</th>\n",
       "      <th>TIPOESC_DESC</th>\n",
       "      <th>SITUACAO</th>\n",
       "      <th>CLASSE</th>\n",
       "      <th>TIPOCLASSE</th>\n",
       "      <th>TIPOCLASSE_DESC</th>\n",
       "      <th>GRAU</th>\n",
       "      <th>TipoEnsino</th>\n",
       "      <th>SERIE</th>\n",
       "      <th>QTDE_ALUNOS</th>\n",
       "      <th>CODVINC</th>\n",
       "    </tr>\n",
       "  </thead>\n",
       "  <tbody>\n",
       "    <tr>\n",
       "      <th>0</th>\n",
       "      <td>2014</td>\n",
       "      <td>ESTADUAL - SE</td>\n",
       "      <td>ADAMANTINA</td>\n",
       "      <td>ADAMANTINA</td>\n",
       "      <td>ADAMANTINA</td>\n",
       "      <td>30806</td>\n",
       "      <td>HELEN KELLER</td>\n",
       "      <td>8</td>\n",
       "      <td>EE</td>\n",
       "      <td>Ativa</td>\n",
       "      <td>182570713</td>\n",
       "      <td>0</td>\n",
       "      <td>CLASSE COMUM</td>\n",
       "      <td>1</td>\n",
       "      <td>ENSINO FUNDAMENTAL DE 8 ANOS</td>\n",
       "      <td>8</td>\n",
       "      <td>21</td>\n",
       "      <td>NaN</td>\n",
       "    </tr>\n",
       "    <tr>\n",
       "      <th>1</th>\n",
       "      <td>2014</td>\n",
       "      <td>ESTADUAL - SE</td>\n",
       "      <td>ADAMANTINA</td>\n",
       "      <td>ADAMANTINA</td>\n",
       "      <td>ADAMANTINA</td>\n",
       "      <td>30806</td>\n",
       "      <td>HELEN KELLER</td>\n",
       "      <td>8</td>\n",
       "      <td>EE</td>\n",
       "      <td>Ativa</td>\n",
       "      <td>182570762</td>\n",
       "      <td>0</td>\n",
       "      <td>CLASSE COMUM</td>\n",
       "      <td>2</td>\n",
       "      <td>ENSINO MEDIO</td>\n",
       "      <td>2</td>\n",
       "      <td>37</td>\n",
       "      <td>NaN</td>\n",
       "    </tr>\n",
       "    <tr>\n",
       "      <th>2</th>\n",
       "      <td>2014</td>\n",
       "      <td>ESTADUAL - SE</td>\n",
       "      <td>ADAMANTINA</td>\n",
       "      <td>ADAMANTINA</td>\n",
       "      <td>ADAMANTINA</td>\n",
       "      <td>30806</td>\n",
       "      <td>HELEN KELLER</td>\n",
       "      <td>8</td>\n",
       "      <td>EE</td>\n",
       "      <td>Ativa</td>\n",
       "      <td>186061859</td>\n",
       "      <td>1</td>\n",
       "      <td>CLASSE MULTISSERIADA</td>\n",
       "      <td>5</td>\n",
       "      <td>EJA ENSINO MÉDIO</td>\n",
       "      <td>10</td>\n",
       "      <td>25</td>\n",
       "      <td>NaN</td>\n",
       "    </tr>\n",
       "    <tr>\n",
       "      <th>3</th>\n",
       "      <td>2014</td>\n",
       "      <td>ESTADUAL - SE</td>\n",
       "      <td>ADAMANTINA</td>\n",
       "      <td>ADAMANTINA</td>\n",
       "      <td>ADAMANTINA</td>\n",
       "      <td>31045</td>\n",
       "      <td>DURVALINO GRION PROF</td>\n",
       "      <td>8</td>\n",
       "      <td>EE</td>\n",
       "      <td>Ativa</td>\n",
       "      <td>182570440</td>\n",
       "      <td>0</td>\n",
       "      <td>CLASSE COMUM</td>\n",
       "      <td>2</td>\n",
       "      <td>ENSINO MEDIO</td>\n",
       "      <td>2</td>\n",
       "      <td>26</td>\n",
       "      <td>NaN</td>\n",
       "    </tr>\n",
       "    <tr>\n",
       "      <th>4</th>\n",
       "      <td>2014</td>\n",
       "      <td>ESTADUAL - SE</td>\n",
       "      <td>ADAMANTINA</td>\n",
       "      <td>ADAMANTINA</td>\n",
       "      <td>ADAMANTINA</td>\n",
       "      <td>31045</td>\n",
       "      <td>DURVALINO GRION PROF</td>\n",
       "      <td>8</td>\n",
       "      <td>EE</td>\n",
       "      <td>Ativa</td>\n",
       "      <td>182570465</td>\n",
       "      <td>0</td>\n",
       "      <td>CLASSE COMUM</td>\n",
       "      <td>2</td>\n",
       "      <td>ENSINO MEDIO</td>\n",
       "      <td>3</td>\n",
       "      <td>33</td>\n",
       "      <td>NaN</td>\n",
       "    </tr>\n",
       "    <tr>\n",
       "      <th>5</th>\n",
       "      <td>2014</td>\n",
       "      <td>ESTADUAL - SE</td>\n",
       "      <td>ADAMANTINA</td>\n",
       "      <td>ADAMANTINA</td>\n",
       "      <td>ADAMANTINA</td>\n",
       "      <td>31045</td>\n",
       "      <td>DURVALINO GRION PROF</td>\n",
       "      <td>8</td>\n",
       "      <td>EE</td>\n",
       "      <td>Ativa</td>\n",
       "      <td>182570523</td>\n",
       "      <td>0</td>\n",
       "      <td>CLASSE COMUM</td>\n",
       "      <td>14</td>\n",
       "      <td>ENSINO FUNDAMENTAL DE 9 ANOS</td>\n",
       "      <td>7</td>\n",
       "      <td>30</td>\n",
       "      <td>NaN</td>\n",
       "    </tr>\n",
       "    <tr>\n",
       "      <th>6</th>\n",
       "      <td>2014</td>\n",
       "      <td>ESTADUAL - SE</td>\n",
       "      <td>ADAMANTINA</td>\n",
       "      <td>ADAMANTINA</td>\n",
       "      <td>ADAMANTINA</td>\n",
       "      <td>31112</td>\n",
       "      <td>FLEURIDES CAVALLINI MENECHINO PROFA</td>\n",
       "      <td>8</td>\n",
       "      <td>EE</td>\n",
       "      <td>Ativa</td>\n",
       "      <td>182570127</td>\n",
       "      <td>0</td>\n",
       "      <td>CLASSE COMUM</td>\n",
       "      <td>1</td>\n",
       "      <td>ENSINO FUNDAMENTAL DE 8 ANOS</td>\n",
       "      <td>7</td>\n",
       "      <td>28</td>\n",
       "      <td>NaN</td>\n",
       "    </tr>\n",
       "    <tr>\n",
       "      <th>7</th>\n",
       "      <td>2014</td>\n",
       "      <td>ESTADUAL - SE</td>\n",
       "      <td>ADAMANTINA</td>\n",
       "      <td>ADAMANTINA</td>\n",
       "      <td>ADAMANTINA</td>\n",
       "      <td>31112</td>\n",
       "      <td>FLEURIDES CAVALLINI MENECHINO PROFA</td>\n",
       "      <td>8</td>\n",
       "      <td>EE</td>\n",
       "      <td>Ativa</td>\n",
       "      <td>182570184</td>\n",
       "      <td>0</td>\n",
       "      <td>CLASSE COMUM</td>\n",
       "      <td>1</td>\n",
       "      <td>ENSINO FUNDAMENTAL DE 8 ANOS</td>\n",
       "      <td>8</td>\n",
       "      <td>35</td>\n",
       "      <td>NaN</td>\n",
       "    </tr>\n",
       "    <tr>\n",
       "      <th>8</th>\n",
       "      <td>2014</td>\n",
       "      <td>ESTADUAL - SE</td>\n",
       "      <td>ADAMANTINA</td>\n",
       "      <td>ADAMANTINA</td>\n",
       "      <td>ADAMANTINA</td>\n",
       "      <td>31112</td>\n",
       "      <td>FLEURIDES CAVALLINI MENECHINO PROFA</td>\n",
       "      <td>8</td>\n",
       "      <td>EE</td>\n",
       "      <td>Ativa</td>\n",
       "      <td>182570192</td>\n",
       "      <td>0</td>\n",
       "      <td>CLASSE COMUM</td>\n",
       "      <td>2</td>\n",
       "      <td>ENSINO MEDIO</td>\n",
       "      <td>1</td>\n",
       "      <td>35</td>\n",
       "      <td>NaN</td>\n",
       "    </tr>\n",
       "    <tr>\n",
       "      <th>9</th>\n",
       "      <td>2014</td>\n",
       "      <td>ESTADUAL - SE</td>\n",
       "      <td>ADAMANTINA</td>\n",
       "      <td>ADAMANTINA</td>\n",
       "      <td>ADAMANTINA</td>\n",
       "      <td>31112</td>\n",
       "      <td>FLEURIDES CAVALLINI MENECHINO PROFA</td>\n",
       "      <td>8</td>\n",
       "      <td>EE</td>\n",
       "      <td>Ativa</td>\n",
       "      <td>182570218</td>\n",
       "      <td>0</td>\n",
       "      <td>CLASSE COMUM</td>\n",
       "      <td>2</td>\n",
       "      <td>ENSINO MEDIO</td>\n",
       "      <td>1</td>\n",
       "      <td>32</td>\n",
       "      <td>NaN</td>\n",
       "    </tr>\n",
       "  </tbody>\n",
       "</table>\n",
       "</div>"
      ],
      "text/plain": [
       "    ANO        NOMEDEP          DE         MUN       DISTR  id_escola  \\\n",
       "0  2014  ESTADUAL - SE  ADAMANTINA  ADAMANTINA  ADAMANTINA      30806   \n",
       "1  2014  ESTADUAL - SE  ADAMANTINA  ADAMANTINA  ADAMANTINA      30806   \n",
       "2  2014  ESTADUAL - SE  ADAMANTINA  ADAMANTINA  ADAMANTINA      30806   \n",
       "3  2014  ESTADUAL - SE  ADAMANTINA  ADAMANTINA  ADAMANTINA      31045   \n",
       "4  2014  ESTADUAL - SE  ADAMANTINA  ADAMANTINA  ADAMANTINA      31045   \n",
       "5  2014  ESTADUAL - SE  ADAMANTINA  ADAMANTINA  ADAMANTINA      31045   \n",
       "6  2014  ESTADUAL - SE  ADAMANTINA  ADAMANTINA  ADAMANTINA      31112   \n",
       "7  2014  ESTADUAL - SE  ADAMANTINA  ADAMANTINA  ADAMANTINA      31112   \n",
       "8  2014  ESTADUAL - SE  ADAMANTINA  ADAMANTINA  ADAMANTINA      31112   \n",
       "9  2014  ESTADUAL - SE  ADAMANTINA  ADAMANTINA  ADAMANTINA      31112   \n",
       "\n",
       "                                NOMESC  TIPOESC TIPOESC_DESC SITUACAO  \\\n",
       "0                         HELEN KELLER        8           EE    Ativa   \n",
       "1                         HELEN KELLER        8           EE    Ativa   \n",
       "2                         HELEN KELLER        8           EE    Ativa   \n",
       "3                 DURVALINO GRION PROF        8           EE    Ativa   \n",
       "4                 DURVALINO GRION PROF        8           EE    Ativa   \n",
       "5                 DURVALINO GRION PROF        8           EE    Ativa   \n",
       "6  FLEURIDES CAVALLINI MENECHINO PROFA        8           EE    Ativa   \n",
       "7  FLEURIDES CAVALLINI MENECHINO PROFA        8           EE    Ativa   \n",
       "8  FLEURIDES CAVALLINI MENECHINO PROFA        8           EE    Ativa   \n",
       "9  FLEURIDES CAVALLINI MENECHINO PROFA        8           EE    Ativa   \n",
       "\n",
       "      CLASSE  TIPOCLASSE       TIPOCLASSE_DESC  GRAU  \\\n",
       "0  182570713           0          CLASSE COMUM     1   \n",
       "1  182570762           0          CLASSE COMUM     2   \n",
       "2  186061859           1  CLASSE MULTISSERIADA     5   \n",
       "3  182570440           0          CLASSE COMUM     2   \n",
       "4  182570465           0          CLASSE COMUM     2   \n",
       "5  182570523           0          CLASSE COMUM    14   \n",
       "6  182570127           0          CLASSE COMUM     1   \n",
       "7  182570184           0          CLASSE COMUM     1   \n",
       "8  182570192           0          CLASSE COMUM     2   \n",
       "9  182570218           0          CLASSE COMUM     2   \n",
       "\n",
       "                     TipoEnsino  SERIE  QTDE_ALUNOS  CODVINC  \n",
       "0  ENSINO FUNDAMENTAL DE 8 ANOS      8           21      NaN  \n",
       "1                  ENSINO MEDIO      2           37      NaN  \n",
       "2              EJA ENSINO MÉDIO     10           25      NaN  \n",
       "3                  ENSINO MEDIO      2           26      NaN  \n",
       "4                  ENSINO MEDIO      3           33      NaN  \n",
       "5  ENSINO FUNDAMENTAL DE 9 ANOS      7           30      NaN  \n",
       "6  ENSINO FUNDAMENTAL DE 8 ANOS      7           28      NaN  \n",
       "7  ENSINO FUNDAMENTAL DE 8 ANOS      8           35      NaN  \n",
       "8                  ENSINO MEDIO      1           35      NaN  \n",
       "9                  ENSINO MEDIO      1           32      NaN  "
      ]
     },
     "execution_count": 36,
     "metadata": {},
     "output_type": "execute_result"
    }
   ],
   "source": [
    "classes.head(10)"
   ]
  },
  {
   "cell_type": "code",
   "execution_count": null,
   "metadata": {},
   "outputs": [],
   "source": []
  },
  {
   "cell_type": "code",
   "execution_count": null,
   "metadata": {},
   "outputs": [],
   "source": []
  },
  {
   "cell_type": "code",
   "execution_count": null,
   "metadata": {},
   "outputs": [],
   "source": []
  },
  {
   "cell_type": "code",
   "execution_count": null,
   "metadata": {},
   "outputs": [],
   "source": []
  },
  {
   "cell_type": "code",
   "execution_count": null,
   "metadata": {},
   "outputs": [],
   "source": []
  },
  {
   "cell_type": "code",
   "execution_count": null,
   "metadata": {},
   "outputs": [],
   "source": []
  }
 ],
 "metadata": {
  "kernelspec": {
   "display_name": "Python 3",
   "language": "python",
   "name": "python3"
  },
  "language_info": {
   "codemirror_mode": {
    "name": "ipython",
    "version": 3
   },
   "file_extension": ".py",
   "mimetype": "text/x-python",
   "name": "python",
   "nbconvert_exporter": "python",
   "pygments_lexer": "ipython3",
   "version": "3.7.3"
  }
 },
 "nbformat": 4,
 "nbformat_minor": 2
}
