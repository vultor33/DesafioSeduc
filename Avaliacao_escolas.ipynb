{
 "cells": [
  {
   "cell_type": "code",
   "execution_count": 1,
   "metadata": {},
   "outputs": [],
   "source": [
    "import pandas as pd\n",
    "import collections\n",
    "import etl_idesp\n",
    "pd.set_option('display.max_columns', None)"
   ]
  },
  {
   "cell_type": "code",
   "execution_count": 2,
   "metadata": {},
   "outputs": [],
   "source": [
    "def aponta_diferencas(lista_escolas):\n",
    "    n_escolas = len(ESCOLAS_FATO)\n",
    "    exemplos_diferentes = set(ESCOLAS_FATO)\n",
    "    print('Escolas da tabela fato: ', n_escolas)\n",
    "    for item in lista_escolas:\n",
    "        diferencas_fato = ESCOLAS_FATO.difference(item[1])\n",
    "        exemplos_diferentes = exemplos_diferentes.intersection(diferencas_fato)\n",
    "        print('Base: ', item[0], \n",
    "              ' escolas: ', len(item[1]), \n",
    "              ' faltam do fato: ', len(diferencas_fato)/n_escolas)\n",
    "\n",
    "    print('Nao encontrado em nenhuma outra base: ', len(exemplos_diferentes))\n",
    "    if len(exemplos_diferentes) > 5:\n",
    "        exemplos_diferentes = list(exemplos_diferentes)[0:5]\n",
    "    else:\n",
    "        exemplos_diferentes = list(exemplos_diferentes)[0:len(diferencas_fato)]\n",
    "    print('Exemplos nao encontrados: ', exemplos_diferentes)\n"
   ]
  },
  {
   "cell_type": "markdown",
   "metadata": {},
   "source": [
    "# OBJETIVO\n",
    "- Apontar os joins que nao puderam ser feitos na tabela fato.\n",
    "- Listar as caracteristicas que definem a escola e que podem ser relevantes para os estudos."
   ]
  },
  {
   "cell_type": "code",
   "execution_count": null,
   "metadata": {},
   "outputs": [],
   "source": [
    "df_idesp = etl_idesp.etl()\n",
    "df_idesp.id_escola = df_idesp.id_escola.astype(int)"
   ]
  },
  {
   "cell_type": "code",
   "execution_count": null,
   "metadata": {},
   "outputs": [],
   "source": [
    "df_idesp.head(3)"
   ]
  },
  {
   "cell_type": "code",
   "execution_count": null,
   "metadata": {},
   "outputs": [],
   "source": [
    "ESCOLAS_FATO = set(df_idesp.id_escola)"
   ]
  },
  {
   "cell_type": "code",
   "execution_count": null,
   "metadata": {},
   "outputs": [],
   "source": []
  },
  {
   "cell_type": "code",
   "execution_count": null,
   "metadata": {},
   "outputs": [],
   "source": []
  },
  {
   "cell_type": "code",
   "execution_count": null,
   "metadata": {},
   "outputs": [],
   "source": []
  },
  {
   "cell_type": "markdown",
   "metadata": {},
   "source": [
    "# Dimensao escola (associada a uma dada gestao)\n",
    "- Escola fisica.\n",
    "- Classes.\n",
    "- Idesp: Nome diretoria.\n",
    "- Endereco.\n",
    "- Dependencias fisicas"
   ]
  },
  {
   "cell_type": "code",
   "execution_count": 6,
   "metadata": {},
   "outputs": [],
   "source": [
    "arquivo = 'D:\\\\DESAFIO_SEDUC\\\\dados-VERSAO_1\\\\instalacao_fisicas\\\\06_Escolas_Dependencias.csv'\n",
    "dep = pd.read_csv(arquivo, sep=';')"
   ]
  },
  {
   "cell_type": "code",
   "execution_count": 7,
   "metadata": {},
   "outputs": [],
   "source": [
    "dep.CODESC = dep.CODESC.astype(int)\n",
    "escolas_dep = set(dep.CODESC)"
   ]
  },
  {
   "cell_type": "code",
   "execution_count": 8,
   "metadata": {},
   "outputs": [],
   "source": [
    "dep = dep.rename({'CODESC': 'id_escola'}, axis=1)"
   ]
  },
  {
   "cell_type": "code",
   "execution_count": 9,
   "metadata": {},
   "outputs": [],
   "source": [
    "dep = dep.drop([\n",
    "    'NOMEDEP', # todas sao 'ESTADUAL - SE'\n",
    "    'SITUACAO', # todos ativos\n",
    "    'DE' # diretoria vai vir da tabela idesp\n",
    "],axis=1)\n",
    "# DE A diretoria vai vir da tabela idesp\n"
   ]
  },
  {
   "cell_type": "code",
   "execution_count": 10,
   "metadata": {},
   "outputs": [],
   "source": [
    "escolas_dep = set(dep.id_escola)"
   ]
  },
  {
   "cell_type": "code",
   "execution_count": 11,
   "metadata": {},
   "outputs": [
    {
     "name": "stdout",
     "output_type": "stream",
     "text": [
      "Escolas da tabela fato:  5410\n",
      "Base:  dependencias  escolas:  5608  faltam do fato:  0.06451016635859519\n",
      "Nao encontrado em nenhuma outra base:  349\n",
      "Exemplos nao encontrados:  [43011, 47119, 32785, 30739, 901143]\n"
     ]
    }
   ],
   "source": [
    "aponta_diferencas([['dependencias', escolas_dep]])"
   ]
  },
  {
   "cell_type": "code",
   "execution_count": null,
   "metadata": {},
   "outputs": [],
   "source": []
  },
  {
   "cell_type": "code",
   "execution_count": null,
   "metadata": {},
   "outputs": [],
   "source": []
  },
  {
   "cell_type": "markdown",
   "metadata": {},
   "source": [
    "# Dimensao endereco"
   ]
  },
  {
   "cell_type": "code",
   "execution_count": 12,
   "metadata": {},
   "outputs": [
    {
     "data": {
      "text/html": [
       "<div>\n",
       "<style scoped>\n",
       "    .dataframe tbody tr th:only-of-type {\n",
       "        vertical-align: middle;\n",
       "    }\n",
       "\n",
       "    .dataframe tbody tr th {\n",
       "        vertical-align: top;\n",
       "    }\n",
       "\n",
       "    .dataframe thead th {\n",
       "        text-align: right;\n",
       "    }\n",
       "</style>\n",
       "<table border=\"1\" class=\"dataframe\">\n",
       "  <thead>\n",
       "    <tr style=\"text-align: right;\">\n",
       "      <th></th>\n",
       "      <th>nomedep</th>\n",
       "      <th>depadm</th>\n",
       "      <th>mun</th>\n",
       "      <th>codmun</th>\n",
       "      <th>de</th>\n",
       "      <th>CD_ESCOLA</th>\n",
       "      <th>CD_DIRETORIA</th>\n",
       "      <th>CD_DIRETORIA_ESTADUAL</th>\n",
       "      <th>CD_DIRETORIA_SUPVS_PROPR</th>\n",
       "      <th>NM_COMPLETO_ESCOLA</th>\n",
       "      <th>CD_UNIDADE</th>\n",
       "      <th>DS_ENDERECO</th>\n",
       "      <th>COMPLEMENTO</th>\n",
       "      <th>NUMERO</th>\n",
       "      <th>CD_ORIGEM_UNIDADE</th>\n",
       "      <th>CD_ORIGEM_ESCOLA</th>\n",
       "      <th>CD_ORIGEM_ENDERECO</th>\n",
       "      <th>LATITUDE</th>\n",
       "      <th>LONGITUDE</th>\n",
       "    </tr>\n",
       "  </thead>\n",
       "  <tbody>\n",
       "    <tr>\n",
       "      <th>0</th>\n",
       "      <td>ESTADUAL - SE</td>\n",
       "      <td>1</td>\n",
       "      <td>SAO PAULO</td>\n",
       "      <td>100</td>\n",
       "      <td>NORTE 1</td>\n",
       "      <td>36444</td>\n",
       "      <td>10101</td>\n",
       "      <td>10101</td>\n",
       "      <td>10101</td>\n",
       "      <td>GENESIO DE ALMEIDA MOURA DOUTOR</td>\n",
       "      <td>37806</td>\n",
       "      <td>DOMINGOS AREVALO</td>\n",
       "      <td>RUA</td>\n",
       "      <td>862</td>\n",
       "      <td>37806</td>\n",
       "      <td>36444</td>\n",
       "      <td>37866</td>\n",
       "      <td>-23.447</td>\n",
       "      <td>-46.6967</td>\n",
       "    </tr>\n",
       "    <tr>\n",
       "      <th>1</th>\n",
       "      <td>ESTADUAL - SE</td>\n",
       "      <td>1</td>\n",
       "      <td>SAO PAULO</td>\n",
       "      <td>100</td>\n",
       "      <td>LESTE 5</td>\n",
       "      <td>1582</td>\n",
       "      <td>10205</td>\n",
       "      <td>10205</td>\n",
       "      <td>10205</td>\n",
       "      <td>DOMINGOS FAUSTINO SARMIENTO</td>\n",
       "      <td>24902</td>\n",
       "      <td>21 DE ABRIL</td>\n",
       "      <td>RUA</td>\n",
       "      <td>970</td>\n",
       "      <td>24902</td>\n",
       "      <td>1582</td>\n",
       "      <td>24962</td>\n",
       "      <td>-23.5422317000605</td>\n",
       "      <td>-46.6057931815944</td>\n",
       "    </tr>\n",
       "    <tr>\n",
       "      <th>2</th>\n",
       "      <td>ESTADUAL - SE</td>\n",
       "      <td>1</td>\n",
       "      <td>SAO PAULO</td>\n",
       "      <td>100</td>\n",
       "      <td>LESTE 5</td>\n",
       "      <td>2173</td>\n",
       "      <td>10205</td>\n",
       "      <td>10205</td>\n",
       "      <td>10205</td>\n",
       "      <td>JOAO BORGES PROFESSOR</td>\n",
       "      <td>24901</td>\n",
       "      <td>ITAPURA</td>\n",
       "      <td>RUA</td>\n",
       "      <td>976</td>\n",
       "      <td>24901</td>\n",
       "      <td>2173</td>\n",
       "      <td>24961</td>\n",
       "      <td>-23.5473</td>\n",
       "      <td>-46.566</td>\n",
       "    </tr>\n",
       "  </tbody>\n",
       "</table>\n",
       "</div>"
      ],
      "text/plain": [
       "         nomedep depadm        mun codmun       de CD_ESCOLA CD_DIRETORIA  \\\n",
       "0  ESTADUAL - SE      1  SAO PAULO    100  NORTE 1     36444        10101   \n",
       "1  ESTADUAL - SE      1  SAO PAULO    100  LESTE 5      1582        10205   \n",
       "2  ESTADUAL - SE      1  SAO PAULO    100  LESTE 5      2173        10205   \n",
       "\n",
       "  CD_DIRETORIA_ESTADUAL CD_DIRETORIA_SUPVS_PROPR  \\\n",
       "0                 10101                    10101   \n",
       "1                 10205                    10205   \n",
       "2                 10205                    10205   \n",
       "\n",
       "                NM_COMPLETO_ESCOLA CD_UNIDADE        DS_ENDERECO COMPLEMENTO  \\\n",
       "0  GENESIO DE ALMEIDA MOURA DOUTOR      37806  DOMINGOS AREVALO          RUA   \n",
       "1      DOMINGOS FAUSTINO SARMIENTO      24902       21 DE ABRIL          RUA   \n",
       "2            JOAO BORGES PROFESSOR      24901           ITAPURA          RUA   \n",
       "\n",
       "  NUMERO CD_ORIGEM_UNIDADE CD_ORIGEM_ESCOLA CD_ORIGEM_ENDERECO  \\\n",
       "0    862             37806            36444              37866   \n",
       "1    970             24902             1582              24962   \n",
       "2    976             24901             2173              24961   \n",
       "\n",
       "            LATITUDE        LONGITUDE\\n  \n",
       "0            -23.447           -46.6967  \n",
       "1  -23.5422317000605  -46.6057931815944  \n",
       "2           -23.5473            -46.566  "
      ]
     },
     "execution_count": 12,
     "metadata": {},
     "output_type": "execute_result"
    }
   ],
   "source": [
    "arquivo = 'D:\\\\DESAFIO_SEDUC\\\\dados-VERSAO_1\\\\escolas_enderecos\\\\11_escolas_enderecos_0.csv'\n",
    "with open(arquivo, encoding=\"utf8\") as file_in:\n",
    "    lines = []\n",
    "    for line in file_in:\n",
    "        lines.append(line)\n",
    "dados_lines = []\n",
    "len_lines = len(lines[0].split(','))\n",
    "for line in lines[1:]:\n",
    "    line = line.rstrip().split(',')\n",
    "    if len(line) == len_lines:  # linhas com numero incorreto de colunas foram descartadas (1)\n",
    "        dados_lines.append(line)\n",
    "end = pd.DataFrame(data=dados_lines)\n",
    "end.columns = lines[0].split(',')\n",
    "end.head(3)"
   ]
  },
  {
   "cell_type": "code",
   "execution_count": 13,
   "metadata": {},
   "outputs": [],
   "source": [
    "end = end.rename({'CD_ESCOLA': 'id_escola'}, axis=1)\n",
    "end.id_escola = end.id_escola.astype(int)\n",
    "escolas_end = set(end.id_escola)"
   ]
  },
  {
   "cell_type": "code",
   "execution_count": null,
   "metadata": {},
   "outputs": [],
   "source": []
  },
  {
   "cell_type": "code",
   "execution_count": null,
   "metadata": {},
   "outputs": [],
   "source": []
  },
  {
   "cell_type": "code",
   "execution_count": 14,
   "metadata": {},
   "outputs": [
    {
     "name": "stdout",
     "output_type": "stream",
     "text": [
      "Escolas da tabela fato:  5410\n",
      "Base:  dependencias  escolas:  5608  faltam do fato:  0.06451016635859519\n",
      "Base:  enderecos  escolas:  27328  faltam do fato:  0.05563770794824399\n",
      "Nao encontrado em nenhuma outra base:  293\n",
      "Exemplos nao encontrados:  [43011, 39433, 21003, 18958, 47119]\n"
     ]
    }
   ],
   "source": [
    "aponta_diferencas([\n",
    "    ['dependencias', escolas_dep],\n",
    "    ['enderecos',escolas_end]\n",
    "])"
   ]
  },
  {
   "cell_type": "code",
   "execution_count": 15,
   "metadata": {},
   "outputs": [
    {
     "data": {
      "text/html": [
       "<div>\n",
       "<style scoped>\n",
       "    .dataframe tbody tr th:only-of-type {\n",
       "        vertical-align: middle;\n",
       "    }\n",
       "\n",
       "    .dataframe tbody tr th {\n",
       "        vertical-align: top;\n",
       "    }\n",
       "\n",
       "    .dataframe thead th {\n",
       "        text-align: right;\n",
       "    }\n",
       "</style>\n",
       "<table border=\"1\" class=\"dataframe\">\n",
       "  <thead>\n",
       "    <tr style=\"text-align: right;\">\n",
       "      <th></th>\n",
       "      <th>NOMEDEP</th>\n",
       "      <th>DE</th>\n",
       "      <th>MUN</th>\n",
       "      <th>DISTR</th>\n",
       "      <th>COD_ESC</th>\n",
       "      <th>NOMESC</th>\n",
       "      <th>SITUACAO</th>\n",
       "      <th>TIPOESC</th>\n",
       "      <th>ENDESC</th>\n",
       "      <th>NUMESC</th>\n",
       "      <th>COMPLEND</th>\n",
       "      <th>CEP</th>\n",
       "      <th>BAIESC</th>\n",
       "      <th>ZONA</th>\n",
       "      <th>DS_LONGITUDE</th>\n",
       "      <th>DS_LATITUDE</th>\n",
       "      <th>CODVINC</th>\n",
       "    </tr>\n",
       "  </thead>\n",
       "  <tbody>\n",
       "    <tr>\n",
       "      <th>0</th>\n",
       "      <td>ESTADUAL - SE</td>\n",
       "      <td>NORTE 1</td>\n",
       "      <td>SAO PAULO</td>\n",
       "      <td>JAGUARA</td>\n",
       "      <td>12</td>\n",
       "      <td>AYRES DE MOURA PROFESSOR</td>\n",
       "      <td>Ativa</td>\n",
       "      <td>EE</td>\n",
       "      <td>RUA ARTUR ORLANDO</td>\n",
       "      <td>907</td>\n",
       "      <td>RUA</td>\n",
       "      <td>5118000</td>\n",
       "      <td>VILA JAGUARA</td>\n",
       "      <td>URBANA</td>\n",
       "      <td>-46,74909973</td>\n",
       "      <td>-23,5121994</td>\n",
       "      <td></td>\n",
       "    </tr>\n",
       "    <tr>\n",
       "      <th>1</th>\n",
       "      <td>ESTADUAL - SE</td>\n",
       "      <td>NORTE 1</td>\n",
       "      <td>SAO PAULO</td>\n",
       "      <td>PERUS</td>\n",
       "      <td>24</td>\n",
       "      <td>GAVIAO PEIXOTO BRIGADEIRO</td>\n",
       "      <td>Ativa</td>\n",
       "      <td>EE</td>\n",
       "      <td>MOGEIRO</td>\n",
       "      <td>710</td>\n",
       "      <td>RUA</td>\n",
       "      <td>5208230</td>\n",
       "      <td>VILA PERUS</td>\n",
       "      <td>URBANA</td>\n",
       "      <td>-46,75939941</td>\n",
       "      <td>-23,40469933</td>\n",
       "      <td></td>\n",
       "    </tr>\n",
       "    <tr>\n",
       "      <th>2</th>\n",
       "      <td>ESTADUAL - SE</td>\n",
       "      <td>NORTE 1</td>\n",
       "      <td>SAO PAULO</td>\n",
       "      <td>FREGUESIA DO O</td>\n",
       "      <td>36</td>\n",
       "      <td>JOAO SOLIMEO</td>\n",
       "      <td>Ativa</td>\n",
       "      <td>EE</td>\n",
       "      <td>DO SABAO</td>\n",
       "      <td>1497</td>\n",
       "      <td>ESTRADA</td>\n",
       "      <td>2806000</td>\n",
       "      <td>JARDIM MARISTELA</td>\n",
       "      <td>URBANA</td>\n",
       "      <td>-46,70082092</td>\n",
       "      <td>-23,48127937</td>\n",
       "      <td></td>\n",
       "    </tr>\n",
       "  </tbody>\n",
       "</table>\n",
       "</div>"
      ],
      "text/plain": [
       "         NOMEDEP       DE        MUN           DISTR COD_ESC  \\\n",
       "0  ESTADUAL - SE  NORTE 1  SAO PAULO         JAGUARA      12   \n",
       "1  ESTADUAL - SE  NORTE 1  SAO PAULO           PERUS      24   \n",
       "2  ESTADUAL - SE  NORTE 1  SAO PAULO  FREGUESIA DO O      36   \n",
       "\n",
       "                      NOMESC SITUACAO TIPOESC             ENDESC NUMESC  \\\n",
       "0   AYRES DE MOURA PROFESSOR    Ativa      EE  RUA ARTUR ORLANDO    907   \n",
       "1  GAVIAO PEIXOTO BRIGADEIRO    Ativa      EE            MOGEIRO    710   \n",
       "2               JOAO SOLIMEO    Ativa      EE           DO SABAO   1497   \n",
       "\n",
       "  COMPLEND      CEP            BAIESC    ZONA  DS_LONGITUDE   DS_LATITUDE  \\\n",
       "0      RUA  5118000      VILA JAGUARA  URBANA  -46,74909973   -23,5121994   \n",
       "1      RUA  5208230        VILA PERUS  URBANA  -46,75939941  -23,40469933   \n",
       "2  ESTRADA  2806000  JARDIM MARISTELA  URBANA  -46,70082092  -23,48127937   \n",
       "\n",
       "  CODVINC\\n  \n",
       "0            \n",
       "1            \n",
       "2            "
      ]
     },
     "execution_count": 15,
     "metadata": {},
     "output_type": "execute_result"
    }
   ],
   "source": [
    "arquivo = 'D:\\\\DESAFIO_SEDUC\\\\dados-VERSAO_1\\\\escolas_enderecos\\\\11_Escolas_Coordenadas.csv'\n",
    "with open(arquivo, encoding=\"latin-1\") as file_in:\n",
    "    lines = []\n",
    "    for line in file_in:\n",
    "        lines.append(line)\n",
    "dados_lines = []\n",
    "len_lines = len(lines[0].split(';'))\n",
    "for line in lines[1:]:\n",
    "    line = line.rstrip().split(';')\n",
    "    if len(line) == len_lines:  # linhas com numero incorreto de colunas foram descartadas (1)\n",
    "        dados_lines.append(line)\n",
    "end2 = pd.DataFrame(data=dados_lines)\n",
    "end2.columns = lines[0].split(';')\n",
    "end2.head(3)"
   ]
  },
  {
   "cell_type": "code",
   "execution_count": 16,
   "metadata": {},
   "outputs": [
    {
     "data": {
      "text/plain": [
       "28729"
      ]
     },
     "execution_count": 16,
     "metadata": {},
     "output_type": "execute_result"
    }
   ],
   "source": [
    "len(end)"
   ]
  },
  {
   "cell_type": "code",
   "execution_count": 17,
   "metadata": {},
   "outputs": [
    {
     "data": {
      "text/plain": [
       "5736"
      ]
     },
     "execution_count": 17,
     "metadata": {},
     "output_type": "execute_result"
    }
   ],
   "source": [
    "len(end2)"
   ]
  },
  {
   "cell_type": "code",
   "execution_count": 18,
   "metadata": {},
   "outputs": [],
   "source": [
    "end2 = end2.rename({'COD_ESC': 'id_escola'}, axis=1)\n",
    "end2.id_escola = end2.id_escola.astype(int)\n",
    "escolas_end2 = set(end2.id_escola)"
   ]
  },
  {
   "cell_type": "code",
   "execution_count": 19,
   "metadata": {},
   "outputs": [
    {
     "name": "stdout",
     "output_type": "stream",
     "text": [
      "Escolas da tabela fato:  5410\n",
      "Base:  dependencias  escolas:  5608  faltam do fato:  0.06451016635859519\n",
      "Base:  enderecos  escolas:  27328  faltam do fato:  0.05563770794824399\n",
      "Base:  coordenadas  escolas:  5736  faltam do fato:  0.06395563770794824\n",
      "Nao encontrado em nenhuma outra base:  293\n",
      "Exemplos nao encontrados:  [43011, 39433, 21003, 18958, 47119]\n"
     ]
    }
   ],
   "source": [
    "aponta_diferencas([\n",
    "    ['dependencias', escolas_dep],\n",
    "    ['enderecos',escolas_end],\n",
    "    ['coordenadas',escolas_end2]\n",
    "])"
   ]
  },
  {
   "cell_type": "code",
   "execution_count": null,
   "metadata": {},
   "outputs": [],
   "source": []
  },
  {
   "cell_type": "code",
   "execution_count": null,
   "metadata": {},
   "outputs": [],
   "source": []
  },
  {
   "cell_type": "markdown",
   "metadata": {},
   "source": [
    "# Cluster"
   ]
  },
  {
   "cell_type": "code",
   "execution_count": 20,
   "metadata": {},
   "outputs": [],
   "source": [
    "arquivo = 'D:\\\\DESAFIO_SEDUC\\\\dados-VERSAO_1\\\\cluster_de_escolas_similares\\\\12_MMR_Clusters.csv'\n",
    "cluster = pd.read_csv(arquivo, sep=';')\n",
    "cluster.CD_ESCOLA = cluster.CD_ESCOLA.astype(int)\n",
    "cluster = cluster.rename({'CD_ESCOLA': 'id_escola'}, axis=1)"
   ]
  },
  {
   "cell_type": "code",
   "execution_count": 21,
   "metadata": {},
   "outputs": [],
   "source": [
    "escolas_clu = set(cluster.id_escola)"
   ]
  },
  {
   "cell_type": "code",
   "execution_count": 22,
   "metadata": {},
   "outputs": [
    {
     "name": "stdout",
     "output_type": "stream",
     "text": [
      "Escolas da tabela fato:  5410\n",
      "Base:  dependencias  escolas:  5608  faltam do fato:  0.06451016635859519\n",
      "Base:  enderecos  escolas:  27328  faltam do fato:  0.05563770794824399\n",
      "Base:  coordenadas  escolas:  5736  faltam do fato:  0.06395563770794824\n",
      "Base:  cluster  escolas:  5056  faltam do fato:  0.06598890942698706\n",
      "Nao encontrado em nenhuma outra base:  293\n",
      "Exemplos nao encontrados:  [43011, 39433, 21003, 18958, 47119]\n"
     ]
    }
   ],
   "source": [
    "aa = aponta_diferencas([\n",
    "    ['dependencias', escolas_dep],\n",
    "    ['enderecos',escolas_end],\n",
    "    ['coordenadas',escolas_end2],\n",
    "    ['cluster', escolas_clu]    \n",
    "])"
   ]
  },
  {
   "cell_type": "code",
   "execution_count": null,
   "metadata": {},
   "outputs": [],
   "source": []
  },
  {
   "cell_type": "code",
   "execution_count": null,
   "metadata": {},
   "outputs": [],
   "source": []
  },
  {
   "cell_type": "code",
   "execution_count": null,
   "metadata": {},
   "outputs": [],
   "source": []
  },
  {
   "cell_type": "code",
   "execution_count": null,
   "metadata": {},
   "outputs": [],
   "source": []
  },
  {
   "cell_type": "markdown",
   "metadata": {},
   "source": [
    "# Dimensao classes"
   ]
  },
  {
   "cell_type": "code",
   "execution_count": 23,
   "metadata": {},
   "outputs": [],
   "source": [
    "arquivo = 'dados-VERSAO_1\\matriculas\\/10_Escolas_Classes_Qtde_Alunos.csv'\n",
    "classes = pd.read_csv(arquivo, sep=';')"
   ]
  },
  {
   "cell_type": "code",
   "execution_count": 24,
   "metadata": {},
   "outputs": [],
   "source": [
    "classes = classes.rename({'COD_ESC': 'id_escola'}, axis=1)\n",
    "classes.id_escola = classes.id_escola.astype(int)"
   ]
  },
  {
   "cell_type": "code",
   "execution_count": 25,
   "metadata": {},
   "outputs": [],
   "source": [
    "escolas_classes = set(classes.id_escola)"
   ]
  },
  {
   "cell_type": "code",
   "execution_count": 26,
   "metadata": {},
   "outputs": [
    {
     "name": "stdout",
     "output_type": "stream",
     "text": [
      "Escolas da tabela fato:  5410\n",
      "Base:  dependencias  escolas:  5608  faltam do fato:  0.06451016635859519\n",
      "Base:  enderecos  escolas:  27328  faltam do fato:  0.05563770794824399\n",
      "Base:  coordenadas  escolas:  5736  faltam do fato:  0.06395563770794824\n",
      "Base:  cluster  escolas:  5056  faltam do fato:  0.06598890942698706\n",
      "Base:  classes  escolas:  5638  faltam do fato:  0.06395563770794824\n",
      "Nao encontrado em nenhuma outra base:  293\n",
      "Exemplos nao encontrados:  [43011, 39433, 21003, 18958, 47119]\n"
     ]
    }
   ],
   "source": [
    "aponta_diferencas([\n",
    "    ['dependencias', escolas_dep],\n",
    "    ['enderecos',escolas_end],\n",
    "    ['coordenadas',escolas_end2],\n",
    "    ['cluster', escolas_clu],\n",
    "    ['classes', escolas_classes]\n",
    "])"
   ]
  },
  {
   "cell_type": "code",
   "execution_count": null,
   "metadata": {},
   "outputs": [],
   "source": []
  },
  {
   "cell_type": "code",
   "execution_count": null,
   "metadata": {},
   "outputs": [],
   "source": []
  },
  {
   "cell_type": "code",
   "execution_count": null,
   "metadata": {},
   "outputs": [],
   "source": []
  },
  {
   "cell_type": "markdown",
   "metadata": {},
   "source": [
    "# CARGA HORARIA"
   ]
  },
  {
   "cell_type": "code",
   "execution_count": 27,
   "metadata": {},
   "outputs": [],
   "source": [
    "arquivo = 'D:\\\\DESAFIO_SEDUC\\\\dados-VERSAO_1\\\\carga-horria-por-docente-All-2020-04-13_1010\\\\BASE_CARGA_HOR_SALA_AULA_0419.csv'\n",
    "hora = pd.read_csv(arquivo, sep=';')"
   ]
  },
  {
   "cell_type": "code",
   "execution_count": 28,
   "metadata": {},
   "outputs": [
    {
     "data": {
      "text/html": [
       "<div>\n",
       "<style scoped>\n",
       "    .dataframe tbody tr th:only-of-type {\n",
       "        vertical-align: middle;\n",
       "    }\n",
       "\n",
       "    .dataframe tbody tr th {\n",
       "        vertical-align: top;\n",
       "    }\n",
       "\n",
       "    .dataframe thead th {\n",
       "        text-align: right;\n",
       "    }\n",
       "</style>\n",
       "<table border=\"1\" class=\"dataframe\">\n",
       "  <thead>\n",
       "    <tr style=\"text-align: right;\">\n",
       "      <th></th>\n",
       "      <th>REGIAO</th>\n",
       "      <th>NOMEDE</th>\n",
       "      <th>CD_INEP</th>\n",
       "      <th>CODESC</th>\n",
       "      <th>CATESC</th>\n",
       "      <th>TPESC</th>\n",
       "      <th>UA</th>\n",
       "      <th>NOMEESC</th>\n",
       "      <th>NM_MUNICIPIO</th>\n",
       "      <th>MODAL</th>\n",
       "      <th>NOME</th>\n",
       "      <th>RG12</th>\n",
       "      <th>DI</th>\n",
       "      <th>CPF</th>\n",
       "      <th>CARGO_C</th>\n",
       "      <th>NM_CARGOC</th>\n",
       "      <th>CODMAE</th>\n",
       "      <th>DEN_CODMAE</th>\n",
       "      <th>CICLO</th>\n",
       "      <th>MATERIA</th>\n",
       "      <th>DEN_MATERIA</th>\n",
       "      <th>TOT_AULA_LIVRE</th>\n",
       "      <th>TOT_AULA_SUBST</th>\n",
       "      <th>TOT_GERAL_AULA</th>\n",
       "      <th>TOT_AULA_LIVRE_NOTURNO</th>\n",
       "      <th>TOT_AULA_SUBST_NOTURNO</th>\n",
       "      <th>TOT_AULAS_NOTURNO</th>\n",
       "      <th>JORNADA</th>\n",
       "      <th>id_interno</th>\n",
       "    </tr>\n",
       "  </thead>\n",
       "  <tbody>\n",
       "    <tr>\n",
       "      <th>0</th>\n",
       "      <td>INTERIOR</td>\n",
       "      <td>D.E.REG. LINS</td>\n",
       "      <td>35026141</td>\n",
       "      <td>26141</td>\n",
       "      <td>1</td>\n",
       "      <td>8</td>\n",
       "      <td>43829</td>\n",
       "      <td>HUGO GAMBETTI PROF</td>\n",
       "      <td>PROMISSAO</td>\n",
       "      <td>EF INICIAIS + FINAIS + EM</td>\n",
       "      <td>318519</td>\n",
       "      <td>318519</td>\n",
       "      <td>1</td>\n",
       "      <td>318519</td>\n",
       "      <td>6409</td>\n",
       "      <td>PROFESSOR EDUCACAO BASICA II</td>\n",
       "      <td>1100</td>\n",
       "      <td>LING.PORTUGUESA</td>\n",
       "      <td>CII</td>\n",
       "      <td>1100</td>\n",
       "      <td>LING.PORTUGUESA</td>\n",
       "      <td>24</td>\n",
       "      <td>0</td>\n",
       "      <td>24</td>\n",
       "      <td>0</td>\n",
       "      <td>0</td>\n",
       "      <td>0</td>\n",
       "      <td>C</td>\n",
       "      <td>318519</td>\n",
       "    </tr>\n",
       "    <tr>\n",
       "      <th>1</th>\n",
       "      <td>INTERIOR</td>\n",
       "      <td>D.E.REG. LINS</td>\n",
       "      <td>35026104</td>\n",
       "      <td>26104</td>\n",
       "      <td>1</td>\n",
       "      <td>8</td>\n",
       "      <td>43828</td>\n",
       "      <td>ORLANDO DONDA PROF</td>\n",
       "      <td>PROMISSAO</td>\n",
       "      <td>EF FINAIS + EM</td>\n",
       "      <td>184802</td>\n",
       "      <td>184802</td>\n",
       "      <td>1</td>\n",
       "      <td>184802</td>\n",
       "      <td>6409</td>\n",
       "      <td>PROFESSOR EDUCACAO BASICA II</td>\n",
       "      <td>2700</td>\n",
       "      <td>MATEMATICA</td>\n",
       "      <td>CII</td>\n",
       "      <td>2700</td>\n",
       "      <td>MATEMATICA</td>\n",
       "      <td>24</td>\n",
       "      <td>0</td>\n",
       "      <td>24</td>\n",
       "      <td>0</td>\n",
       "      <td>0</td>\n",
       "      <td>0</td>\n",
       "      <td>B</td>\n",
       "      <td>184802</td>\n",
       "    </tr>\n",
       "    <tr>\n",
       "      <th>2</th>\n",
       "      <td>INTERIOR</td>\n",
       "      <td>D.E.REG. SANTO ANASTACIO</td>\n",
       "      <td>35032232</td>\n",
       "      <td>32232</td>\n",
       "      <td>1</td>\n",
       "      <td>8</td>\n",
       "      <td>44687</td>\n",
       "      <td>ANTONIO DE CARVALHO LEITAO PROFESSOR</td>\n",
       "      <td>PRESIDENTE EPITACIO</td>\n",
       "      <td>EF FINAIS + EM</td>\n",
       "      <td>318530</td>\n",
       "      <td>318530</td>\n",
       "      <td>1</td>\n",
       "      <td>318530</td>\n",
       "      <td>6409</td>\n",
       "      <td>PROFESSOR EDUCACAO BASICA II</td>\n",
       "      <td>2800</td>\n",
       "      <td>QUIMICA</td>\n",
       "      <td>EM</td>\n",
       "      <td>2800</td>\n",
       "      <td>QUIMICA</td>\n",
       "      <td>2</td>\n",
       "      <td>0</td>\n",
       "      <td>2</td>\n",
       "      <td>0</td>\n",
       "      <td>0</td>\n",
       "      <td>0</td>\n",
       "      <td></td>\n",
       "      <td>318530</td>\n",
       "    </tr>\n",
       "  </tbody>\n",
       "</table>\n",
       "</div>"
      ],
      "text/plain": [
       "     REGIAO                    NOMEDE   CD_INEP  CODESC  CATESC  TPESC     UA  \\\n",
       "0  INTERIOR           D.E.REG. LINS    35026141   26141       1      8  43829   \n",
       "1  INTERIOR           D.E.REG. LINS    35026104   26104       1      8  43828   \n",
       "2  INTERIOR  D.E.REG. SANTO ANASTACIO  35032232   32232       1      8  44687   \n",
       "\n",
       "                                NOMEESC         NM_MUNICIPIO  \\\n",
       "0                    HUGO GAMBETTI PROF            PROMISSAO   \n",
       "1                    ORLANDO DONDA PROF            PROMISSAO   \n",
       "2  ANTONIO DE CARVALHO LEITAO PROFESSOR  PRESIDENTE EPITACIO   \n",
       "\n",
       "                       MODAL    NOME    RG12  DI     CPF  CARGO_C  \\\n",
       "0  EF INICIAIS + FINAIS + EM  318519  318519   1  318519     6409   \n",
       "1             EF FINAIS + EM  184802  184802   1  184802     6409   \n",
       "2             EF FINAIS + EM  318530  318530   1  318530     6409   \n",
       "\n",
       "                      NM_CARGOC  CODMAE       DEN_CODMAE CICLO  MATERIA  \\\n",
       "0  PROFESSOR EDUCACAO BASICA II    1100  LING.PORTUGUESA   CII     1100   \n",
       "1  PROFESSOR EDUCACAO BASICA II    2700       MATEMATICA   CII     2700   \n",
       "2  PROFESSOR EDUCACAO BASICA II    2800          QUIMICA    EM     2800   \n",
       "\n",
       "       DEN_MATERIA  TOT_AULA_LIVRE  TOT_AULA_SUBST  TOT_GERAL_AULA  \\\n",
       "0  LING.PORTUGUESA              24               0              24   \n",
       "1       MATEMATICA              24               0              24   \n",
       "2          QUIMICA               2               0               2   \n",
       "\n",
       "   TOT_AULA_LIVRE_NOTURNO  TOT_AULA_SUBST_NOTURNO  TOT_AULAS_NOTURNO JORNADA  \\\n",
       "0                       0                       0                  0       C   \n",
       "1                       0                       0                  0       B   \n",
       "2                       0                       0                  0           \n",
       "\n",
       "   id_interno  \n",
       "0      318519  \n",
       "1      184802  \n",
       "2      318530  "
      ]
     },
     "execution_count": 28,
     "metadata": {},
     "output_type": "execute_result"
    }
   ],
   "source": [
    "hora.head(3)"
   ]
  },
  {
   "cell_type": "code",
   "execution_count": 29,
   "metadata": {},
   "outputs": [],
   "source": [
    "hora = classes.rename({'CODESC': 'id_escola'}, axis=1)\n",
    "hora.id_escola = hora.id_escola.astype(int)"
   ]
  },
  {
   "cell_type": "code",
   "execution_count": 30,
   "metadata": {},
   "outputs": [],
   "source": [
    "escolas_hora = set(hora.id_escola)"
   ]
  },
  {
   "cell_type": "code",
   "execution_count": 31,
   "metadata": {},
   "outputs": [
    {
     "name": "stdout",
     "output_type": "stream",
     "text": [
      "Escolas da tabela fato:  5410\n",
      "Base:  dependencias  escolas:  5608  faltam do fato:  0.06451016635859519\n",
      "Base:  enderecos  escolas:  27328  faltam do fato:  0.05563770794824399\n",
      "Base:  coordenadas  escolas:  5736  faltam do fato:  0.06395563770794824\n",
      "Base:  classes  escolas:  5638  faltam do fato:  0.06395563770794824\n",
      "Nao encontrado em nenhuma outra base:  293\n",
      "Exemplos nao encontrados:  [43011, 39433, 21003, 18958, 47119]\n"
     ]
    }
   ],
   "source": [
    "aponta_diferencas([\n",
    "    ['dependencias', escolas_dep],\n",
    "    ['enderecos',escolas_end],\n",
    "    ['coordenadas',escolas_end2],\n",
    "    ['classes', escolas_classes],\n",
    "])"
   ]
  },
  {
   "cell_type": "code",
   "execution_count": 32,
   "metadata": {},
   "outputs": [
    {
     "data": {
      "text/plain": [
       "0.054158964879852126"
      ]
     },
     "execution_count": 32,
     "metadata": {},
     "output_type": "execute_result"
    }
   ],
   "source": [
    "293/5410"
   ]
  },
  {
   "cell_type": "code",
   "execution_count": null,
   "metadata": {},
   "outputs": [],
   "source": []
  },
  {
   "cell_type": "code",
   "execution_count": null,
   "metadata": {},
   "outputs": [],
   "source": []
  },
  {
   "cell_type": "code",
   "execution_count": null,
   "metadata": {},
   "outputs": [],
   "source": []
  },
  {
   "cell_type": "code",
   "execution_count": null,
   "metadata": {},
   "outputs": [],
   "source": []
  },
  {
   "cell_type": "markdown",
   "metadata": {},
   "source": [
    "# Dimensao Servidores (associados a uma dada gestao)\n",
    "- A dimensao servidores vai ter que ter um id_escola.\n",
    "- Servidores da escola.\n",
    "- Servidores ativos: Vou colocar os servidores na escola correspondente.\n",
    "- Atribuicao digital: Disciplinas sem docente.\n",
    "- Ausencias por servidor: Numero total de ausencias da escola.\n",
    "- Carga horaria.\n",
    "- Cluster."
   ]
  },
  {
   "cell_type": "code",
   "execution_count": null,
   "metadata": {},
   "outputs": [],
   "source": []
  },
  {
   "cell_type": "code",
   "execution_count": null,
   "metadata": {},
   "outputs": [],
   "source": []
  },
  {
   "cell_type": "code",
   "execution_count": null,
   "metadata": {},
   "outputs": [],
   "source": []
  },
  {
   "cell_type": "code",
   "execution_count": null,
   "metadata": {},
   "outputs": [],
   "source": []
  },
  {
   "cell_type": "code",
   "execution_count": null,
   "metadata": {},
   "outputs": [],
   "source": []
  },
  {
   "cell_type": "code",
   "execution_count": null,
   "metadata": {},
   "outputs": [],
   "source": []
  },
  {
   "cell_type": "code",
   "execution_count": null,
   "metadata": {},
   "outputs": [],
   "source": []
  },
  {
   "cell_type": "code",
   "execution_count": null,
   "metadata": {},
   "outputs": [],
   "source": []
  },
  {
   "cell_type": "code",
   "execution_count": null,
   "metadata": {},
   "outputs": [],
   "source": []
  },
  {
   "cell_type": "code",
   "execution_count": null,
   "metadata": {},
   "outputs": [],
   "source": []
  },
  {
   "cell_type": "code",
   "execution_count": null,
   "metadata": {},
   "outputs": [],
   "source": []
  },
  {
   "cell_type": "markdown",
   "metadata": {},
   "source": [
    "# CLUSTER\n",
    "- CD_CLUSTERS e o id\n",
    "- CD_DIRETORIA ha 91 diretorias\n",
    "- Numero do cluster: 9\n",
    "- NR_CICLO: 3\n",
    "- CD_GRUPO_CLUSTER"
   ]
  },
  {
   "cell_type": "code",
   "execution_count": 6,
   "metadata": {},
   "outputs": [],
   "source": [
    "arquivo = 'D:\\\\DESAFIO_SEDUC\\\\dados-VERSAO_1\\\\cluster_de_escolas_similares\\\\12_MMR_Clusters.csv'\n",
    "cluster = pd.read_csv(arquivo, sep=';')\n",
    "cluster.CD_ESCOLA = cluster.CD_ESCOLA.astype(int)\n",
    "cluster = cluster.rename({'CD_ESCOLA': 'id_escola'}, axis=1)"
   ]
  },
  {
   "cell_type": "code",
   "execution_count": 7,
   "metadata": {},
   "outputs": [],
   "source": [
    "clu = {}\n",
    "clu['id_escola'] = []\n",
    "clu['nr_cluster'] = []\n",
    "for nome, dados in cluster.groupby('id_escola'):\n",
    "    clu['id_escola'].append(nome)\n",
    "    clu['nr_cluster'].append(dados.NR_CLUSTER.max())  \n"
   ]
  },
  {
   "cell_type": "code",
   "execution_count": 8,
   "metadata": {},
   "outputs": [],
   "source": [
    "clu = pd.DataFrame(clu)"
   ]
  },
  {
   "cell_type": "code",
   "execution_count": 9,
   "metadata": {},
   "outputs": [],
   "source": [
    "esc_cl = pd.merge(esc, clu, on='id_escola',how='left')"
   ]
  },
  {
   "cell_type": "code",
   "execution_count": 10,
   "metadata": {},
   "outputs": [
    {
     "data": {
      "text/html": [
       "<div>\n",
       "<style scoped>\n",
       "    .dataframe tbody tr th:only-of-type {\n",
       "        vertical-align: middle;\n",
       "    }\n",
       "\n",
       "    .dataframe tbody tr th {\n",
       "        vertical-align: top;\n",
       "    }\n",
       "\n",
       "    .dataframe thead th {\n",
       "        text-align: right;\n",
       "    }\n",
       "</style>\n",
       "<table border=\"1\" class=\"dataframe\">\n",
       "  <thead>\n",
       "    <tr style=\"text-align: right;\">\n",
       "      <th></th>\n",
       "      <th>nota</th>\n",
       "      <th>nr_cluster</th>\n",
       "    </tr>\n",
       "  </thead>\n",
       "  <tbody>\n",
       "    <tr>\n",
       "      <th>nota</th>\n",
       "      <td>1.000000</td>\n",
       "      <td>-0.220918</td>\n",
       "    </tr>\n",
       "    <tr>\n",
       "      <th>nr_cluster</th>\n",
       "      <td>-0.220918</td>\n",
       "      <td>1.000000</td>\n",
       "    </tr>\n",
       "  </tbody>\n",
       "</table>\n",
       "</div>"
      ],
      "text/plain": [
       "                nota  nr_cluster\n",
       "nota        1.000000   -0.220918\n",
       "nr_cluster -0.220918    1.000000"
      ]
     },
     "execution_count": 10,
     "metadata": {},
     "output_type": "execute_result"
    }
   ],
   "source": [
    "esc_cl.loc[:,['nota','nr_cluster']].corr()"
   ]
  },
  {
   "cell_type": "code",
   "execution_count": 11,
   "metadata": {},
   "outputs": [
    {
     "data": {
      "text/plain": [
       "count    2134.000000\n",
       "mean        4.126054\n",
       "std         2.022273\n",
       "min         1.000000\n",
       "25%         2.000000\n",
       "50%         4.000000\n",
       "75%         6.000000\n",
       "max         9.000000\n",
       "Name: nr_cluster, dtype: float64"
      ]
     },
     "execution_count": 11,
     "metadata": {},
     "output_type": "execute_result"
    }
   ],
   "source": [
    "esc_cl.nr_cluster.describe()"
   ]
  },
  {
   "cell_type": "code",
   "execution_count": 30,
   "metadata": {},
   "outputs": [
    {
     "data": {
      "text/plain": [
       "4.40099133369823"
      ]
     },
     "execution_count": 30,
     "metadata": {},
     "output_type": "execute_result"
    }
   ],
   "source": [
    "esc_cl[esc_cl.nr_cluster.isin([1,2,3,4])].nota.mean()"
   ]
  },
  {
   "cell_type": "code",
   "execution_count": 39,
   "metadata": {},
   "outputs": [
    {
     "data": {
      "text/plain": [
       "1218"
      ]
     },
     "execution_count": 39,
     "metadata": {},
     "output_type": "execute_result"
    }
   ],
   "source": [
    "esc_cl[esc_cl.nr_cluster.isin([1,2,3,4])].nota.count()"
   ]
  },
  {
   "cell_type": "code",
   "execution_count": 31,
   "metadata": {},
   "outputs": [
    {
     "data": {
      "text/plain": [
       "4.121484203296703"
      ]
     },
     "execution_count": 31,
     "metadata": {},
     "output_type": "execute_result"
    }
   ],
   "source": [
    "esc_cl[esc_cl.nr_cluster.isin([5,9])].nota.mean()"
   ]
  },
  {
   "cell_type": "code",
   "execution_count": 40,
   "metadata": {},
   "outputs": [
    {
     "data": {
      "text/plain": [
       "364"
      ]
     },
     "execution_count": 40,
     "metadata": {},
     "output_type": "execute_result"
    }
   ],
   "source": [
    "esc_cl[esc_cl.nr_cluster.isin([5,9])].nota.count()"
   ]
  },
  {
   "cell_type": "code",
   "execution_count": 32,
   "metadata": {},
   "outputs": [
    {
     "data": {
      "text/plain": [
       "3.5821358192431565"
      ]
     },
     "execution_count": 32,
     "metadata": {},
     "output_type": "execute_result"
    }
   ],
   "source": [
    "esc_cl[esc_cl.nr_cluster.isin([6,7,8])].nota.mean()"
   ]
  },
  {
   "cell_type": "code",
   "execution_count": 41,
   "metadata": {
    "scrolled": true
   },
   "outputs": [
    {
     "data": {
      "text/plain": [
       "552"
      ]
     },
     "execution_count": 41,
     "metadata": {},
     "output_type": "execute_result"
    }
   ],
   "source": [
    "esc_cl[esc_cl.nr_cluster.isin([6,7,8])].nota.count()"
   ]
  },
  {
   "cell_type": "code",
   "execution_count": 33,
   "metadata": {},
   "outputs": [
    {
     "data": {
      "text/plain": [
       "2.776062744507975"
      ]
     },
     "execution_count": 33,
     "metadata": {},
     "output_type": "execute_result"
    }
   ],
   "source": [
    "esc_cl[esc_cl.nr_cluster == 0].nota.mean()"
   ]
  },
  {
   "cell_type": "code",
   "execution_count": 38,
   "metadata": {},
   "outputs": [
    {
     "data": {
      "text/plain": [
       "id_escola     3323\n",
       "nota          3323\n",
       "nr_cluster    3323\n",
       "dtype: int64"
      ]
     },
     "execution_count": 38,
     "metadata": {},
     "output_type": "execute_result"
    }
   ],
   "source": [
    "esc_cl[esc_cl.nr_cluster == 0].count()"
   ]
  },
  {
   "cell_type": "code",
   "execution_count": null,
   "metadata": {},
   "outputs": [],
   "source": []
  },
  {
   "cell_type": "code",
   "execution_count": null,
   "metadata": {},
   "outputs": [],
   "source": []
  },
  {
   "cell_type": "code",
   "execution_count": null,
   "metadata": {},
   "outputs": [],
   "source": []
  },
  {
   "cell_type": "markdown",
   "metadata": {},
   "source": [
    "# NUMERO DE CLASSES"
   ]
  },
  {
   "cell_type": "code",
   "execution_count": 30,
   "metadata": {},
   "outputs": [],
   "source": [
    "arquivo = 'dados\\matriculas\\/10_Escolas_Classes_Qtde_Alunos.csv'\n",
    "classes = pd.read_csv(arquivo, sep=';')"
   ]
  },
  {
   "cell_type": "code",
   "execution_count": 32,
   "metadata": {},
   "outputs": [],
   "source": [
    "classes.COD_ESC = classes.COD_ESC.astype(int)"
   ]
  },
  {
   "cell_type": "code",
   "execution_count": 34,
   "metadata": {},
   "outputs": [],
   "source": [
    "classes = classes.rename({'COD_ESC': 'id_escola'}, axis=1)"
   ]
  },
  {
   "cell_type": "code",
   "execution_count": null,
   "metadata": {},
   "outputs": [],
   "source": [
    "result = pd.merge(esc_cl, )"
   ]
  },
  {
   "cell_type": "code",
   "execution_count": 36,
   "metadata": {},
   "outputs": [
    {
     "data": {
      "text/html": [
       "<div>\n",
       "<style scoped>\n",
       "    .dataframe tbody tr th:only-of-type {\n",
       "        vertical-align: middle;\n",
       "    }\n",
       "\n",
       "    .dataframe tbody tr th {\n",
       "        vertical-align: top;\n",
       "    }\n",
       "\n",
       "    .dataframe thead th {\n",
       "        text-align: right;\n",
       "    }\n",
       "</style>\n",
       "<table border=\"1\" class=\"dataframe\">\n",
       "  <thead>\n",
       "    <tr style=\"text-align: right;\">\n",
       "      <th></th>\n",
       "      <th>ANO</th>\n",
       "      <th>NOMEDEP</th>\n",
       "      <th>DE</th>\n",
       "      <th>MUN</th>\n",
       "      <th>DISTR</th>\n",
       "      <th>id_escola</th>\n",
       "      <th>NOMESC</th>\n",
       "      <th>TIPOESC</th>\n",
       "      <th>TIPOESC_DESC</th>\n",
       "      <th>SITUACAO</th>\n",
       "      <th>CLASSE</th>\n",
       "      <th>TIPOCLASSE</th>\n",
       "      <th>TIPOCLASSE_DESC</th>\n",
       "      <th>GRAU</th>\n",
       "      <th>TipoEnsino</th>\n",
       "      <th>SERIE</th>\n",
       "      <th>QTDE_ALUNOS</th>\n",
       "      <th>CODVINC</th>\n",
       "    </tr>\n",
       "  </thead>\n",
       "  <tbody>\n",
       "    <tr>\n",
       "      <th>0</th>\n",
       "      <td>2014</td>\n",
       "      <td>ESTADUAL - SE</td>\n",
       "      <td>ADAMANTINA</td>\n",
       "      <td>ADAMANTINA</td>\n",
       "      <td>ADAMANTINA</td>\n",
       "      <td>30806</td>\n",
       "      <td>HELEN KELLER</td>\n",
       "      <td>8</td>\n",
       "      <td>EE</td>\n",
       "      <td>Ativa</td>\n",
       "      <td>182570713</td>\n",
       "      <td>0</td>\n",
       "      <td>CLASSE COMUM</td>\n",
       "      <td>1</td>\n",
       "      <td>ENSINO FUNDAMENTAL DE 8 ANOS</td>\n",
       "      <td>8</td>\n",
       "      <td>21</td>\n",
       "      <td>NaN</td>\n",
       "    </tr>\n",
       "    <tr>\n",
       "      <th>1</th>\n",
       "      <td>2014</td>\n",
       "      <td>ESTADUAL - SE</td>\n",
       "      <td>ADAMANTINA</td>\n",
       "      <td>ADAMANTINA</td>\n",
       "      <td>ADAMANTINA</td>\n",
       "      <td>30806</td>\n",
       "      <td>HELEN KELLER</td>\n",
       "      <td>8</td>\n",
       "      <td>EE</td>\n",
       "      <td>Ativa</td>\n",
       "      <td>182570762</td>\n",
       "      <td>0</td>\n",
       "      <td>CLASSE COMUM</td>\n",
       "      <td>2</td>\n",
       "      <td>ENSINO MEDIO</td>\n",
       "      <td>2</td>\n",
       "      <td>37</td>\n",
       "      <td>NaN</td>\n",
       "    </tr>\n",
       "    <tr>\n",
       "      <th>2</th>\n",
       "      <td>2014</td>\n",
       "      <td>ESTADUAL - SE</td>\n",
       "      <td>ADAMANTINA</td>\n",
       "      <td>ADAMANTINA</td>\n",
       "      <td>ADAMANTINA</td>\n",
       "      <td>30806</td>\n",
       "      <td>HELEN KELLER</td>\n",
       "      <td>8</td>\n",
       "      <td>EE</td>\n",
       "      <td>Ativa</td>\n",
       "      <td>186061859</td>\n",
       "      <td>1</td>\n",
       "      <td>CLASSE MULTISSERIADA</td>\n",
       "      <td>5</td>\n",
       "      <td>EJA ENSINO MÉDIO</td>\n",
       "      <td>10</td>\n",
       "      <td>25</td>\n",
       "      <td>NaN</td>\n",
       "    </tr>\n",
       "    <tr>\n",
       "      <th>3</th>\n",
       "      <td>2014</td>\n",
       "      <td>ESTADUAL - SE</td>\n",
       "      <td>ADAMANTINA</td>\n",
       "      <td>ADAMANTINA</td>\n",
       "      <td>ADAMANTINA</td>\n",
       "      <td>31045</td>\n",
       "      <td>DURVALINO GRION PROF</td>\n",
       "      <td>8</td>\n",
       "      <td>EE</td>\n",
       "      <td>Ativa</td>\n",
       "      <td>182570440</td>\n",
       "      <td>0</td>\n",
       "      <td>CLASSE COMUM</td>\n",
       "      <td>2</td>\n",
       "      <td>ENSINO MEDIO</td>\n",
       "      <td>2</td>\n",
       "      <td>26</td>\n",
       "      <td>NaN</td>\n",
       "    </tr>\n",
       "    <tr>\n",
       "      <th>4</th>\n",
       "      <td>2014</td>\n",
       "      <td>ESTADUAL - SE</td>\n",
       "      <td>ADAMANTINA</td>\n",
       "      <td>ADAMANTINA</td>\n",
       "      <td>ADAMANTINA</td>\n",
       "      <td>31045</td>\n",
       "      <td>DURVALINO GRION PROF</td>\n",
       "      <td>8</td>\n",
       "      <td>EE</td>\n",
       "      <td>Ativa</td>\n",
       "      <td>182570465</td>\n",
       "      <td>0</td>\n",
       "      <td>CLASSE COMUM</td>\n",
       "      <td>2</td>\n",
       "      <td>ENSINO MEDIO</td>\n",
       "      <td>3</td>\n",
       "      <td>33</td>\n",
       "      <td>NaN</td>\n",
       "    </tr>\n",
       "    <tr>\n",
       "      <th>5</th>\n",
       "      <td>2014</td>\n",
       "      <td>ESTADUAL - SE</td>\n",
       "      <td>ADAMANTINA</td>\n",
       "      <td>ADAMANTINA</td>\n",
       "      <td>ADAMANTINA</td>\n",
       "      <td>31045</td>\n",
       "      <td>DURVALINO GRION PROF</td>\n",
       "      <td>8</td>\n",
       "      <td>EE</td>\n",
       "      <td>Ativa</td>\n",
       "      <td>182570523</td>\n",
       "      <td>0</td>\n",
       "      <td>CLASSE COMUM</td>\n",
       "      <td>14</td>\n",
       "      <td>ENSINO FUNDAMENTAL DE 9 ANOS</td>\n",
       "      <td>7</td>\n",
       "      <td>30</td>\n",
       "      <td>NaN</td>\n",
       "    </tr>\n",
       "    <tr>\n",
       "      <th>6</th>\n",
       "      <td>2014</td>\n",
       "      <td>ESTADUAL - SE</td>\n",
       "      <td>ADAMANTINA</td>\n",
       "      <td>ADAMANTINA</td>\n",
       "      <td>ADAMANTINA</td>\n",
       "      <td>31112</td>\n",
       "      <td>FLEURIDES CAVALLINI MENECHINO PROFA</td>\n",
       "      <td>8</td>\n",
       "      <td>EE</td>\n",
       "      <td>Ativa</td>\n",
       "      <td>182570127</td>\n",
       "      <td>0</td>\n",
       "      <td>CLASSE COMUM</td>\n",
       "      <td>1</td>\n",
       "      <td>ENSINO FUNDAMENTAL DE 8 ANOS</td>\n",
       "      <td>7</td>\n",
       "      <td>28</td>\n",
       "      <td>NaN</td>\n",
       "    </tr>\n",
       "    <tr>\n",
       "      <th>7</th>\n",
       "      <td>2014</td>\n",
       "      <td>ESTADUAL - SE</td>\n",
       "      <td>ADAMANTINA</td>\n",
       "      <td>ADAMANTINA</td>\n",
       "      <td>ADAMANTINA</td>\n",
       "      <td>31112</td>\n",
       "      <td>FLEURIDES CAVALLINI MENECHINO PROFA</td>\n",
       "      <td>8</td>\n",
       "      <td>EE</td>\n",
       "      <td>Ativa</td>\n",
       "      <td>182570184</td>\n",
       "      <td>0</td>\n",
       "      <td>CLASSE COMUM</td>\n",
       "      <td>1</td>\n",
       "      <td>ENSINO FUNDAMENTAL DE 8 ANOS</td>\n",
       "      <td>8</td>\n",
       "      <td>35</td>\n",
       "      <td>NaN</td>\n",
       "    </tr>\n",
       "    <tr>\n",
       "      <th>8</th>\n",
       "      <td>2014</td>\n",
       "      <td>ESTADUAL - SE</td>\n",
       "      <td>ADAMANTINA</td>\n",
       "      <td>ADAMANTINA</td>\n",
       "      <td>ADAMANTINA</td>\n",
       "      <td>31112</td>\n",
       "      <td>FLEURIDES CAVALLINI MENECHINO PROFA</td>\n",
       "      <td>8</td>\n",
       "      <td>EE</td>\n",
       "      <td>Ativa</td>\n",
       "      <td>182570192</td>\n",
       "      <td>0</td>\n",
       "      <td>CLASSE COMUM</td>\n",
       "      <td>2</td>\n",
       "      <td>ENSINO MEDIO</td>\n",
       "      <td>1</td>\n",
       "      <td>35</td>\n",
       "      <td>NaN</td>\n",
       "    </tr>\n",
       "    <tr>\n",
       "      <th>9</th>\n",
       "      <td>2014</td>\n",
       "      <td>ESTADUAL - SE</td>\n",
       "      <td>ADAMANTINA</td>\n",
       "      <td>ADAMANTINA</td>\n",
       "      <td>ADAMANTINA</td>\n",
       "      <td>31112</td>\n",
       "      <td>FLEURIDES CAVALLINI MENECHINO PROFA</td>\n",
       "      <td>8</td>\n",
       "      <td>EE</td>\n",
       "      <td>Ativa</td>\n",
       "      <td>182570218</td>\n",
       "      <td>0</td>\n",
       "      <td>CLASSE COMUM</td>\n",
       "      <td>2</td>\n",
       "      <td>ENSINO MEDIO</td>\n",
       "      <td>1</td>\n",
       "      <td>32</td>\n",
       "      <td>NaN</td>\n",
       "    </tr>\n",
       "  </tbody>\n",
       "</table>\n",
       "</div>"
      ],
      "text/plain": [
       "    ANO        NOMEDEP          DE         MUN       DISTR  id_escola  \\\n",
       "0  2014  ESTADUAL - SE  ADAMANTINA  ADAMANTINA  ADAMANTINA      30806   \n",
       "1  2014  ESTADUAL - SE  ADAMANTINA  ADAMANTINA  ADAMANTINA      30806   \n",
       "2  2014  ESTADUAL - SE  ADAMANTINA  ADAMANTINA  ADAMANTINA      30806   \n",
       "3  2014  ESTADUAL - SE  ADAMANTINA  ADAMANTINA  ADAMANTINA      31045   \n",
       "4  2014  ESTADUAL - SE  ADAMANTINA  ADAMANTINA  ADAMANTINA      31045   \n",
       "5  2014  ESTADUAL - SE  ADAMANTINA  ADAMANTINA  ADAMANTINA      31045   \n",
       "6  2014  ESTADUAL - SE  ADAMANTINA  ADAMANTINA  ADAMANTINA      31112   \n",
       "7  2014  ESTADUAL - SE  ADAMANTINA  ADAMANTINA  ADAMANTINA      31112   \n",
       "8  2014  ESTADUAL - SE  ADAMANTINA  ADAMANTINA  ADAMANTINA      31112   \n",
       "9  2014  ESTADUAL - SE  ADAMANTINA  ADAMANTINA  ADAMANTINA      31112   \n",
       "\n",
       "                                NOMESC  TIPOESC TIPOESC_DESC SITUACAO  \\\n",
       "0                         HELEN KELLER        8           EE    Ativa   \n",
       "1                         HELEN KELLER        8           EE    Ativa   \n",
       "2                         HELEN KELLER        8           EE    Ativa   \n",
       "3                 DURVALINO GRION PROF        8           EE    Ativa   \n",
       "4                 DURVALINO GRION PROF        8           EE    Ativa   \n",
       "5                 DURVALINO GRION PROF        8           EE    Ativa   \n",
       "6  FLEURIDES CAVALLINI MENECHINO PROFA        8           EE    Ativa   \n",
       "7  FLEURIDES CAVALLINI MENECHINO PROFA        8           EE    Ativa   \n",
       "8  FLEURIDES CAVALLINI MENECHINO PROFA        8           EE    Ativa   \n",
       "9  FLEURIDES CAVALLINI MENECHINO PROFA        8           EE    Ativa   \n",
       "\n",
       "      CLASSE  TIPOCLASSE       TIPOCLASSE_DESC  GRAU  \\\n",
       "0  182570713           0          CLASSE COMUM     1   \n",
       "1  182570762           0          CLASSE COMUM     2   \n",
       "2  186061859           1  CLASSE MULTISSERIADA     5   \n",
       "3  182570440           0          CLASSE COMUM     2   \n",
       "4  182570465           0          CLASSE COMUM     2   \n",
       "5  182570523           0          CLASSE COMUM    14   \n",
       "6  182570127           0          CLASSE COMUM     1   \n",
       "7  182570184           0          CLASSE COMUM     1   \n",
       "8  182570192           0          CLASSE COMUM     2   \n",
       "9  182570218           0          CLASSE COMUM     2   \n",
       "\n",
       "                     TipoEnsino  SERIE  QTDE_ALUNOS  CODVINC  \n",
       "0  ENSINO FUNDAMENTAL DE 8 ANOS      8           21      NaN  \n",
       "1                  ENSINO MEDIO      2           37      NaN  \n",
       "2              EJA ENSINO MÉDIO     10           25      NaN  \n",
       "3                  ENSINO MEDIO      2           26      NaN  \n",
       "4                  ENSINO MEDIO      3           33      NaN  \n",
       "5  ENSINO FUNDAMENTAL DE 9 ANOS      7           30      NaN  \n",
       "6  ENSINO FUNDAMENTAL DE 8 ANOS      7           28      NaN  \n",
       "7  ENSINO FUNDAMENTAL DE 8 ANOS      8           35      NaN  \n",
       "8                  ENSINO MEDIO      1           35      NaN  \n",
       "9                  ENSINO MEDIO      1           32      NaN  "
      ]
     },
     "execution_count": 36,
     "metadata": {},
     "output_type": "execute_result"
    }
   ],
   "source": [
    "classes.head(10)"
   ]
  },
  {
   "cell_type": "code",
   "execution_count": null,
   "metadata": {},
   "outputs": [],
   "source": []
  },
  {
   "cell_type": "code",
   "execution_count": null,
   "metadata": {},
   "outputs": [],
   "source": []
  },
  {
   "cell_type": "code",
   "execution_count": null,
   "metadata": {},
   "outputs": [],
   "source": []
  },
  {
   "cell_type": "code",
   "execution_count": null,
   "metadata": {},
   "outputs": [],
   "source": []
  },
  {
   "cell_type": "code",
   "execution_count": null,
   "metadata": {},
   "outputs": [],
   "source": []
  },
  {
   "cell_type": "code",
   "execution_count": null,
   "metadata": {},
   "outputs": [],
   "source": []
  }
 ],
 "metadata": {
  "kernelspec": {
   "display_name": "Python 3",
   "language": "python",
   "name": "python3"
  },
  "language_info": {
   "codemirror_mode": {
    "name": "ipython",
    "version": 3
   },
   "file_extension": ".py",
   "mimetype": "text/x-python",
   "name": "python",
   "nbconvert_exporter": "python",
   "pygments_lexer": "ipython3",
   "version": "3.7.3"
  }
 },
 "nbformat": 4,
 "nbformat_minor": 2
}
