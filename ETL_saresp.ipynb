{
 "cells": [
  {
   "cell_type": "code",
   "execution_count": 1,
   "metadata": {},
   "outputs": [],
   "source": [
    "import pandas as pd\n",
    "import collections\n",
    "\n",
    "import etl_idesp\n",
    "from util import gera_id_gestao"
   ]
  },
  {
   "cell_type": "code",
   "execution_count": 2,
   "metadata": {},
   "outputs": [],
   "source": [
    "NOMES_SARESP = [\n",
    "    'dados/SARESP_escolas_2014.csv',\n",
    "    'dados/SARESP_escolas_2015.csv',\n",
    "    'dados/SARESP_escolas_2016.csv',\n",
    "    'dados/SARESP_escolas_2017.csv',\n",
    "    'dados/SARESP_escolas_2018.csv']\n",
    "\n",
    "ANOS_SARESP = [2014, 2015, 2016, 2017, 2018]\n",
    "\n",
    "def para_numero(num_entrada):\n",
    "    num_entrada = str(num_entrada)\n",
    "    num_entrada = num_entrada.replace('.','')\n",
    "    num_entrada = num_entrada.replace(',','.')\n",
    "    try:\n",
    "        num_entrada = float(num_entrada)\n",
    "        return num_entrada\n",
    "    except:\n",
    "        return None\n",
    "    "
   ]
  },
  {
   "cell_type": "code",
   "execution_count": 3,
   "metadata": {},
   "outputs": [],
   "source": [
    "dados_saresp = []\n",
    "for arquivo, ano in zip(NOMES_SARESP, ANOS_SARESP):\n",
    "    dados = pd.read_csv(arquivo, sep=';', encoding='latin-1')\n",
    "    dados['ano'] = ano\n",
    "    dados_saresp.append(dados)\n",
    "saresp = dados_saresp[0]\n",
    "for i in range(1,len(dados_saresp)):\n",
    "    saresp.append(dados_saresp[1])\n",
    "saresp = saresp.copy()    "
   ]
  },
  {
   "cell_type": "code",
   "execution_count": 4,
   "metadata": {},
   "outputs": [],
   "source": [
    "saresp.loc[:,'medprof'] = saresp.medprof.apply(para_numero)\n",
    "saresp = saresp.dropna(subset=['medprof'])\n",
    "saresp.loc[:,'medprof'] = saresp.medprof.astype(float)"
   ]
  },
  {
   "cell_type": "code",
   "execution_count": 5,
   "metadata": {},
   "outputs": [
    {
     "data": {
      "text/plain": [
       "76511"
      ]
     },
     "execution_count": 5,
     "metadata": {},
     "output_type": "execute_result"
    }
   ],
   "source": [
    "len(saresp)"
   ]
  },
  {
   "cell_type": "code",
   "execution_count": 6,
   "metadata": {},
   "outputs": [],
   "source": [
    "id_gestao = []\n",
    "for i in saresp.index:\n",
    "    id_gestao.append(gera_id_gestao(saresp.loc[i,'CODESC'],saresp.loc[i,'ano']))\n",
    "saresp['id_gestao'] = id_gestao"
   ]
  },
  {
   "cell_type": "code",
   "execution_count": 7,
   "metadata": {},
   "outputs": [],
   "source": [
    "sar = {}\n",
    "sar['id_gestao'] = []\n",
    "sar['id_escola'] = []\n",
    "sar['ano_gestao'] = []\n",
    "sar['nota_saresp'] = []\n",
    "\n",
    "for nome, dados in saresp.groupby('id_gestao'):\n",
    "    sar['id_gestao'].append(nome)\n",
    "    sar['id_escola'].append(dados.CODESC.iloc[0])\n",
    "    sar['ano_gestao'].append(dados.ano.iloc[0])\n",
    "    sar['nota_saresp'].append(dados.medprof.median())\n",
    "sar = pd.DataFrame(sar)"
   ]
  },
  {
   "cell_type": "code",
   "execution_count": null,
   "metadata": {},
   "outputs": [],
   "source": []
  },
  {
   "cell_type": "code",
   "execution_count": 8,
   "metadata": {},
   "outputs": [
    {
     "data": {
      "text/plain": [
       "count    5039.000000\n",
       "mean      244.032516\n",
       "std        25.759206\n",
       "min       151.500000\n",
       "25%       227.200000\n",
       "50%       246.600000\n",
       "75%       261.900000\n",
       "max       381.600000\n",
       "Name: nota_saresp, dtype: float64"
      ]
     },
     "execution_count": 8,
     "metadata": {},
     "output_type": "execute_result"
    }
   ],
   "source": [
    "sar.nota_saresp.describe()"
   ]
  },
  {
   "cell_type": "code",
   "execution_count": 10,
   "metadata": {},
   "outputs": [
    {
     "data": {
      "text/html": [
       "<div>\n",
       "<style scoped>\n",
       "    .dataframe tbody tr th:only-of-type {\n",
       "        vertical-align: middle;\n",
       "    }\n",
       "\n",
       "    .dataframe tbody tr th {\n",
       "        vertical-align: top;\n",
       "    }\n",
       "\n",
       "    .dataframe thead th {\n",
       "        text-align: right;\n",
       "    }\n",
       "</style>\n",
       "<table border=\"1\" class=\"dataframe\">\n",
       "  <thead>\n",
       "    <tr style=\"text-align: right;\">\n",
       "      <th></th>\n",
       "      <th>id_gestao</th>\n",
       "      <th>id_escola</th>\n",
       "      <th>ano_gestao</th>\n",
       "      <th>nota_saresp</th>\n",
       "    </tr>\n",
       "  </thead>\n",
       "  <tbody>\n",
       "    <tr>\n",
       "      <th>0</th>\n",
       "      <td>esc-10005-ano-2014</td>\n",
       "      <td>10005</td>\n",
       "      <td>2014</td>\n",
       "      <td>247.4</td>\n",
       "    </tr>\n",
       "    <tr>\n",
       "      <th>1</th>\n",
       "      <td>esc-10017-ano-2014</td>\n",
       "      <td>10017</td>\n",
       "      <td>2014</td>\n",
       "      <td>268.2</td>\n",
       "    </tr>\n",
       "    <tr>\n",
       "      <th>2</th>\n",
       "      <td>esc-10029-ano-2014</td>\n",
       "      <td>10029</td>\n",
       "      <td>2014</td>\n",
       "      <td>246.0</td>\n",
       "    </tr>\n",
       "  </tbody>\n",
       "</table>\n",
       "</div>"
      ],
      "text/plain": [
       "            id_gestao  id_escola  ano_gestao  nota_saresp\n",
       "0  esc-10005-ano-2014      10005        2014        247.4\n",
       "1  esc-10017-ano-2014      10017        2014        268.2\n",
       "2  esc-10029-ano-2014      10029        2014        246.0"
      ]
     },
     "execution_count": 10,
     "metadata": {},
     "output_type": "execute_result"
    }
   ],
   "source": [
    "sar.head(3)"
   ]
  },
  {
   "cell_type": "code",
   "execution_count": null,
   "metadata": {},
   "outputs": [],
   "source": []
  },
  {
   "cell_type": "code",
   "execution_count": 1,
   "metadata": {},
   "outputs": [],
   "source": [
    "import etl_saresp"
   ]
  },
  {
   "cell_type": "code",
   "execution_count": 2,
   "metadata": {},
   "outputs": [],
   "source": [
    "sar = etl_saresp.etl()"
   ]
  },
  {
   "cell_type": "code",
   "execution_count": 5,
   "metadata": {},
   "outputs": [
    {
     "data": {
      "text/plain": [
       "0"
      ]
     },
     "execution_count": 5,
     "metadata": {},
     "output_type": "execute_result"
    }
   ],
   "source": [
    "sar.nota_saresp.isnull().sum()"
   ]
  },
  {
   "cell_type": "code",
   "execution_count": null,
   "metadata": {},
   "outputs": [],
   "source": []
  },
  {
   "cell_type": "code",
   "execution_count": null,
   "metadata": {},
   "outputs": [],
   "source": []
  },
  {
   "cell_type": "code",
   "execution_count": null,
   "metadata": {},
   "outputs": [],
   "source": []
  },
  {
   "cell_type": "code",
   "execution_count": null,
   "metadata": {},
   "outputs": [],
   "source": []
  },
  {
   "cell_type": "code",
   "execution_count": null,
   "metadata": {},
   "outputs": [],
   "source": []
  },
  {
   "cell_type": "code",
   "execution_count": null,
   "metadata": {},
   "outputs": [],
   "source": []
  },
  {
   "cell_type": "code",
   "execution_count": null,
   "metadata": {},
   "outputs": [],
   "source": []
  },
  {
   "cell_type": "code",
   "execution_count": null,
   "metadata": {},
   "outputs": [],
   "source": []
  },
  {
   "cell_type": "code",
   "execution_count": null,
   "metadata": {},
   "outputs": [],
   "source": []
  },
  {
   "cell_type": "code",
   "execution_count": null,
   "metadata": {},
   "outputs": [],
   "source": []
  },
  {
   "cell_type": "code",
   "execution_count": null,
   "metadata": {},
   "outputs": [],
   "source": []
  },
  {
   "cell_type": "code",
   "execution_count": null,
   "metadata": {},
   "outputs": [],
   "source": []
  }
 ],
 "metadata": {
  "kernelspec": {
   "display_name": "Python 3",
   "language": "python",
   "name": "python3"
  },
  "language_info": {
   "codemirror_mode": {
    "name": "ipython",
    "version": 3
   },
   "file_extension": ".py",
   "mimetype": "text/x-python",
   "name": "python",
   "nbconvert_exporter": "python",
   "pygments_lexer": "ipython3",
   "version": "3.7.3"
  }
 },
 "nbformat": 4,
 "nbformat_minor": 2
}
