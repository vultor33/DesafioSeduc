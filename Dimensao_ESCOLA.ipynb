{
 "cells": [
  {
   "cell_type": "code",
   "execution_count": 1,
   "metadata": {},
   "outputs": [],
   "source": [
    "import pandas as pd\n",
    "import collections\n",
    "import etl_idesp\n",
    "pd.set_option('display.max_columns', None)"
   ]
  },
  {
   "cell_type": "code",
   "execution_count": 2,
   "metadata": {},
   "outputs": [],
   "source": [
    "df_idesp = etl_idesp.etl()\n",
    "df_idesp.id_escola = df_idesp.id_escola.astype(int)"
   ]
  },
  {
   "cell_type": "code",
   "execution_count": 28,
   "metadata": {},
   "outputs": [
    {
     "data": {
      "text/html": [
       "<div>\n",
       "<style scoped>\n",
       "    .dataframe tbody tr th:only-of-type {\n",
       "        vertical-align: middle;\n",
       "    }\n",
       "\n",
       "    .dataframe tbody tr th {\n",
       "        vertical-align: top;\n",
       "    }\n",
       "\n",
       "    .dataframe thead th {\n",
       "        text-align: right;\n",
       "    }\n",
       "</style>\n",
       "<table border=\"1\" class=\"dataframe\">\n",
       "  <thead>\n",
       "    <tr style=\"text-align: right;\">\n",
       "      <th></th>\n",
       "      <th>id_gestao</th>\n",
       "      <th>id_escola</th>\n",
       "      <th>ano_gestao</th>\n",
       "      <th>nota_ano</th>\n",
       "      <th>variacao</th>\n",
       "      <th>anterior_nulo</th>\n",
       "      <th>atual_nulo</th>\n",
       "      <th>unidades_diretoria</th>\n",
       "      <th>nome_diretoria</th>\n",
       "    </tr>\n",
       "  </thead>\n",
       "  <tbody>\n",
       "    <tr>\n",
       "      <th>0</th>\n",
       "      <td>esc-10005-ano-2014</td>\n",
       "      <td>10005</td>\n",
       "      <td>2014</td>\n",
       "      <td>3.48</td>\n",
       "      <td>10.828025</td>\n",
       "      <td>0</td>\n",
       "      <td>1</td>\n",
       "      <td>133</td>\n",
       "      <td>ITAPECERICA DA SERRA</td>\n",
       "    </tr>\n",
       "    <tr>\n",
       "      <th>1</th>\n",
       "      <td>esc-10005-ano-2015</td>\n",
       "      <td>10005</td>\n",
       "      <td>2015</td>\n",
       "      <td>3.78</td>\n",
       "      <td>8.620690</td>\n",
       "      <td>0</td>\n",
       "      <td>1</td>\n",
       "      <td>133</td>\n",
       "      <td>ITAPECERICA DA SERRA</td>\n",
       "    </tr>\n",
       "    <tr>\n",
       "      <th>2</th>\n",
       "      <td>esc-10005-ano-2016</td>\n",
       "      <td>10005</td>\n",
       "      <td>2016</td>\n",
       "      <td>3.26</td>\n",
       "      <td>-13.756614</td>\n",
       "      <td>0</td>\n",
       "      <td>1</td>\n",
       "      <td>133</td>\n",
       "      <td>ITAPECERICA DA SERRA</td>\n",
       "    </tr>\n",
       "  </tbody>\n",
       "</table>\n",
       "</div>"
      ],
      "text/plain": [
       "            id_gestao  id_escola  ano_gestao  nota_ano   variacao  \\\n",
       "0  esc-10005-ano-2014      10005        2014      3.48  10.828025   \n",
       "1  esc-10005-ano-2015      10005        2015      3.78   8.620690   \n",
       "2  esc-10005-ano-2016      10005        2016      3.26 -13.756614   \n",
       "\n",
       "   anterior_nulo  atual_nulo  unidades_diretoria        nome_diretoria  \n",
       "0              0           1                 133  ITAPECERICA DA SERRA  \n",
       "1              0           1                 133  ITAPECERICA DA SERRA  \n",
       "2              0           1                 133  ITAPECERICA DA SERRA  "
      ]
     },
     "execution_count": 28,
     "metadata": {},
     "output_type": "execute_result"
    }
   ],
   "source": [
    "df_idesp.head(3)"
   ]
  },
  {
   "cell_type": "code",
   "execution_count": 47,
   "metadata": {},
   "outputs": [],
   "source": [
    "LISTA_ANOS = [2014, 2015, 2016, 2017, 2018]\n",
    "adic_media = {}\n",
    "adic_media['id_gestao'] = []\n",
    "adic_media['media_escola'] = []\n",
    "\n",
    "for nome,dados in df_idesp.groupby('id_escola'):\n",
    "    nota_total = 0\n",
    "    contagem = 0\n",
    "    for ano in LISTA_ANOS:\n",
    "        if ano == 2014:\n",
    "            row = dados[dados.ano_gestao == 2014].iloc[0]\n",
    "            nota_anterior = row.nota_ano * (1 - row.variacao/100)\n",
    "        else:\n",
    "            row = dados[dados.ano_gestao == ano-1].iloc[0]\n",
    "            nota_anterior = row.nota_ano\n",
    "        row = dados[dados.ano_gestao == ano].iloc[0]\n",
    "        nota_total += nota_anterior\n",
    "        contagem += 1\n",
    "        adic_media['id_gestao'].append(row.id_gestao)\n",
    "        adic_media['media_escola'].append(nota_total / contagem)\n",
    "adic_media = pd.DataFrame(data=adic_media)"
   ]
  },
  {
   "cell_type": "code",
   "execution_count": 48,
   "metadata": {},
   "outputs": [
    {
     "data": {
      "text/html": [
       "<div>\n",
       "<style scoped>\n",
       "    .dataframe tbody tr th:only-of-type {\n",
       "        vertical-align: middle;\n",
       "    }\n",
       "\n",
       "    .dataframe tbody tr th {\n",
       "        vertical-align: top;\n",
       "    }\n",
       "\n",
       "    .dataframe thead th {\n",
       "        text-align: right;\n",
       "    }\n",
       "</style>\n",
       "<table border=\"1\" class=\"dataframe\">\n",
       "  <thead>\n",
       "    <tr style=\"text-align: right;\">\n",
       "      <th></th>\n",
       "      <th>id_gestao</th>\n",
       "      <th>media_escola</th>\n",
       "    </tr>\n",
       "  </thead>\n",
       "  <tbody>\n",
       "    <tr>\n",
       "      <th>0</th>\n",
       "      <td>esc-12-ano-2014</td>\n",
       "      <td>2.549053</td>\n",
       "    </tr>\n",
       "    <tr>\n",
       "      <th>1</th>\n",
       "      <td>esc-12-ano-2015</td>\n",
       "      <td>2.839527</td>\n",
       "    </tr>\n",
       "    <tr>\n",
       "      <th>2</th>\n",
       "      <td>esc-12-ano-2016</td>\n",
       "      <td>2.953018</td>\n",
       "    </tr>\n",
       "  </tbody>\n",
       "</table>\n",
       "</div>"
      ],
      "text/plain": [
       "         id_gestao  media_escola\n",
       "0  esc-12-ano-2014      2.549053\n",
       "1  esc-12-ano-2015      2.839527\n",
       "2  esc-12-ano-2016      2.953018"
      ]
     },
     "execution_count": 48,
     "metadata": {},
     "output_type": "execute_result"
    }
   ],
   "source": [
    "adic_media.head(3)"
   ]
  },
  {
   "cell_type": "code",
   "execution_count": null,
   "metadata": {},
   "outputs": [],
   "source": []
  },
  {
   "cell_type": "code",
   "execution_count": null,
   "metadata": {},
   "outputs": [],
   "source": []
  },
  {
   "cell_type": "code",
   "execution_count": null,
   "metadata": {},
   "outputs": [],
   "source": []
  },
  {
   "cell_type": "code",
   "execution_count": null,
   "metadata": {},
   "outputs": [],
   "source": []
  },
  {
   "cell_type": "code",
   "execution_count": null,
   "metadata": {},
   "outputs": [],
   "source": []
  },
  {
   "cell_type": "code",
   "execution_count": null,
   "metadata": {},
   "outputs": [],
   "source": []
  },
  {
   "cell_type": "markdown",
   "metadata": {},
   "source": [
    "# DEPENDENCIAS"
   ]
  },
  {
   "cell_type": "code",
   "execution_count": 4,
   "metadata": {},
   "outputs": [],
   "source": [
    "arquivo = 'D:\\\\DESAFIO_SEDUC\\\\dados-VERSAO_1\\\\instalacao_fisicas\\\\06_Escolas_Dependencias.csv'\n",
    "dep = pd.read_csv(arquivo, sep=';')\n",
    "dep = dep.rename({'CODESC': 'id_escola'}, axis=1)\n",
    "dep.id_escola = dep.id_escola.astype(int)"
   ]
  },
  {
   "cell_type": "code",
   "execution_count": 5,
   "metadata": {},
   "outputs": [
    {
     "data": {
      "text/plain": [
       "5608"
      ]
     },
     "execution_count": 5,
     "metadata": {},
     "output_type": "execute_result"
    }
   ],
   "source": [
    "len(set(dep.id_escola))"
   ]
  },
  {
   "cell_type": "code",
   "execution_count": 6,
   "metadata": {},
   "outputs": [],
   "source": [
    "outras_salas = dep.columns[10:]\n",
    "depend = {}\n",
    "depend['id_escola'] = []\n",
    "depend['salas_aula'] = []\n",
    "depend['outras_salas'] = []\n",
    "for _, row in dep.iterrows():\n",
    "    depend['id_escola'].append(row.id_escola)\n",
    "    depend['salas_aula'].append(int(row.SALAS_AULA))\n",
    "    soma_outras = 0\n",
    "    for col in outras_salas:\n",
    "        soma_outras += int(row.loc[col])\n",
    "    depend['outras_salas'].append(soma_outras)\n",
    "depend = pd.DataFrame(depend)"
   ]
  },
  {
   "cell_type": "code",
   "execution_count": 7,
   "metadata": {},
   "outputs": [
    {
     "data": {
      "text/html": [
       "<div>\n",
       "<style scoped>\n",
       "    .dataframe tbody tr th:only-of-type {\n",
       "        vertical-align: middle;\n",
       "    }\n",
       "\n",
       "    .dataframe tbody tr th {\n",
       "        vertical-align: top;\n",
       "    }\n",
       "\n",
       "    .dataframe thead th {\n",
       "        text-align: right;\n",
       "    }\n",
       "</style>\n",
       "<table border=\"1\" class=\"dataframe\">\n",
       "  <thead>\n",
       "    <tr style=\"text-align: right;\">\n",
       "      <th></th>\n",
       "      <th>id_escola</th>\n",
       "      <th>salas_aula</th>\n",
       "      <th>outras_salas</th>\n",
       "    </tr>\n",
       "  </thead>\n",
       "  <tbody>\n",
       "    <tr>\n",
       "      <th>0</th>\n",
       "      <td>985429</td>\n",
       "      <td>5</td>\n",
       "      <td>29</td>\n",
       "    </tr>\n",
       "    <tr>\n",
       "      <th>1</th>\n",
       "      <td>31045</td>\n",
       "      <td>9</td>\n",
       "      <td>40</td>\n",
       "    </tr>\n",
       "    <tr>\n",
       "      <th>2</th>\n",
       "      <td>31112</td>\n",
       "      <td>12</td>\n",
       "      <td>64</td>\n",
       "    </tr>\n",
       "  </tbody>\n",
       "</table>\n",
       "</div>"
      ],
      "text/plain": [
       "   id_escola  salas_aula  outras_salas\n",
       "0     985429           5            29\n",
       "1      31045           9            40\n",
       "2      31112          12            64"
      ]
     },
     "execution_count": 7,
     "metadata": {},
     "output_type": "execute_result"
    }
   ],
   "source": [
    "depend.head(3)"
   ]
  },
  {
   "cell_type": "code",
   "execution_count": null,
   "metadata": {},
   "outputs": [],
   "source": []
  },
  {
   "cell_type": "code",
   "execution_count": null,
   "metadata": {},
   "outputs": [],
   "source": []
  },
  {
   "cell_type": "markdown",
   "metadata": {},
   "source": [
    "# ENDERECO"
   ]
  },
  {
   "cell_type": "code",
   "execution_count": 8,
   "metadata": {},
   "outputs": [
    {
     "data": {
      "text/html": [
       "<div>\n",
       "<style scoped>\n",
       "    .dataframe tbody tr th:only-of-type {\n",
       "        vertical-align: middle;\n",
       "    }\n",
       "\n",
       "    .dataframe tbody tr th {\n",
       "        vertical-align: top;\n",
       "    }\n",
       "\n",
       "    .dataframe thead th {\n",
       "        text-align: right;\n",
       "    }\n",
       "</style>\n",
       "<table border=\"1\" class=\"dataframe\">\n",
       "  <thead>\n",
       "    <tr style=\"text-align: right;\">\n",
       "      <th></th>\n",
       "      <th>nomedep</th>\n",
       "      <th>depadm</th>\n",
       "      <th>mun</th>\n",
       "      <th>codmun</th>\n",
       "      <th>de</th>\n",
       "      <th>CD_ESCOLA</th>\n",
       "      <th>CD_DIRETORIA</th>\n",
       "      <th>CD_DIRETORIA_ESTADUAL</th>\n",
       "      <th>CD_DIRETORIA_SUPVS_PROPR</th>\n",
       "      <th>NM_COMPLETO_ESCOLA</th>\n",
       "      <th>CD_UNIDADE</th>\n",
       "      <th>DS_ENDERECO</th>\n",
       "      <th>COMPLEMENTO</th>\n",
       "      <th>NUMERO</th>\n",
       "      <th>CD_ORIGEM_UNIDADE</th>\n",
       "      <th>CD_ORIGEM_ESCOLA</th>\n",
       "      <th>CD_ORIGEM_ENDERECO</th>\n",
       "      <th>LATITUDE</th>\n",
       "      <th>LONGITUDE</th>\n",
       "    </tr>\n",
       "  </thead>\n",
       "  <tbody>\n",
       "    <tr>\n",
       "      <th>0</th>\n",
       "      <td>ESTADUAL - SE</td>\n",
       "      <td>1</td>\n",
       "      <td>SAO PAULO</td>\n",
       "      <td>100</td>\n",
       "      <td>NORTE 1</td>\n",
       "      <td>36444</td>\n",
       "      <td>10101</td>\n",
       "      <td>10101</td>\n",
       "      <td>10101</td>\n",
       "      <td>GENESIO DE ALMEIDA MOURA DOUTOR</td>\n",
       "      <td>37806</td>\n",
       "      <td>DOMINGOS AREVALO</td>\n",
       "      <td>RUA</td>\n",
       "      <td>862</td>\n",
       "      <td>37806</td>\n",
       "      <td>36444</td>\n",
       "      <td>37866</td>\n",
       "      <td>-23.447</td>\n",
       "      <td>-46.6967</td>\n",
       "    </tr>\n",
       "    <tr>\n",
       "      <th>1</th>\n",
       "      <td>ESTADUAL - SE</td>\n",
       "      <td>1</td>\n",
       "      <td>SAO PAULO</td>\n",
       "      <td>100</td>\n",
       "      <td>LESTE 5</td>\n",
       "      <td>1582</td>\n",
       "      <td>10205</td>\n",
       "      <td>10205</td>\n",
       "      <td>10205</td>\n",
       "      <td>DOMINGOS FAUSTINO SARMIENTO</td>\n",
       "      <td>24902</td>\n",
       "      <td>21 DE ABRIL</td>\n",
       "      <td>RUA</td>\n",
       "      <td>970</td>\n",
       "      <td>24902</td>\n",
       "      <td>1582</td>\n",
       "      <td>24962</td>\n",
       "      <td>-23.5422317000605</td>\n",
       "      <td>-46.6057931815944</td>\n",
       "    </tr>\n",
       "    <tr>\n",
       "      <th>2</th>\n",
       "      <td>ESTADUAL - SE</td>\n",
       "      <td>1</td>\n",
       "      <td>SAO PAULO</td>\n",
       "      <td>100</td>\n",
       "      <td>LESTE 5</td>\n",
       "      <td>2173</td>\n",
       "      <td>10205</td>\n",
       "      <td>10205</td>\n",
       "      <td>10205</td>\n",
       "      <td>JOAO BORGES PROFESSOR</td>\n",
       "      <td>24901</td>\n",
       "      <td>ITAPURA</td>\n",
       "      <td>RUA</td>\n",
       "      <td>976</td>\n",
       "      <td>24901</td>\n",
       "      <td>2173</td>\n",
       "      <td>24961</td>\n",
       "      <td>-23.5473</td>\n",
       "      <td>-46.566</td>\n",
       "    </tr>\n",
       "  </tbody>\n",
       "</table>\n",
       "</div>"
      ],
      "text/plain": [
       "         nomedep depadm        mun codmun       de CD_ESCOLA CD_DIRETORIA  \\\n",
       "0  ESTADUAL - SE      1  SAO PAULO    100  NORTE 1     36444        10101   \n",
       "1  ESTADUAL - SE      1  SAO PAULO    100  LESTE 5      1582        10205   \n",
       "2  ESTADUAL - SE      1  SAO PAULO    100  LESTE 5      2173        10205   \n",
       "\n",
       "  CD_DIRETORIA_ESTADUAL CD_DIRETORIA_SUPVS_PROPR  \\\n",
       "0                 10101                    10101   \n",
       "1                 10205                    10205   \n",
       "2                 10205                    10205   \n",
       "\n",
       "                NM_COMPLETO_ESCOLA CD_UNIDADE        DS_ENDERECO COMPLEMENTO  \\\n",
       "0  GENESIO DE ALMEIDA MOURA DOUTOR      37806  DOMINGOS AREVALO          RUA   \n",
       "1      DOMINGOS FAUSTINO SARMIENTO      24902       21 DE ABRIL          RUA   \n",
       "2            JOAO BORGES PROFESSOR      24901           ITAPURA          RUA   \n",
       "\n",
       "  NUMERO CD_ORIGEM_UNIDADE CD_ORIGEM_ESCOLA CD_ORIGEM_ENDERECO  \\\n",
       "0    862             37806            36444              37866   \n",
       "1    970             24902             1582              24962   \n",
       "2    976             24901             2173              24961   \n",
       "\n",
       "            LATITUDE        LONGITUDE\\n  \n",
       "0            -23.447           -46.6967  \n",
       "1  -23.5422317000605  -46.6057931815944  \n",
       "2           -23.5473            -46.566  "
      ]
     },
     "execution_count": 8,
     "metadata": {},
     "output_type": "execute_result"
    }
   ],
   "source": [
    "arquivo = 'D:\\\\DESAFIO_SEDUC\\\\dados-VERSAO_1\\\\escolas_enderecos\\\\11_escolas_enderecos_0.csv'\n",
    "with open(arquivo, encoding=\"utf8\") as file_in:\n",
    "    lines = []\n",
    "    for line in file_in:\n",
    "        lines.append(line)\n",
    "dados_lines = []\n",
    "len_lines = len(lines[0].split(','))\n",
    "for line in lines[1:]:\n",
    "    line = line.rstrip().split(',')\n",
    "    if len(line) == len_lines:  # linhas com numero incorreto de colunas foram descartadas (1)\n",
    "        dados_lines.append(line)\n",
    "end = pd.DataFrame(data=dados_lines)\n",
    "end.columns = lines[0].split(',')\n",
    "end.head(3)"
   ]
  },
  {
   "cell_type": "code",
   "execution_count": 9,
   "metadata": {},
   "outputs": [],
   "source": [
    "end = end.rename({'CD_ESCOLA': 'id_escola'}, axis=1)\n",
    "end = end.rename({'LONGITUDE\\n': 'LONGITUDE'}, axis=1)\n",
    "end.id_escola = end.id_escola.astype(int)\n",
    "end = end.drop_duplicates(subset=['id_escola'])"
   ]
  },
  {
   "cell_type": "code",
   "execution_count": 10,
   "metadata": {},
   "outputs": [],
   "source": [
    "dic_mun = collections.Counter(end.mun)\n",
    "end['unidades_municipio'] = end.mun.apply(lambda x: dic_mun[x])"
   ]
  },
  {
   "cell_type": "code",
   "execution_count": 11,
   "metadata": {},
   "outputs": [],
   "source": [
    "end = end.loc[:,['id_escola','LATITUDE', 'LONGITUDE','unidades_municipio','mun']]"
   ]
  },
  {
   "cell_type": "code",
   "execution_count": 12,
   "metadata": {},
   "outputs": [
    {
     "data": {
      "text/html": [
       "<div>\n",
       "<style scoped>\n",
       "    .dataframe tbody tr th:only-of-type {\n",
       "        vertical-align: middle;\n",
       "    }\n",
       "\n",
       "    .dataframe tbody tr th {\n",
       "        vertical-align: top;\n",
       "    }\n",
       "\n",
       "    .dataframe thead th {\n",
       "        text-align: right;\n",
       "    }\n",
       "</style>\n",
       "<table border=\"1\" class=\"dataframe\">\n",
       "  <thead>\n",
       "    <tr style=\"text-align: right;\">\n",
       "      <th></th>\n",
       "      <th>id_escola</th>\n",
       "      <th>LATITUDE</th>\n",
       "      <th>LONGITUDE</th>\n",
       "      <th>unidades_municipio</th>\n",
       "      <th>mun</th>\n",
       "    </tr>\n",
       "  </thead>\n",
       "  <tbody>\n",
       "    <tr>\n",
       "      <th>0</th>\n",
       "      <td>36444</td>\n",
       "      <td>-23.447</td>\n",
       "      <td>-46.6967</td>\n",
       "      <td>6626</td>\n",
       "      <td>SAO PAULO</td>\n",
       "    </tr>\n",
       "    <tr>\n",
       "      <th>1</th>\n",
       "      <td>1582</td>\n",
       "      <td>-23.5422317000605</td>\n",
       "      <td>-46.6057931815944</td>\n",
       "      <td>6626</td>\n",
       "      <td>SAO PAULO</td>\n",
       "    </tr>\n",
       "    <tr>\n",
       "      <th>2</th>\n",
       "      <td>2173</td>\n",
       "      <td>-23.5473</td>\n",
       "      <td>-46.566</td>\n",
       "      <td>6626</td>\n",
       "      <td>SAO PAULO</td>\n",
       "    </tr>\n",
       "  </tbody>\n",
       "</table>\n",
       "</div>"
      ],
      "text/plain": [
       "   id_escola           LATITUDE          LONGITUDE  unidades_municipio  \\\n",
       "0      36444            -23.447           -46.6967                6626   \n",
       "1       1582  -23.5422317000605  -46.6057931815944                6626   \n",
       "2       2173           -23.5473            -46.566                6626   \n",
       "\n",
       "         mun  \n",
       "0  SAO PAULO  \n",
       "1  SAO PAULO  \n",
       "2  SAO PAULO  "
      ]
     },
     "execution_count": 12,
     "metadata": {},
     "output_type": "execute_result"
    }
   ],
   "source": [
    "end.head(3)"
   ]
  },
  {
   "cell_type": "code",
   "execution_count": null,
   "metadata": {},
   "outputs": [],
   "source": []
  },
  {
   "cell_type": "code",
   "execution_count": null,
   "metadata": {},
   "outputs": [],
   "source": []
  },
  {
   "cell_type": "code",
   "execution_count": null,
   "metadata": {},
   "outputs": [],
   "source": []
  },
  {
   "cell_type": "markdown",
   "metadata": {},
   "source": [
    "# CLUSTER"
   ]
  },
  {
   "cell_type": "code",
   "execution_count": 13,
   "metadata": {},
   "outputs": [],
   "source": [
    "arquivo = 'D:\\\\DESAFIO_SEDUC\\\\dados-VERSAO_1\\\\cluster_de_escolas_similares\\\\12_MMR_Clusters.csv'\n",
    "cluster = pd.read_csv(arquivo, sep=';')\n",
    "cluster.CD_ESCOLA = cluster.CD_ESCOLA.astype(int)\n",
    "cluster = cluster.rename({'CD_ESCOLA': 'id_escola'}, axis=1)\n",
    "cluster = cluster.drop_duplicates(subset=['id_escola'])"
   ]
  },
  {
   "cell_type": "code",
   "execution_count": 14,
   "metadata": {},
   "outputs": [
    {
     "data": {
      "text/plain": [
       "5056"
      ]
     },
     "execution_count": 14,
     "metadata": {},
     "output_type": "execute_result"
    }
   ],
   "source": [
    "len(set(cluster.id_escola))"
   ]
  },
  {
   "cell_type": "code",
   "execution_count": 15,
   "metadata": {},
   "outputs": [],
   "source": [
    "cluster = cluster.loc[:,['id_escola','NR_CLUSTER']]"
   ]
  },
  {
   "cell_type": "code",
   "execution_count": 16,
   "metadata": {},
   "outputs": [
    {
     "data": {
      "text/html": [
       "<div>\n",
       "<style scoped>\n",
       "    .dataframe tbody tr th:only-of-type {\n",
       "        vertical-align: middle;\n",
       "    }\n",
       "\n",
       "    .dataframe tbody tr th {\n",
       "        vertical-align: top;\n",
       "    }\n",
       "\n",
       "    .dataframe thead th {\n",
       "        text-align: right;\n",
       "    }\n",
       "</style>\n",
       "<table border=\"1\" class=\"dataframe\">\n",
       "  <thead>\n",
       "    <tr style=\"text-align: right;\">\n",
       "      <th></th>\n",
       "      <th>id_escola</th>\n",
       "      <th>NR_CLUSTER</th>\n",
       "    </tr>\n",
       "  </thead>\n",
       "  <tbody>\n",
       "    <tr>\n",
       "      <th>0</th>\n",
       "      <td>24454</td>\n",
       "      <td>1</td>\n",
       "    </tr>\n",
       "    <tr>\n",
       "      <th>1</th>\n",
       "      <td>24466</td>\n",
       "      <td>1</td>\n",
       "    </tr>\n",
       "    <tr>\n",
       "      <th>2</th>\n",
       "      <td>24491</td>\n",
       "      <td>3</td>\n",
       "    </tr>\n",
       "  </tbody>\n",
       "</table>\n",
       "</div>"
      ],
      "text/plain": [
       "   id_escola  NR_CLUSTER\n",
       "0      24454           1\n",
       "1      24466           1\n",
       "2      24491           3"
      ]
     },
     "execution_count": 16,
     "metadata": {},
     "output_type": "execute_result"
    }
   ],
   "source": [
    "cluster.head(3)"
   ]
  },
  {
   "cell_type": "code",
   "execution_count": null,
   "metadata": {},
   "outputs": [],
   "source": []
  },
  {
   "cell_type": "code",
   "execution_count": null,
   "metadata": {},
   "outputs": [],
   "source": []
  },
  {
   "cell_type": "markdown",
   "metadata": {},
   "source": [
    "# CLASSES"
   ]
  },
  {
   "cell_type": "code",
   "execution_count": 17,
   "metadata": {},
   "outputs": [],
   "source": [
    "arquivo = 'dados-VERSAO_1\\matriculas\\/10_Escolas_Classes_Qtde_Alunos.csv'\n",
    "classes = pd.read_csv(arquivo, sep=';')"
   ]
  },
  {
   "cell_type": "code",
   "execution_count": 18,
   "metadata": {},
   "outputs": [],
   "source": [
    "classes = classes.rename({'COD_ESC': 'id_escola'}, axis=1)\n",
    "classes.ANO = classes.ANO.astype(int)\n",
    "classes = classes[classes.ANO == 2019]"
   ]
  },
  {
   "cell_type": "code",
   "execution_count": 19,
   "metadata": {},
   "outputs": [],
   "source": [
    "clas = {}\n",
    "clas['id_escola'] = []\n",
    "clas['qtd_alunos'] = []\n",
    "clas['tipos_classes'] = []\n",
    "\n",
    "for nome, dados in classes.groupby('id_escola'):\n",
    "    clas['id_escola'].append(nome)\n",
    "    clas['qtd_alunos'].append(dados.QTDE_ALUNOS.sum())\n",
    "    clas['tipos_classes'].append(len(set(dados.TIPOCLASSE)))\n",
    "clas = pd.DataFrame(data=clas)"
   ]
  },
  {
   "cell_type": "code",
   "execution_count": 20,
   "metadata": {},
   "outputs": [
    {
     "data": {
      "text/html": [
       "<div>\n",
       "<style scoped>\n",
       "    .dataframe tbody tr th:only-of-type {\n",
       "        vertical-align: middle;\n",
       "    }\n",
       "\n",
       "    .dataframe tbody tr th {\n",
       "        vertical-align: top;\n",
       "    }\n",
       "\n",
       "    .dataframe thead th {\n",
       "        text-align: right;\n",
       "    }\n",
       "</style>\n",
       "<table border=\"1\" class=\"dataframe\">\n",
       "  <thead>\n",
       "    <tr style=\"text-align: right;\">\n",
       "      <th></th>\n",
       "      <th>id_escola</th>\n",
       "      <th>qtd_alunos</th>\n",
       "      <th>tipos_classes</th>\n",
       "    </tr>\n",
       "  </thead>\n",
       "  <tbody>\n",
       "    <tr>\n",
       "      <th>0</th>\n",
       "      <td>12</td>\n",
       "      <td>560</td>\n",
       "      <td>1</td>\n",
       "    </tr>\n",
       "    <tr>\n",
       "      <th>1</th>\n",
       "      <td>24</td>\n",
       "      <td>2167</td>\n",
       "      <td>1</td>\n",
       "    </tr>\n",
       "    <tr>\n",
       "      <th>2</th>\n",
       "      <td>36</td>\n",
       "      <td>2274</td>\n",
       "      <td>2</td>\n",
       "    </tr>\n",
       "  </tbody>\n",
       "</table>\n",
       "</div>"
      ],
      "text/plain": [
       "   id_escola  qtd_alunos  tipos_classes\n",
       "0         12         560              1\n",
       "1         24        2167              1\n",
       "2         36        2274              2"
      ]
     },
     "execution_count": 20,
     "metadata": {},
     "output_type": "execute_result"
    }
   ],
   "source": [
    "clas.head(3)"
   ]
  },
  {
   "cell_type": "code",
   "execution_count": null,
   "metadata": {},
   "outputs": [],
   "source": []
  },
  {
   "cell_type": "code",
   "execution_count": null,
   "metadata": {},
   "outputs": [],
   "source": []
  },
  {
   "cell_type": "code",
   "execution_count": null,
   "metadata": {},
   "outputs": [],
   "source": []
  },
  {
   "cell_type": "markdown",
   "metadata": {},
   "source": [
    "# SCORE DOS GESTORES\n",
    "- Crescente com base no ano atual."
   ]
  },
  {
   "cell_type": "code",
   "execution_count": null,
   "metadata": {},
   "outputs": [],
   "source": []
  },
  {
   "cell_type": "code",
   "execution_count": null,
   "metadata": {},
   "outputs": [],
   "source": []
  },
  {
   "cell_type": "code",
   "execution_count": null,
   "metadata": {},
   "outputs": [],
   "source": []
  },
  {
   "cell_type": "code",
   "execution_count": null,
   "metadata": {},
   "outputs": [],
   "source": []
  },
  {
   "cell_type": "code",
   "execution_count": null,
   "metadata": {},
   "outputs": [],
   "source": []
  },
  {
   "cell_type": "code",
   "execution_count": null,
   "metadata": {},
   "outputs": [],
   "source": []
  },
  {
   "cell_type": "code",
   "execution_count": null,
   "metadata": {},
   "outputs": [],
   "source": []
  },
  {
   "cell_type": "code",
   "execution_count": null,
   "metadata": {},
   "outputs": [],
   "source": []
  },
  {
   "cell_type": "code",
   "execution_count": null,
   "metadata": {},
   "outputs": [],
   "source": []
  }
 ],
 "metadata": {
  "kernelspec": {
   "display_name": "Python 3",
   "language": "python",
   "name": "python3"
  },
  "language_info": {
   "codemirror_mode": {
    "name": "ipython",
    "version": 3
   },
   "file_extension": ".py",
   "mimetype": "text/x-python",
   "name": "python",
   "nbconvert_exporter": "python",
   "pygments_lexer": "ipython3",
   "version": "3.7.3"
  }
 },
 "nbformat": 4,
 "nbformat_minor": 2
}
